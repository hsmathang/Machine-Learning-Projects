{
 "cells": [
  {
   "cell_type": "markdown",
   "id": "abde9e18",
   "metadata": {},
   "source": [
    "# Problema de registro de puntos \n"
   ]
  },
  {
   "cell_type": "code",
   "execution_count": 1,
   "id": "67801422",
   "metadata": {},
   "outputs": [
    {
     "name": "stderr",
     "output_type": "stream",
     "text": [
      "\u001b[32m\u001b[1m  Activating\u001b[22m\u001b[39m new project at `~/Documents/GitHub/Tareaa`\n",
      "\u001b[32m\u001b[1m   Installed\u001b[22m\u001b[39m IntelOpenMP_jll ───────── v2018.0.3+2\n",
      "\u001b[32m\u001b[1m   Installed\u001b[22m\u001b[39m GR_jll ────────────────── v0.64.1+0\n",
      "\u001b[32m\u001b[1m   Installed\u001b[22m\u001b[39m HypergeometricFunctions ─ v0.3.8\n",
      "\u001b[32m\u001b[1m   Installed\u001b[22m\u001b[39m StatsFuns ─────────────── v0.9.16\n",
      "\u001b[32m\u001b[1m   Installed\u001b[22m\u001b[39m FFTW ──────────────────── v1.4.6\n",
      "\u001b[32m\u001b[1m   Installed\u001b[22m\u001b[39m OffsetArrays ──────────── v1.10.8\n",
      "\u001b[32m\u001b[1m   Installed\u001b[22m\u001b[39m JSOSolvers ────────────── v0.7.6\n",
      "\u001b[32m\u001b[1m   Installed\u001b[22m\u001b[39m Ratios ────────────────── v0.4.3\n",
      "\u001b[32m\u001b[1m   Installed\u001b[22m\u001b[39m CaNNOLeS ──────────────── v0.5.3\n",
      "\u001b[32m\u001b[1m   Installed\u001b[22m\u001b[39m MKL_jll ───────────────── v2022.0.0+0\n",
      "\u001b[32m\u001b[1m   Installed\u001b[22m\u001b[39m TimeZones ─────────────── v1.7.2\n",
      "\u001b[32m\u001b[1m   Installed\u001b[22m\u001b[39m AbstractFFTs ──────────── v1.1.0\n",
      "\u001b[32m\u001b[1m   Installed\u001b[22m\u001b[39m MathOptInterface ──────── v1.1.1\n",
      "\u001b[32m\u001b[1m   Installed\u001b[22m\u001b[39m KernelDensity ─────────── v0.6.3\n",
      "\u001b[32m\u001b[1m   Installed\u001b[22m\u001b[39m FFTW_jll ──────────────── v3.3.10+0\n",
      "\u001b[32m\u001b[1m   Installed\u001b[22m\u001b[39m StatsPlots ────────────── v0.14.33\n",
      "\u001b[32m\u001b[1m   Installed\u001b[22m\u001b[39m DualNumbers ───────────── v0.6.8\n",
      "\u001b[32m\u001b[1m   Installed\u001b[22m\u001b[39m MultivariateStats ─────── v0.9.1\n",
      "\u001b[32m\u001b[1m   Installed\u001b[22m\u001b[39m DataValues ────────────── v0.4.13\n",
      "\u001b[32m\u001b[1m   Installed\u001b[22m\u001b[39m Arpack_jll ────────────── v3.5.1+1\n",
      "\u001b[32m\u001b[1m   Installed\u001b[22m\u001b[39m TableOperations ───────── v1.2.0\n",
      "\u001b[32m\u001b[1m   Installed\u001b[22m\u001b[39m AxisAlgorithms ────────── v1.0.1\n",
      "\u001b[32m\u001b[1m   Installed\u001b[22m\u001b[39m Arpack ────────────────── v0.5.3\n",
      "\u001b[32m\u001b[1m   Installed\u001b[22m\u001b[39m WoodburyMatrices ──────── v0.5.5\n",
      "\u001b[32m\u001b[1m   Installed\u001b[22m\u001b[39m Krylov ────────────────── v0.7.13\n",
      "\u001b[32m\u001b[1m   Installed\u001b[22m\u001b[39m Plots ─────────────────── v1.27.3\n",
      "\u001b[32m\u001b[1m   Installed\u001b[22m\u001b[39m Interpolations ────────── v0.13.5\n",
      "\u001b[32m\u001b[1m   Installed\u001b[22m\u001b[39m Clustering ────────────── v0.14.2\n",
      "\u001b[32m\u001b[1m   Installed\u001b[22m\u001b[39m GR ────────────────────── v0.64.1\n",
      "\u001b[32m\u001b[1m    Building\u001b[22m\u001b[39m GR ───────→ `~/.julia/scratchspaces/44cfe95a-1eb2-52ea-b672-e2afdf69b78f/df5f5b0450c489fe6ed59a6c0a9804159c22684d/build.log`\n",
      "\u001b[32m\u001b[1m    Building\u001b[22m\u001b[39m TimeZones → `~/.julia/scratchspaces/44cfe95a-1eb2-52ea-b672-e2afdf69b78f/2d4b6de8676b34525ac518de36006dc2e89c7e2e/build.log`\n",
      "\u001b[32m\u001b[1mPrecompiling\u001b[22m\u001b[39m project...\n",
      "\u001b[32m  ✓ \u001b[39mRatios\n",
      "\u001b[32m  ✓ \u001b[39mWoodburyMatrices\n",
      "\u001b[32m  ✓ \u001b[39mAbstractFFTs\n",
      "\u001b[32m  ✓ \u001b[39mDataValues\n",
      "\u001b[32m  ✓ \u001b[39mIntelOpenMP_jll\n",
      "\u001b[32m  ✓ \u001b[39mOffsetArrays\n",
      "\u001b[32m  ✓ \u001b[39mArpack_jll\n",
      "\u001b[32m  ✓ \u001b[39mFFTW_jll\n",
      "\u001b[32m  ✓ \u001b[39mTableOperations\n",
      "\u001b[32m  ✓ \u001b[39mKrylov\n",
      "\u001b[32m  ✓ \u001b[39mAxisAlgorithms\n",
      "\u001b[32m  ✓ \u001b[39mMKL_jll\n",
      "\u001b[32m  ✓ \u001b[39mArpack\n",
      "\u001b[91m  ✗ \u001b[39mGR_jll\n",
      "\u001b[32m  ✓ \u001b[39mCaNNOLeS\n",
      "\u001b[32m  ✓ \u001b[39mJSOSolvers\n",
      "\u001b[32m  ✓ \u001b[39mClustering\n",
      "\u001b[32m  ✓ \u001b[39mDualNumbers\n",
      "\u001b[32m  ✓ \u001b[39mInterpolations\n",
      "\u001b[32m  ✓ \u001b[39mMultivariateStats\n",
      "\u001b[32m  ✓ \u001b[39mHypergeometricFunctions\n",
      "\u001b[32m  ✓ \u001b[39mFFTW\n",
      "\u001b[32m  ✓ \u001b[39mGR\n",
      "\u001b[32m  ✓ \u001b[39mStatsFuns\n",
      "\u001b[32m  ✓ \u001b[39mDistributions\n",
      "\u001b[32m  ✓ \u001b[39mKernelDensity\n",
      "\u001b[32m  ✓ \u001b[39mMathOptInterface\n",
      "\u001b[32m  ✓ \u001b[39mPlots\n",
      "\u001b[32m  ✓ \u001b[39mJuMP\n",
      "\u001b[32m  ✓ \u001b[39mNLPModelsJuMP\n",
      "\u001b[32m  ✓ \u001b[39mStatsPlots\n",
      "  30 dependencies successfully precompiled in 116 seconds (178 already precompiled)\n",
      "  \u001b[91m1\u001b[39m dependency errored. To see a full report either run `import Pkg; Pkg.precompile()` or load the package\n"
     ]
    }
   ],
   "source": [
    "using LinearAlgebra\n",
    "using Pkg\n",
    "Pkg.activate(\".\")\n",
    "Pkg.instantiate()\n"
   ]
  },
  {
   "cell_type": "code",
   "execution_count": 359,
   "id": "d31baf84",
   "metadata": {},
   "outputs": [],
   "source": [
    "#####necesito recoger los puntos###\n",
    "d=2; # dimension de los puntos\n",
    "N=3; # la cantidad d puntos\n",
    "X=[4 0;0 -1;1 0]'  #100*rand(2,N); Puntos que se quieren mover\n",
    "Y=[0 0;0 2;-1 0]' #10*rand(2,N); #matriz de puntos objetivo-Fijos\n",
    "R=rand(d,d); #rotation matrix\n"
   ]
  },
  {
   "cell_type": "code",
   "execution_count": 360,
   "id": "74b0c60e",
   "metadata": {},
   "outputs": [],
   "source": [
    "### construit los vectores de media, \n",
    "# matriz covarianza y vecotres de varianza\n",
    "MX=zeros(1,2)\n",
    "MY=zeros(1,2)\n",
    "\n",
    "MX=1/N *sum(dims=d, X)';\n",
    "MY=1/N *sum(dims=d, Y)'; #la media de los puntos\n",
    "### las varianzas\n",
    "VarX=1/N * sum(norm(X[:,i]'-MX,2)^2 for i in 1:N);\n",
    "VarY=1/N * sum(norm(Y[:,i]'-MY,2)^2 for i in 1:N);\n",
    " using Statistics\n",
    "\n",
    "CovXY=1/N * cov(Y',X'); #calcula la matriz de cov de X y Y\n",
    "#obs que se transponen para hacer coincidir las dimensiones\n",
    "\n",
    "\n",
    "\n",
    "    "
   ]
  },
  {
   "cell_type": "code",
   "execution_count": 361,
   "id": "4dfa70f8",
   "metadata": {},
   "outputs": [
    {
     "data": {
      "text/plain": [
       "2×2 Matrix{Float64}:\n",
       "  0.666667  -3.33333\n",
       " -0.333333  -1.33333"
      ]
     },
     "execution_count": 361,
     "metadata": {},
     "output_type": "execute_result"
    }
   ],
   "source": [
    "H1=zeros(Float64,3,2)\n",
    "H2=zeros(Float64,3,2)\n",
    "for i in 1:N\n",
    "    H1[i,:]=X[:,i]-MX'\n",
    "    H2[i,:]=Y[:,i]-MY'\n",
    "    \n",
    "end\n",
    "H=H1'*H2\n",
    "\n"
   ]
  },
  {
   "cell_type": "code",
   "execution_count": 362,
   "id": "56d1dbbc",
   "metadata": {},
   "outputs": [
    {
     "data": {
      "text/plain": [
       "2×2 Matrix{Float64}:\n",
       "  0.478852  -0.877896\n",
       " -0.877896  -0.478852"
      ]
     },
     "execution_count": 362,
     "metadata": {},
     "output_type": "execute_result"
    }
   ],
   "source": [
    "E=svd(H)\n",
    "u, s, v=E\n",
    "R=v*u'\n"
   ]
  },
  {
   "cell_type": "code",
   "execution_count": 390,
   "id": "a8f33abe",
   "metadata": {},
   "outputs": [
    {
     "name": "stdout",
     "output_type": "stream",
     "text": [
      "eldeterminante de UV' es -1 y la matriz de Rotacion es \n",
      " R=[-0.21693045781865622 0.9761870601839528; -0.9761870601839528 -0.21693045781865639]"
     ]
    }
   ],
   "source": [
    "if  sign(det(u)*det(v'))==1\n",
    " \n",
    "    R=v*u';\n",
    "    print(\"eldeterminante de UV' es 1 y la matriz de Rotacion es R=$R\")\n",
    "else \n",
    "        \n",
    "\n",
    "    pseudoI= Vector{Int64}(ones(d-1)) \n",
    "    push!(pseudoI,-1)\n",
    "    S=diagm(0 => pseudoI)\n",
    "    R=v*S*u';\n",
    "    print(\"eldeterminante de UV' es -1 y la matriz de Rotacion es \\n R=$R\")\n",
    "end\n"
   ]
  },
  {
   "cell_type": "code",
   "execution_count": 389,
   "id": "ccf13be3",
   "metadata": {},
   "outputs": [
    {
     "data": {
      "text/plain": [
       "1.7894652726688387"
      ]
     },
     "execution_count": 389,
     "metadata": {},
     "output_type": "execute_result"
    }
   ],
   "source": [
    "theta=acos(R[1,1])\n"
   ]
  },
  {
   "cell_type": "code",
   "execution_count": 384,
   "id": "7eafe5d9",
   "metadata": {},
   "outputs": [
    {
     "name": "stdout",
     "output_type": "stream",
     "text": [
      "El ángulo de la rotación es :\n",
      " Theta=1.7894652726688387"
     ]
    },
    {
     "data": {
      "text/plain": [
       "traslation (generic function with 1 method)"
      ]
     },
     "execution_count": 384,
     "metadata": {},
     "output_type": "execute_result"
    }
   ],
   "source": [
    "\n",
    "\n",
    "Rth(theta)=[cos(theta) -sin(theta); sin(theta) cos(theta)]\n",
    "print(\"El ángulo de la rotación es :\\n Theta=$theta\")\n",
    "traslation(theta)=MY'-Rth(theta)*MX'"
   ]
  },
  {
   "cell_type": "code",
   "execution_count": 385,
   "id": "f09918c2",
   "metadata": {},
   "outputs": [
    {
     "data": {
      "text/plain": [
       "2×2 Matrix{Float64}:\n",
       " -0.21693   -0.976187\n",
       "  0.976187  -0.21693"
      ]
     },
     "execution_count": 385,
     "metadata": {},
     "output_type": "execute_result"
    }
   ],
   "source": [
    "Rth(theta)\n"
   ]
  },
  {
   "cell_type": "code",
   "execution_count": 386,
   "id": "d8cde9f0",
   "metadata": {},
   "outputs": [
    {
     "data": {
      "text/plain": [
       "2×1 Matrix{Float64}:\n",
       " 0.3536131164257446\n",
       " 2.221334947700369"
      ]
     },
     "execution_count": 386,
     "metadata": {},
     "output_type": "execute_result"
    }
   ],
   "source": [
    "t=MY'-R*MX'"
   ]
  },
  {
   "cell_type": "code",
   "execution_count": 387,
   "id": "c5e74c2c",
   "metadata": {},
   "outputs": [
    {
     "data": {
      "text/plain": [
       "2×3 Matrix{Float64}:\n",
       " -0.514109  -0.622574  0.136683\n",
       " -1.68341    2.43827   1.24515"
      ]
     },
     "execution_count": 387,
     "metadata": {},
     "output_type": "execute_result"
    }
   ],
   "source": [
    "Rotado=R*X\n",
    "for i in 1:N\n",
    "Rotado[:,i]=Rotado[:,i]+t\n",
    "end\n",
    "Rotado"
   ]
  },
  {
   "cell_type": "code",
   "execution_count": null,
   "id": "ab623a92",
   "metadata": {},
   "outputs": [],
   "source": []
  },
  {
   "cell_type": "code",
   "execution_count": 370,
   "id": "34faa47e",
   "metadata": {},
   "outputs": [
    {
     "data": {
      "text/plain": [
       "2×3 adjoint(::Matrix{Int64}) with eltype Int64:\n",
       " 0  0  -1\n",
       " 0  2   0"
      ]
     },
     "execution_count": 370,
     "metadata": {},
     "output_type": "execute_result"
    }
   ],
   "source": [
    " Rota=Rth(0)*X\n",
    "\n",
    "Y"
   ]
  },
  {
   "cell_type": "code",
   "execution_count": 393,
   "id": "a75bccd8",
   "metadata": {},
   "outputs": [],
   "source": [
    "for j in 0:0.8:theta\n",
    "    Rota=Rth(j)*X\n",
    "    for i in 1:N\n",
    "        Rota[:,i]=Rota[:,i]+traslation(j)\n",
    "    end\n",
    "    scatter(Rota[1,:],Rota[2,:])\n",
    "end"
   ]
  },
  {
   "cell_type": "code",
   "execution_count": null,
   "id": "8f8579df",
   "metadata": {},
   "outputs": [],
   "source": []
  },
  {
   "cell_type": "code",
   "execution_count": 381,
   "id": "af6ac10a",
   "metadata": {},
   "outputs": [
    {
     "data": {
      "image/svg+xml": [
       "<?xml version=\"1.0\" encoding=\"utf-8\"?>\n",
       "<svg xmlns=\"http://www.w3.org/2000/svg\" xmlns:xlink=\"http://www.w3.org/1999/xlink\" width=\"600\" height=\"400\" viewBox=\"0 0 2400 1600\">\n",
       "<defs>\n",
       "  <clipPath id=\"clip670\">\n",
       "    <rect x=\"0\" y=\"0\" width=\"2400\" height=\"1600\"/>\n",
       "  </clipPath>\n",
       "</defs>\n",
       "<path clip-path=\"url(#clip670)\" d=\"\n",
       "M0 1600 L2400 1600 L2400 0 L0 0  Z\n",
       "  \" fill=\"#ffffff\" fill-rule=\"evenodd\" fill-opacity=\"1\"/>\n",
       "<defs>\n",
       "  <clipPath id=\"clip671\">\n",
       "    <rect x=\"480\" y=\"0\" width=\"1681\" height=\"1600\"/>\n",
       "  </clipPath>\n",
       "</defs>\n",
       "<path clip-path=\"url(#clip670)\" d=\"\n",
       "M147.478 1486.45 L2352.76 1486.45 L2352.76 47.2441 L147.478 47.2441  Z\n",
       "  \" fill=\"#ffffff\" fill-rule=\"evenodd\" fill-opacity=\"1\"/>\n",
       "<defs>\n",
       "  <clipPath id=\"clip672\">\n",
       "    <rect x=\"147\" y=\"47\" width=\"2206\" height=\"1440\"/>\n",
       "  </clipPath>\n",
       "</defs>\n",
       "<polyline clip-path=\"url(#clip672)\" style=\"stroke:#000000; stroke-linecap:butt; stroke-linejoin:round; stroke-width:2; stroke-opacity:0.1; fill:none\" points=\"\n",
       "  209.891,1486.45 209.891,47.2441 \n",
       "  \"/>\n",
       "<polyline clip-path=\"url(#clip672)\" style=\"stroke:#000000; stroke-linecap:butt; stroke-linejoin:round; stroke-width:2; stroke-opacity:0.1; fill:none\" points=\"\n",
       "  625.982,1486.45 625.982,47.2441 \n",
       "  \"/>\n",
       "<polyline clip-path=\"url(#clip672)\" style=\"stroke:#000000; stroke-linecap:butt; stroke-linejoin:round; stroke-width:2; stroke-opacity:0.1; fill:none\" points=\"\n",
       "  1042.07,1486.45 1042.07,47.2441 \n",
       "  \"/>\n",
       "<polyline clip-path=\"url(#clip672)\" style=\"stroke:#000000; stroke-linecap:butt; stroke-linejoin:round; stroke-width:2; stroke-opacity:0.1; fill:none\" points=\"\n",
       "  1458.16,1486.45 1458.16,47.2441 \n",
       "  \"/>\n",
       "<polyline clip-path=\"url(#clip672)\" style=\"stroke:#000000; stroke-linecap:butt; stroke-linejoin:round; stroke-width:2; stroke-opacity:0.1; fill:none\" points=\"\n",
       "  1874.25,1486.45 1874.25,47.2441 \n",
       "  \"/>\n",
       "<polyline clip-path=\"url(#clip672)\" style=\"stroke:#000000; stroke-linecap:butt; stroke-linejoin:round; stroke-width:2; stroke-opacity:0.1; fill:none\" points=\"\n",
       "  2290.34,1486.45 2290.34,47.2441 \n",
       "  \"/>\n",
       "<polyline clip-path=\"url(#clip670)\" style=\"stroke:#000000; stroke-linecap:butt; stroke-linejoin:round; stroke-width:4; stroke-opacity:1; fill:none\" points=\"\n",
       "  147.478,1486.45 2352.76,1486.45 \n",
       "  \"/>\n",
       "<polyline clip-path=\"url(#clip670)\" style=\"stroke:#000000; stroke-linecap:butt; stroke-linejoin:round; stroke-width:4; stroke-opacity:1; fill:none\" points=\"\n",
       "  209.891,1486.45 209.891,1467.55 \n",
       "  \"/>\n",
       "<polyline clip-path=\"url(#clip670)\" style=\"stroke:#000000; stroke-linecap:butt; stroke-linejoin:round; stroke-width:4; stroke-opacity:1; fill:none\" points=\"\n",
       "  625.982,1486.45 625.982,1467.55 \n",
       "  \"/>\n",
       "<polyline clip-path=\"url(#clip670)\" style=\"stroke:#000000; stroke-linecap:butt; stroke-linejoin:round; stroke-width:4; stroke-opacity:1; fill:none\" points=\"\n",
       "  1042.07,1486.45 1042.07,1467.55 \n",
       "  \"/>\n",
       "<polyline clip-path=\"url(#clip670)\" style=\"stroke:#000000; stroke-linecap:butt; stroke-linejoin:round; stroke-width:4; stroke-opacity:1; fill:none\" points=\"\n",
       "  1458.16,1486.45 1458.16,1467.55 \n",
       "  \"/>\n",
       "<polyline clip-path=\"url(#clip670)\" style=\"stroke:#000000; stroke-linecap:butt; stroke-linejoin:round; stroke-width:4; stroke-opacity:1; fill:none\" points=\"\n",
       "  1874.25,1486.45 1874.25,1467.55 \n",
       "  \"/>\n",
       "<polyline clip-path=\"url(#clip670)\" style=\"stroke:#000000; stroke-linecap:butt; stroke-linejoin:round; stroke-width:4; stroke-opacity:1; fill:none\" points=\"\n",
       "  2290.34,1486.45 2290.34,1467.55 \n",
       "  \"/>\n",
       "<path clip-path=\"url(#clip670)\" d=\"M179.649 1532.02 L209.324 1532.02 L209.324 1535.95 L179.649 1535.95 L179.649 1532.02 Z\" fill=\"#000000\" fill-rule=\"evenodd\" fill-opacity=\"1\" /><path clip-path=\"url(#clip670)\" d=\"M220.227 1544.91 L227.866 1544.91 L227.866 1518.55 L219.556 1520.21 L219.556 1515.95 L227.82 1514.29 L232.495 1514.29 L232.495 1544.91 L240.134 1544.91 L240.134 1548.85 L220.227 1548.85 L220.227 1544.91 Z\" fill=\"#000000\" fill-rule=\"evenodd\" fill-opacity=\"1\" /><path clip-path=\"url(#clip670)\" d=\"M625.982 1517.37 Q622.371 1517.37 620.542 1520.93 Q618.736 1524.47 618.736 1531.6 Q618.736 1538.71 620.542 1542.27 Q622.371 1545.82 625.982 1545.82 Q629.616 1545.82 631.421 1542.27 Q633.25 1538.71 633.25 1531.6 Q633.25 1524.47 631.421 1520.93 Q629.616 1517.37 625.982 1517.37 M625.982 1513.66 Q631.792 1513.66 634.847 1518.27 Q637.926 1522.85 637.926 1531.6 Q637.926 1540.33 634.847 1544.94 Q631.792 1549.52 625.982 1549.52 Q620.171 1549.52 617.093 1544.94 Q614.037 1540.33 614.037 1531.6 Q614.037 1522.85 617.093 1518.27 Q620.171 1513.66 625.982 1513.66 Z\" fill=\"#000000\" fill-rule=\"evenodd\" fill-opacity=\"1\" /><path clip-path=\"url(#clip670)\" d=\"M1032.45 1544.91 L1040.09 1544.91 L1040.09 1518.55 L1031.78 1520.21 L1031.78 1515.95 L1040.05 1514.29 L1044.72 1514.29 L1044.72 1544.91 L1052.36 1544.91 L1052.36 1548.85 L1032.45 1548.85 L1032.45 1544.91 Z\" fill=\"#000000\" fill-rule=\"evenodd\" fill-opacity=\"1\" /><path clip-path=\"url(#clip670)\" d=\"M1452.81 1544.91 L1469.13 1544.91 L1469.13 1548.85 L1447.19 1548.85 L1447.19 1544.91 Q1449.85 1542.16 1454.44 1537.53 Q1459.04 1532.88 1460.22 1531.53 Q1462.47 1529.01 1463.35 1527.27 Q1464.25 1525.51 1464.25 1523.82 Q1464.25 1521.07 1462.31 1519.33 Q1460.38 1517.6 1457.28 1517.6 Q1455.08 1517.6 1452.63 1518.36 Q1450.2 1519.13 1447.42 1520.68 L1447.42 1515.95 Q1450.25 1514.82 1452.7 1514.24 Q1455.15 1513.66 1457.19 1513.66 Q1462.56 1513.66 1465.75 1516.35 Q1468.95 1519.03 1468.95 1523.52 Q1468.95 1525.65 1468.14 1527.57 Q1467.35 1529.47 1465.25 1532.07 Q1464.67 1532.74 1461.56 1535.95 Q1458.46 1539.15 1452.81 1544.91 Z\" fill=\"#000000\" fill-rule=\"evenodd\" fill-opacity=\"1\" /><path clip-path=\"url(#clip670)\" d=\"M1878.5 1530.21 Q1881.86 1530.93 1883.73 1533.2 Q1885.63 1535.47 1885.63 1538.8 Q1885.63 1543.92 1882.11 1546.72 Q1878.59 1549.52 1872.11 1549.52 Q1869.94 1549.52 1867.62 1549.08 Q1865.33 1548.66 1862.87 1547.81 L1862.87 1543.29 Q1864.82 1544.43 1867.13 1545.01 Q1869.45 1545.58 1871.97 1545.58 Q1876.37 1545.58 1878.66 1543.85 Q1880.98 1542.11 1880.98 1538.8 Q1880.98 1535.75 1878.82 1534.03 Q1876.69 1532.3 1872.87 1532.3 L1868.85 1532.3 L1868.85 1528.45 L1873.06 1528.45 Q1876.51 1528.45 1878.34 1527.09 Q1880.17 1525.7 1880.17 1523.11 Q1880.17 1520.45 1878.27 1519.03 Q1876.39 1517.6 1872.87 1517.6 Q1870.95 1517.6 1868.75 1518.01 Q1866.56 1518.43 1863.92 1519.31 L1863.92 1515.14 Q1866.58 1514.4 1868.89 1514.03 Q1871.23 1513.66 1873.29 1513.66 Q1878.62 1513.66 1881.72 1516.09 Q1884.82 1518.5 1884.82 1522.62 Q1884.82 1525.49 1883.18 1527.48 Q1881.53 1529.45 1878.5 1530.21 Z\" fill=\"#000000\" fill-rule=\"evenodd\" fill-opacity=\"1\" /><path clip-path=\"url(#clip670)\" d=\"M2293.35 1518.36 L2281.55 1536.81 L2293.35 1536.81 L2293.35 1518.36 M2292.12 1514.29 L2298 1514.29 L2298 1536.81 L2302.93 1536.81 L2302.93 1540.7 L2298 1540.7 L2298 1548.85 L2293.35 1548.85 L2293.35 1540.7 L2277.75 1540.7 L2277.75 1536.19 L2292.12 1514.29 Z\" fill=\"#000000\" fill-rule=\"evenodd\" fill-opacity=\"1\" /><polyline clip-path=\"url(#clip672)\" style=\"stroke:#000000; stroke-linecap:butt; stroke-linejoin:round; stroke-width:2; stroke-opacity:0.1; fill:none\" points=\"\n",
       "  147.478,1261.51 2352.76,1261.51 \n",
       "  \"/>\n",
       "<polyline clip-path=\"url(#clip672)\" style=\"stroke:#000000; stroke-linecap:butt; stroke-linejoin:round; stroke-width:2; stroke-opacity:0.1; fill:none\" points=\"\n",
       "  147.478,921.266 2352.76,921.266 \n",
       "  \"/>\n",
       "<polyline clip-path=\"url(#clip672)\" style=\"stroke:#000000; stroke-linecap:butt; stroke-linejoin:round; stroke-width:2; stroke-opacity:0.1; fill:none\" points=\"\n",
       "  147.478,581.017 2352.76,581.017 \n",
       "  \"/>\n",
       "<polyline clip-path=\"url(#clip672)\" style=\"stroke:#000000; stroke-linecap:butt; stroke-linejoin:round; stroke-width:2; stroke-opacity:0.1; fill:none\" points=\"\n",
       "  147.478,240.769 2352.76,240.769 \n",
       "  \"/>\n",
       "<polyline clip-path=\"url(#clip670)\" style=\"stroke:#000000; stroke-linecap:butt; stroke-linejoin:round; stroke-width:4; stroke-opacity:1; fill:none\" points=\"\n",
       "  147.478,1486.45 147.478,47.2441 \n",
       "  \"/>\n",
       "<polyline clip-path=\"url(#clip670)\" style=\"stroke:#000000; stroke-linecap:butt; stroke-linejoin:round; stroke-width:4; stroke-opacity:1; fill:none\" points=\"\n",
       "  147.478,1261.51 166.376,1261.51 \n",
       "  \"/>\n",
       "<polyline clip-path=\"url(#clip670)\" style=\"stroke:#000000; stroke-linecap:butt; stroke-linejoin:round; stroke-width:4; stroke-opacity:1; fill:none\" points=\"\n",
       "  147.478,921.266 166.376,921.266 \n",
       "  \"/>\n",
       "<polyline clip-path=\"url(#clip670)\" style=\"stroke:#000000; stroke-linecap:butt; stroke-linejoin:round; stroke-width:4; stroke-opacity:1; fill:none\" points=\"\n",
       "  147.478,581.017 166.376,581.017 \n",
       "  \"/>\n",
       "<polyline clip-path=\"url(#clip670)\" style=\"stroke:#000000; stroke-linecap:butt; stroke-linejoin:round; stroke-width:4; stroke-opacity:1; fill:none\" points=\"\n",
       "  147.478,240.769 166.376,240.769 \n",
       "  \"/>\n",
       "<path clip-path=\"url(#clip670)\" d=\"M50.9921 1261.97 L80.6679 1261.97 L80.6679 1265.9 L50.9921 1265.9 L50.9921 1261.97 Z\" fill=\"#000000\" fill-rule=\"evenodd\" fill-opacity=\"1\" /><path clip-path=\"url(#clip670)\" d=\"M91.5706 1274.86 L99.2095 1274.86 L99.2095 1248.49 L90.8993 1250.16 L90.8993 1245.9 L99.1632 1244.23 L103.839 1244.23 L103.839 1274.86 L111.478 1274.86 L111.478 1278.79 L91.5706 1278.79 L91.5706 1274.86 Z\" fill=\"#000000\" fill-rule=\"evenodd\" fill-opacity=\"1\" /><path clip-path=\"url(#clip670)\" d=\"M99.5335 907.064 Q95.9224 907.064 94.0937 910.629 Q92.2882 914.171 92.2882 921.3 Q92.2882 928.407 94.0937 931.972 Q95.9224 935.513 99.5335 935.513 Q103.168 935.513 104.973 931.972 Q106.802 928.407 106.802 921.3 Q106.802 914.171 104.973 910.629 Q103.168 907.064 99.5335 907.064 M99.5335 903.361 Q105.344 903.361 108.399 907.967 Q111.478 912.55 111.478 921.3 Q111.478 930.027 108.399 934.634 Q105.344 939.217 99.5335 939.217 Q93.7234 939.217 90.6447 934.634 Q87.5892 930.027 87.5892 921.3 Q87.5892 912.55 90.6447 907.967 Q93.7234 903.361 99.5335 903.361 Z\" fill=\"#000000\" fill-rule=\"evenodd\" fill-opacity=\"1\" /><path clip-path=\"url(#clip670)\" d=\"M91.5706 594.362 L99.2095 594.362 L99.2095 567.996 L90.8993 569.663 L90.8993 565.404 L99.1632 563.737 L103.839 563.737 L103.839 594.362 L111.478 594.362 L111.478 598.297 L91.5706 598.297 L91.5706 594.362 Z\" fill=\"#000000\" fill-rule=\"evenodd\" fill-opacity=\"1\" /><path clip-path=\"url(#clip670)\" d=\"M95.1586 254.113 L111.478 254.113 L111.478 258.049 L89.5336 258.049 L89.5336 254.113 Q92.1956 251.359 96.7789 246.729 Q101.385 242.076 102.566 240.734 Q104.811 238.211 105.691 236.475 Q106.594 234.715 106.594 233.026 Q106.594 230.271 104.649 228.535 Q102.728 226.799 99.6261 226.799 Q97.4271 226.799 94.9734 227.563 Q92.5428 228.326 89.7651 229.877 L89.7651 225.155 Q92.5891 224.021 95.0428 223.442 Q97.4965 222.864 99.5335 222.864 Q104.904 222.864 108.098 225.549 Q111.293 228.234 111.293 232.725 Q111.293 234.854 110.483 236.775 Q109.696 238.674 107.589 241.266 Q107.01 241.937 103.909 245.155 Q100.807 248.349 95.1586 254.113 Z\" fill=\"#000000\" fill-rule=\"evenodd\" fill-opacity=\"1\" /><circle clip-path=\"url(#clip672)\" cx=\"625.982\" cy=\"921.266\" r=\"14\" fill=\"#ff0000\" fill-rule=\"evenodd\" fill-opacity=\"1\" stroke=\"#000000\" stroke-opacity=\"1\" stroke-width=\"3.2\"/>\n",
       "<circle clip-path=\"url(#clip672)\" cx=\"625.982\" cy=\"240.769\" r=\"14\" fill=\"#ff0000\" fill-rule=\"evenodd\" fill-opacity=\"1\" stroke=\"#000000\" stroke-opacity=\"1\" stroke-width=\"3.2\"/>\n",
       "<circle clip-path=\"url(#clip672)\" cx=\"209.891\" cy=\"921.266\" r=\"14\" fill=\"#ff0000\" fill-rule=\"evenodd\" fill-opacity=\"1\" stroke=\"#000000\" stroke-opacity=\"1\" stroke-width=\"3.2\"/>\n",
       "<circle clip-path=\"url(#clip672)\" cx=\"830.43\" cy=\"1445.72\" r=\"14\" fill=\"#008000\" fill-rule=\"evenodd\" fill-opacity=\"1\" stroke=\"#000000\" stroke-opacity=\"1\" stroke-width=\"3.2\"/>\n",
       "<circle clip-path=\"url(#clip672)\" cx=\"398.731\" cy=\"87.9763\" r=\"14\" fill=\"#008000\" fill-rule=\"evenodd\" fill-opacity=\"1\" stroke=\"#000000\" stroke-opacity=\"1\" stroke-width=\"3.2\"/>\n",
       "<circle clip-path=\"url(#clip672)\" cx=\"232.693\" cy=\"549.608\" r=\"14\" fill=\"#008000\" fill-rule=\"evenodd\" fill-opacity=\"1\" stroke=\"#000000\" stroke-opacity=\"1\" stroke-width=\"3.2\"/>\n",
       "<circle clip-path=\"url(#clip672)\" cx=\"2290.34\" cy=\"921.266\" r=\"14\" fill=\"#0000ff\" fill-rule=\"evenodd\" fill-opacity=\"1\" stroke=\"#000000\" stroke-opacity=\"1\" stroke-width=\"3.2\"/>\n",
       "<circle clip-path=\"url(#clip672)\" cx=\"625.982\" cy=\"1261.51\" r=\"14\" fill=\"#0000ff\" fill-rule=\"evenodd\" fill-opacity=\"1\" stroke=\"#000000\" stroke-opacity=\"1\" stroke-width=\"3.2\"/>\n",
       "<circle clip-path=\"url(#clip672)\" cx=\"1042.07\" cy=\"921.266\" r=\"14\" fill=\"#0000ff\" fill-rule=\"evenodd\" fill-opacity=\"1\" stroke=\"#000000\" stroke-opacity=\"1\" stroke-width=\"3.2\"/>\n",
       "</svg>\n"
      ]
     },
     "execution_count": 381,
     "metadata": {},
     "output_type": "execute_result"
    }
   ],
   "source": [
    "scatter(Y[1,:], Y[2,:], color=\"red\", leg=false)\n",
    "scatter!(Rotado[1,:], Rotado[2,:], color =\"green\" )\n",
    "scatter!(X[1,:], X[2,:], color =\"blue\" )"
   ]
  },
  {
   "cell_type": "code",
   "execution_count": 4,
   "id": "2c9add30",
   "metadata": {
    "scrolled": true
   },
   "outputs": [
    {
     "name": "stderr",
     "output_type": "stream",
     "text": [
      "\u001b[32m\u001b[1m    Updating\u001b[22m\u001b[39m registry at `~/.julia/registries/General.toml`\n",
      "\u001b[32m\u001b[1m   Resolving\u001b[22m\u001b[39m package versions...\n",
      "\u001b[32m\u001b[1m   Installed\u001b[22m\u001b[39m Qt5Base_jll ─ v5.15.3+1\n",
      "\u001b[32m\u001b[1m    Updating\u001b[22m\u001b[39m `~/Documents/GitHub/Tareaa/Project.toml`\n",
      " \u001b[90m [ea2cea3b] \u001b[39m\u001b[93m↑ Qt5Base_jll v5.15.3+0 ⇒ v5.15.3+1\u001b[39m\n",
      "\u001b[32m\u001b[1m    Updating\u001b[22m\u001b[39m `~/Documents/GitHub/Tareaa/Manifest.toml`\n",
      " \u001b[90m [ea2cea3b] \u001b[39m\u001b[93m↑ Qt5Base_jll v5.15.3+0 ⇒ v5.15.3+1\u001b[39m\n",
      "\u001b[32m\u001b[1mPrecompiling\u001b[22m\u001b[39m project...\n",
      "\u001b[32m  ✓ \u001b[39mQt5Base_jll\n",
      "\u001b[91m  ✗ \u001b[39mGR_jll\n",
      "  1 dependency successfully precompiled in 5 seconds (207 already precompiled)\n",
      "  \u001b[91m1\u001b[39m dependency errored. To see a full report either run `import Pkg; Pkg.precompile()` or load the package\n",
      "┌ Info: Precompiling Plots [91a5bcdd-55d7-5caf-9e0b-520d859cae80]\n",
      "└ @ Base loading.jl:1423\n"
     ]
    }
   ],
   "source": [
    "using Pkg\n",
    "Pkg.add(\"Plots\")\n",
    "using Plots\n"
   ]
  },
  {
   "cell_type": "code",
   "execution_count": 5,
   "id": "a8f8f8f8",
   "metadata": {
    "scrolled": true
   },
   "outputs": [
    {
     "data": {
      "image/svg+xml": [
       "<?xml version=\"1.0\" encoding=\"utf-8\"?>\n",
       "<svg xmlns=\"http://www.w3.org/2000/svg\" xmlns:xlink=\"http://www.w3.org/1999/xlink\" width=\"600\" height=\"400\" viewBox=\"0 0 2400 1600\">\n",
       "<defs>\n",
       "  <clipPath id=\"clip790\">\n",
       "    <rect x=\"0\" y=\"0\" width=\"2400\" height=\"1600\"/>\n",
       "  </clipPath>\n",
       "</defs>\n",
       "<path clip-path=\"url(#clip790)\" d=\"\n",
       "M0 1600 L2400 1600 L2400 0 L0 0  Z\n",
       "  \" fill=\"#ffffff\" fill-rule=\"evenodd\" fill-opacity=\"1\"/>\n",
       "<defs>\n",
       "  <clipPath id=\"clip791\">\n",
       "    <rect x=\"480\" y=\"0\" width=\"1681\" height=\"1600\"/>\n",
       "  </clipPath>\n",
       "</defs>\n",
       "<path clip-path=\"url(#clip790)\" d=\"\n",
       "M156.112 1486.45 L2352.76 1486.45 L2352.76 47.2441 L156.112 47.2441  Z\n",
       "  \" fill=\"#ffffff\" fill-rule=\"evenodd\" fill-opacity=\"1\"/>\n",
       "<defs>\n",
       "  <clipPath id=\"clip792\">\n",
       "    <rect x=\"156\" y=\"47\" width=\"2198\" height=\"1440\"/>\n",
       "  </clipPath>\n",
       "</defs>\n",
       "<polyline clip-path=\"url(#clip792)\" style=\"stroke:#000000; stroke-linecap:butt; stroke-linejoin:round; stroke-width:2; stroke-opacity:0.1; fill:none\" points=\"\n",
       "  218.281,1486.45 218.281,47.2441 \n",
       "  \"/>\n",
       "<polyline clip-path=\"url(#clip792)\" style=\"stroke:#000000; stroke-linecap:butt; stroke-linejoin:round; stroke-width:2; stroke-opacity:0.1; fill:none\" points=\"\n",
       "  736.358,1486.45 736.358,47.2441 \n",
       "  \"/>\n",
       "<polyline clip-path=\"url(#clip792)\" style=\"stroke:#000000; stroke-linecap:butt; stroke-linejoin:round; stroke-width:2; stroke-opacity:0.1; fill:none\" points=\"\n",
       "  1254.43,1486.45 1254.43,47.2441 \n",
       "  \"/>\n",
       "<polyline clip-path=\"url(#clip792)\" style=\"stroke:#000000; stroke-linecap:butt; stroke-linejoin:round; stroke-width:2; stroke-opacity:0.1; fill:none\" points=\"\n",
       "  1772.51,1486.45 1772.51,47.2441 \n",
       "  \"/>\n",
       "<polyline clip-path=\"url(#clip792)\" style=\"stroke:#000000; stroke-linecap:butt; stroke-linejoin:round; stroke-width:2; stroke-opacity:0.1; fill:none\" points=\"\n",
       "  2290.59,1486.45 2290.59,47.2441 \n",
       "  \"/>\n",
       "<polyline clip-path=\"url(#clip790)\" style=\"stroke:#000000; stroke-linecap:butt; stroke-linejoin:round; stroke-width:4; stroke-opacity:1; fill:none\" points=\"\n",
       "  156.112,1486.45 2352.76,1486.45 \n",
       "  \"/>\n",
       "<polyline clip-path=\"url(#clip790)\" style=\"stroke:#000000; stroke-linecap:butt; stroke-linejoin:round; stroke-width:4; stroke-opacity:1; fill:none\" points=\"\n",
       "  218.281,1486.45 218.281,1467.55 \n",
       "  \"/>\n",
       "<polyline clip-path=\"url(#clip790)\" style=\"stroke:#000000; stroke-linecap:butt; stroke-linejoin:round; stroke-width:4; stroke-opacity:1; fill:none\" points=\"\n",
       "  736.358,1486.45 736.358,1467.55 \n",
       "  \"/>\n",
       "<polyline clip-path=\"url(#clip790)\" style=\"stroke:#000000; stroke-linecap:butt; stroke-linejoin:round; stroke-width:4; stroke-opacity:1; fill:none\" points=\"\n",
       "  1254.43,1486.45 1254.43,1467.55 \n",
       "  \"/>\n",
       "<polyline clip-path=\"url(#clip790)\" style=\"stroke:#000000; stroke-linecap:butt; stroke-linejoin:round; stroke-width:4; stroke-opacity:1; fill:none\" points=\"\n",
       "  1772.51,1486.45 1772.51,1467.55 \n",
       "  \"/>\n",
       "<polyline clip-path=\"url(#clip790)\" style=\"stroke:#000000; stroke-linecap:butt; stroke-linejoin:round; stroke-width:4; stroke-opacity:1; fill:none\" points=\"\n",
       "  2290.59,1486.45 2290.59,1467.55 \n",
       "  \"/>\n",
       "<path clip-path=\"url(#clip790)\" d=\"M180.585 1517.37 Q176.974 1517.37 175.145 1520.93 Q173.339 1524.47 173.339 1531.6 Q173.339 1538.71 175.145 1542.27 Q176.974 1545.82 180.585 1545.82 Q184.219 1545.82 186.025 1542.27 Q187.853 1538.71 187.853 1531.6 Q187.853 1524.47 186.025 1520.93 Q184.219 1517.37 180.585 1517.37 M180.585 1513.66 Q186.395 1513.66 189.45 1518.27 Q192.529 1522.85 192.529 1531.6 Q192.529 1540.33 189.45 1544.94 Q186.395 1549.52 180.585 1549.52 Q174.775 1549.52 171.696 1544.94 Q168.64 1540.33 168.64 1531.6 Q168.64 1522.85 171.696 1518.27 Q174.775 1513.66 180.585 1513.66 Z\" fill=\"#000000\" fill-rule=\"evenodd\" fill-opacity=\"1\" /><path clip-path=\"url(#clip790)\" d=\"M200.747 1542.97 L205.631 1542.97 L205.631 1548.85 L200.747 1548.85 L200.747 1542.97 Z\" fill=\"#000000\" fill-rule=\"evenodd\" fill-opacity=\"1\" /><path clip-path=\"url(#clip790)\" d=\"M225.816 1517.37 Q222.205 1517.37 220.376 1520.93 Q218.571 1524.47 218.571 1531.6 Q218.571 1538.71 220.376 1542.27 Q222.205 1545.82 225.816 1545.82 Q229.45 1545.82 231.256 1542.27 Q233.084 1538.71 233.084 1531.6 Q233.084 1524.47 231.256 1520.93 Q229.45 1517.37 225.816 1517.37 M225.816 1513.66 Q231.626 1513.66 234.682 1518.27 Q237.76 1522.85 237.76 1531.6 Q237.76 1540.33 234.682 1544.94 Q231.626 1549.52 225.816 1549.52 Q220.006 1549.52 216.927 1544.94 Q213.872 1540.33 213.872 1531.6 Q213.872 1522.85 216.927 1518.27 Q220.006 1513.66 225.816 1513.66 Z\" fill=\"#000000\" fill-rule=\"evenodd\" fill-opacity=\"1\" /><path clip-path=\"url(#clip790)\" d=\"M255.978 1517.37 Q252.367 1517.37 250.538 1520.93 Q248.733 1524.47 248.733 1531.6 Q248.733 1538.71 250.538 1542.27 Q252.367 1545.82 255.978 1545.82 Q259.612 1545.82 261.418 1542.27 Q263.246 1538.71 263.246 1531.6 Q263.246 1524.47 261.418 1520.93 Q259.612 1517.37 255.978 1517.37 M255.978 1513.66 Q261.788 1513.66 264.844 1518.27 Q267.922 1522.85 267.922 1531.6 Q267.922 1540.33 264.844 1544.94 Q261.788 1549.52 255.978 1549.52 Q250.168 1549.52 247.089 1544.94 Q244.033 1540.33 244.033 1531.6 Q244.033 1522.85 247.089 1518.27 Q250.168 1513.66 255.978 1513.66 Z\" fill=\"#000000\" fill-rule=\"evenodd\" fill-opacity=\"1\" /><path clip-path=\"url(#clip790)\" d=\"M699.159 1517.37 Q695.548 1517.37 693.719 1520.93 Q691.913 1524.47 691.913 1531.6 Q691.913 1538.71 693.719 1542.27 Q695.548 1545.82 699.159 1545.82 Q702.793 1545.82 704.599 1542.27 Q706.427 1538.71 706.427 1531.6 Q706.427 1524.47 704.599 1520.93 Q702.793 1517.37 699.159 1517.37 M699.159 1513.66 Q704.969 1513.66 708.024 1518.27 Q711.103 1522.85 711.103 1531.6 Q711.103 1540.33 708.024 1544.94 Q704.969 1549.52 699.159 1549.52 Q693.349 1549.52 690.27 1544.94 Q687.214 1540.33 687.214 1531.6 Q687.214 1522.85 690.27 1518.27 Q693.349 1513.66 699.159 1513.66 Z\" fill=\"#000000\" fill-rule=\"evenodd\" fill-opacity=\"1\" /><path clip-path=\"url(#clip790)\" d=\"M719.321 1542.97 L724.205 1542.97 L724.205 1548.85 L719.321 1548.85 L719.321 1542.97 Z\" fill=\"#000000\" fill-rule=\"evenodd\" fill-opacity=\"1\" /><path clip-path=\"url(#clip790)\" d=\"M738.418 1544.91 L754.737 1544.91 L754.737 1548.85 L732.793 1548.85 L732.793 1544.91 Q735.455 1542.16 740.038 1537.53 Q744.645 1532.88 745.825 1531.53 Q748.071 1529.01 748.95 1527.27 Q749.853 1525.51 749.853 1523.82 Q749.853 1521.07 747.909 1519.33 Q745.987 1517.6 742.885 1517.6 Q740.686 1517.6 738.233 1518.36 Q735.802 1519.13 733.024 1520.68 L733.024 1515.95 Q735.848 1514.82 738.302 1514.24 Q740.756 1513.66 742.793 1513.66 Q748.163 1513.66 751.358 1516.35 Q754.552 1519.03 754.552 1523.52 Q754.552 1525.65 753.742 1527.57 Q752.955 1529.47 750.848 1532.07 Q750.27 1532.74 747.168 1535.95 Q744.066 1539.15 738.418 1544.91 Z\" fill=\"#000000\" fill-rule=\"evenodd\" fill-opacity=\"1\" /><path clip-path=\"url(#clip790)\" d=\"M764.598 1514.29 L782.955 1514.29 L782.955 1518.22 L768.881 1518.22 L768.881 1526.7 Q769.899 1526.35 770.918 1526.19 Q771.936 1526 772.955 1526 Q778.742 1526 782.121 1529.17 Q785.501 1532.34 785.501 1537.76 Q785.501 1543.34 782.029 1546.44 Q778.557 1549.52 772.237 1549.52 Q770.061 1549.52 767.793 1549.15 Q765.547 1548.78 763.14 1548.04 L763.14 1543.34 Q765.223 1544.47 767.445 1545.03 Q769.668 1545.58 772.144 1545.58 Q776.149 1545.58 778.487 1543.48 Q780.825 1541.37 780.825 1537.76 Q780.825 1534.15 778.487 1532.04 Q776.149 1529.94 772.144 1529.94 Q770.27 1529.94 768.395 1530.35 Q766.543 1530.77 764.598 1531.65 L764.598 1514.29 Z\" fill=\"#000000\" fill-rule=\"evenodd\" fill-opacity=\"1\" /><path clip-path=\"url(#clip790)\" d=\"M1216.74 1517.37 Q1213.13 1517.37 1211.3 1520.93 Q1209.49 1524.47 1209.49 1531.6 Q1209.49 1538.71 1211.3 1542.27 Q1213.13 1545.82 1216.74 1545.82 Q1220.37 1545.82 1222.18 1542.27 Q1224.01 1538.71 1224.01 1531.6 Q1224.01 1524.47 1222.18 1520.93 Q1220.37 1517.37 1216.74 1517.37 M1216.74 1513.66 Q1222.55 1513.66 1225.6 1518.27 Q1228.68 1522.85 1228.68 1531.6 Q1228.68 1540.33 1225.6 1544.94 Q1222.55 1549.52 1216.74 1549.52 Q1210.93 1549.52 1207.85 1544.94 Q1204.79 1540.33 1204.79 1531.6 Q1204.79 1522.85 1207.85 1518.27 Q1210.93 1513.66 1216.74 1513.66 Z\" fill=\"#000000\" fill-rule=\"evenodd\" fill-opacity=\"1\" /><path clip-path=\"url(#clip790)\" d=\"M1236.9 1542.97 L1241.78 1542.97 L1241.78 1548.85 L1236.9 1548.85 L1236.9 1542.97 Z\" fill=\"#000000\" fill-rule=\"evenodd\" fill-opacity=\"1\" /><path clip-path=\"url(#clip790)\" d=\"M1252.02 1514.29 L1270.37 1514.29 L1270.37 1518.22 L1256.3 1518.22 L1256.3 1526.7 Q1257.32 1526.35 1258.33 1526.19 Q1259.35 1526 1260.37 1526 Q1266.16 1526 1269.54 1529.17 Q1272.92 1532.34 1272.92 1537.76 Q1272.92 1543.34 1269.45 1546.44 Q1265.97 1549.52 1259.65 1549.52 Q1257.48 1549.52 1255.21 1549.15 Q1252.96 1548.78 1250.56 1548.04 L1250.56 1543.34 Q1252.64 1544.47 1254.86 1545.03 Q1257.08 1545.58 1259.56 1545.58 Q1263.57 1545.58 1265.9 1543.48 Q1268.24 1541.37 1268.24 1537.76 Q1268.24 1534.15 1265.9 1532.04 Q1263.57 1529.94 1259.56 1529.94 Q1257.69 1529.94 1255.81 1530.35 Q1253.96 1530.77 1252.02 1531.65 L1252.02 1514.29 Z\" fill=\"#000000\" fill-rule=\"evenodd\" fill-opacity=\"1\" /><path clip-path=\"url(#clip790)\" d=\"M1292.13 1517.37 Q1288.52 1517.37 1286.69 1520.93 Q1284.89 1524.47 1284.89 1531.6 Q1284.89 1538.71 1286.69 1542.27 Q1288.52 1545.82 1292.13 1545.82 Q1295.76 1545.82 1297.57 1542.27 Q1299.4 1538.71 1299.4 1531.6 Q1299.4 1524.47 1297.57 1520.93 Q1295.76 1517.37 1292.13 1517.37 M1292.13 1513.66 Q1297.94 1513.66 1301 1518.27 Q1304.07 1522.85 1304.07 1531.6 Q1304.07 1540.33 1301 1544.94 Q1297.94 1549.52 1292.13 1549.52 Q1286.32 1549.52 1283.24 1544.94 Q1280.19 1540.33 1280.19 1531.6 Q1280.19 1522.85 1283.24 1518.27 Q1286.32 1513.66 1292.13 1513.66 Z\" fill=\"#000000\" fill-rule=\"evenodd\" fill-opacity=\"1\" /><path clip-path=\"url(#clip790)\" d=\"M1735.31 1517.37 Q1731.7 1517.37 1729.87 1520.93 Q1728.07 1524.47 1728.07 1531.6 Q1728.07 1538.71 1729.87 1542.27 Q1731.7 1545.82 1735.31 1545.82 Q1738.95 1545.82 1740.75 1542.27 Q1742.58 1538.71 1742.58 1531.6 Q1742.58 1524.47 1740.75 1520.93 Q1738.95 1517.37 1735.31 1517.37 M1735.31 1513.66 Q1741.12 1513.66 1744.18 1518.27 Q1747.26 1522.85 1747.26 1531.6 Q1747.26 1540.33 1744.18 1544.94 Q1741.12 1549.52 1735.31 1549.52 Q1729.5 1549.52 1726.42 1544.94 Q1723.37 1540.33 1723.37 1531.6 Q1723.37 1522.85 1726.42 1518.27 Q1729.5 1513.66 1735.31 1513.66 Z\" fill=\"#000000\" fill-rule=\"evenodd\" fill-opacity=\"1\" /><path clip-path=\"url(#clip790)\" d=\"M1755.47 1542.97 L1760.36 1542.97 L1760.36 1548.85 L1755.47 1548.85 L1755.47 1542.97 Z\" fill=\"#000000\" fill-rule=\"evenodd\" fill-opacity=\"1\" /><path clip-path=\"url(#clip790)\" d=\"M1769.36 1514.29 L1791.58 1514.29 L1791.58 1516.28 L1779.04 1548.85 L1774.15 1548.85 L1785.96 1518.22 L1769.36 1518.22 L1769.36 1514.29 Z\" fill=\"#000000\" fill-rule=\"evenodd\" fill-opacity=\"1\" /><path clip-path=\"url(#clip790)\" d=\"M1800.75 1514.29 L1819.11 1514.29 L1819.11 1518.22 L1805.03 1518.22 L1805.03 1526.7 Q1806.05 1526.35 1807.07 1526.19 Q1808.09 1526 1809.11 1526 Q1814.89 1526 1818.27 1529.17 Q1821.65 1532.34 1821.65 1537.76 Q1821.65 1543.34 1818.18 1546.44 Q1814.71 1549.52 1808.39 1549.52 Q1806.21 1549.52 1803.95 1549.15 Q1801.7 1548.78 1799.29 1548.04 L1799.29 1543.34 Q1801.38 1544.47 1803.6 1545.03 Q1805.82 1545.58 1808.3 1545.58 Q1812.3 1545.58 1814.64 1543.48 Q1816.98 1541.37 1816.98 1537.76 Q1816.98 1534.15 1814.64 1532.04 Q1812.3 1529.94 1808.3 1529.94 Q1806.42 1529.94 1804.55 1530.35 Q1802.7 1530.77 1800.75 1531.65 L1800.75 1514.29 Z\" fill=\"#000000\" fill-rule=\"evenodd\" fill-opacity=\"1\" /><path clip-path=\"url(#clip790)\" d=\"M2242.66 1544.91 L2250.3 1544.91 L2250.3 1518.55 L2241.99 1520.21 L2241.99 1515.95 L2250.25 1514.29 L2254.93 1514.29 L2254.93 1544.91 L2262.57 1544.91 L2262.57 1548.85 L2242.66 1548.85 L2242.66 1544.91 Z\" fill=\"#000000\" fill-rule=\"evenodd\" fill-opacity=\"1\" /><path clip-path=\"url(#clip790)\" d=\"M2272.01 1542.97 L2276.89 1542.97 L2276.89 1548.85 L2272.01 1548.85 L2272.01 1542.97 Z\" fill=\"#000000\" fill-rule=\"evenodd\" fill-opacity=\"1\" /><path clip-path=\"url(#clip790)\" d=\"M2297.08 1517.37 Q2293.47 1517.37 2291.64 1520.93 Q2289.83 1524.47 2289.83 1531.6 Q2289.83 1538.71 2291.64 1542.27 Q2293.47 1545.82 2297.08 1545.82 Q2300.71 1545.82 2302.52 1542.27 Q2304.35 1538.71 2304.35 1531.6 Q2304.35 1524.47 2302.52 1520.93 Q2300.71 1517.37 2297.08 1517.37 M2297.08 1513.66 Q2302.89 1513.66 2305.95 1518.27 Q2309.02 1522.85 2309.02 1531.6 Q2309.02 1540.33 2305.95 1544.94 Q2302.89 1549.52 2297.08 1549.52 Q2291.27 1549.52 2288.19 1544.94 Q2285.14 1540.33 2285.14 1531.6 Q2285.14 1522.85 2288.19 1518.27 Q2291.27 1513.66 2297.08 1513.66 Z\" fill=\"#000000\" fill-rule=\"evenodd\" fill-opacity=\"1\" /><path clip-path=\"url(#clip790)\" d=\"M2327.24 1517.37 Q2323.63 1517.37 2321.8 1520.93 Q2320 1524.47 2320 1531.6 Q2320 1538.71 2321.8 1542.27 Q2323.63 1545.82 2327.24 1545.82 Q2330.88 1545.82 2332.68 1542.27 Q2334.51 1538.71 2334.51 1531.6 Q2334.51 1524.47 2332.68 1520.93 Q2330.88 1517.37 2327.24 1517.37 M2327.24 1513.66 Q2333.05 1513.66 2336.11 1518.27 Q2339.19 1522.85 2339.19 1531.6 Q2339.19 1540.33 2336.11 1544.94 Q2333.05 1549.52 2327.24 1549.52 Q2321.43 1549.52 2318.35 1544.94 Q2315.3 1540.33 2315.3 1531.6 Q2315.3 1522.85 2318.35 1518.27 Q2321.43 1513.66 2327.24 1513.66 Z\" fill=\"#000000\" fill-rule=\"evenodd\" fill-opacity=\"1\" /><polyline clip-path=\"url(#clip792)\" style=\"stroke:#000000; stroke-linecap:butt; stroke-linejoin:round; stroke-width:2; stroke-opacity:0.1; fill:none\" points=\"\n",
       "  156.112,1445.72 2352.76,1445.72 \n",
       "  \"/>\n",
       "<polyline clip-path=\"url(#clip792)\" style=\"stroke:#000000; stroke-linecap:butt; stroke-linejoin:round; stroke-width:2; stroke-opacity:0.1; fill:none\" points=\"\n",
       "  156.112,1106.28 2352.76,1106.28 \n",
       "  \"/>\n",
       "<polyline clip-path=\"url(#clip792)\" style=\"stroke:#000000; stroke-linecap:butt; stroke-linejoin:round; stroke-width:2; stroke-opacity:0.1; fill:none\" points=\"\n",
       "  156.112,766.846 2352.76,766.846 \n",
       "  \"/>\n",
       "<polyline clip-path=\"url(#clip792)\" style=\"stroke:#000000; stroke-linecap:butt; stroke-linejoin:round; stroke-width:2; stroke-opacity:0.1; fill:none\" points=\"\n",
       "  156.112,427.411 2352.76,427.411 \n",
       "  \"/>\n",
       "<polyline clip-path=\"url(#clip792)\" style=\"stroke:#000000; stroke-linecap:butt; stroke-linejoin:round; stroke-width:2; stroke-opacity:0.1; fill:none\" points=\"\n",
       "  156.112,87.9763 2352.76,87.9763 \n",
       "  \"/>\n",
       "<polyline clip-path=\"url(#clip790)\" style=\"stroke:#000000; stroke-linecap:butt; stroke-linejoin:round; stroke-width:4; stroke-opacity:1; fill:none\" points=\"\n",
       "  156.112,1486.45 156.112,47.2441 \n",
       "  \"/>\n",
       "<polyline clip-path=\"url(#clip790)\" style=\"stroke:#000000; stroke-linecap:butt; stroke-linejoin:round; stroke-width:4; stroke-opacity:1; fill:none\" points=\"\n",
       "  156.112,1445.72 175.01,1445.72 \n",
       "  \"/>\n",
       "<polyline clip-path=\"url(#clip790)\" style=\"stroke:#000000; stroke-linecap:butt; stroke-linejoin:round; stroke-width:4; stroke-opacity:1; fill:none\" points=\"\n",
       "  156.112,1106.28 175.01,1106.28 \n",
       "  \"/>\n",
       "<polyline clip-path=\"url(#clip790)\" style=\"stroke:#000000; stroke-linecap:butt; stroke-linejoin:round; stroke-width:4; stroke-opacity:1; fill:none\" points=\"\n",
       "  156.112,766.846 175.01,766.846 \n",
       "  \"/>\n",
       "<polyline clip-path=\"url(#clip790)\" style=\"stroke:#000000; stroke-linecap:butt; stroke-linejoin:round; stroke-width:4; stroke-opacity:1; fill:none\" points=\"\n",
       "  156.112,427.411 175.01,427.411 \n",
       "  \"/>\n",
       "<polyline clip-path=\"url(#clip790)\" style=\"stroke:#000000; stroke-linecap:butt; stroke-linejoin:round; stroke-width:4; stroke-opacity:1; fill:none\" points=\"\n",
       "  156.112,87.9763 175.01,87.9763 \n",
       "  \"/>\n",
       "<path clip-path=\"url(#clip790)\" d=\"M62.9365 1431.51 Q59.3254 1431.51 57.4967 1435.08 Q55.6912 1438.62 55.6912 1445.75 Q55.6912 1452.86 57.4967 1456.42 Q59.3254 1459.96 62.9365 1459.96 Q66.5707 1459.96 68.3763 1456.42 Q70.205 1452.86 70.205 1445.75 Q70.205 1438.62 68.3763 1435.08 Q66.5707 1431.51 62.9365 1431.51 M62.9365 1427.81 Q68.7467 1427.81 71.8022 1432.42 Q74.8809 1437 74.8809 1445.75 Q74.8809 1454.48 71.8022 1459.08 Q68.7467 1463.67 62.9365 1463.67 Q57.1264 1463.67 54.0477 1459.08 Q50.9921 1454.48 50.9921 1445.75 Q50.9921 1437 54.0477 1432.42 Q57.1264 1427.81 62.9365 1427.81 Z\" fill=\"#000000\" fill-rule=\"evenodd\" fill-opacity=\"1\" /><path clip-path=\"url(#clip790)\" d=\"M83.0984 1457.12 L87.9827 1457.12 L87.9827 1463 L83.0984 1463 L83.0984 1457.12 Z\" fill=\"#000000\" fill-rule=\"evenodd\" fill-opacity=\"1\" /><path clip-path=\"url(#clip790)\" d=\"M108.168 1431.51 Q104.557 1431.51 102.728 1435.08 Q100.922 1438.62 100.922 1445.75 Q100.922 1452.86 102.728 1456.42 Q104.557 1459.96 108.168 1459.96 Q111.802 1459.96 113.608 1456.42 Q115.436 1452.86 115.436 1445.75 Q115.436 1438.62 113.608 1435.08 Q111.802 1431.51 108.168 1431.51 M108.168 1427.81 Q113.978 1427.81 117.033 1432.42 Q120.112 1437 120.112 1445.75 Q120.112 1454.48 117.033 1459.08 Q113.978 1463.67 108.168 1463.67 Q102.358 1463.67 99.2789 1459.08 Q96.2234 1454.48 96.2234 1445.75 Q96.2234 1437 99.2789 1432.42 Q102.358 1427.81 108.168 1427.81 Z\" fill=\"#000000\" fill-rule=\"evenodd\" fill-opacity=\"1\" /><path clip-path=\"url(#clip790)\" d=\"M63.9319 1092.08 Q60.3208 1092.08 58.4921 1095.64 Q56.6865 1099.19 56.6865 1106.32 Q56.6865 1113.42 58.4921 1116.99 Q60.3208 1120.53 63.9319 1120.53 Q67.5661 1120.53 69.3717 1116.99 Q71.2004 1113.42 71.2004 1106.32 Q71.2004 1099.19 69.3717 1095.64 Q67.5661 1092.08 63.9319 1092.08 M63.9319 1088.38 Q69.742 1088.38 72.7976 1092.98 Q75.8763 1097.57 75.8763 1106.32 Q75.8763 1115.04 72.7976 1119.65 Q69.742 1124.23 63.9319 1124.23 Q58.1217 1124.23 55.043 1119.65 Q51.9875 1115.04 51.9875 1106.32 Q51.9875 1097.57 55.043 1092.98 Q58.1217 1088.38 63.9319 1088.38 Z\" fill=\"#000000\" fill-rule=\"evenodd\" fill-opacity=\"1\" /><path clip-path=\"url(#clip790)\" d=\"M84.0938 1117.68 L88.978 1117.68 L88.978 1123.56 L84.0938 1123.56 L84.0938 1117.68 Z\" fill=\"#000000\" fill-rule=\"evenodd\" fill-opacity=\"1\" /><path clip-path=\"url(#clip790)\" d=\"M99.2095 1089 L117.566 1089 L117.566 1092.94 L103.492 1092.94 L103.492 1101.41 Q104.51 1101.06 105.529 1100.9 Q106.547 1100.71 107.566 1100.71 Q113.353 1100.71 116.733 1103.89 Q120.112 1107.06 120.112 1112.47 Q120.112 1118.05 116.64 1121.15 Q113.168 1124.23 106.848 1124.23 Q104.672 1124.23 102.404 1123.86 Q100.159 1123.49 97.7511 1122.75 L97.7511 1118.05 Q99.8345 1119.19 102.057 1119.74 Q104.279 1120.3 106.756 1120.3 Q110.76 1120.3 113.098 1118.19 Q115.436 1116.08 115.436 1112.47 Q115.436 1108.86 113.098 1106.76 Q110.76 1104.65 106.756 1104.65 Q104.881 1104.65 103.006 1105.07 Q101.154 1105.48 99.2095 1106.36 L99.2095 1089 Z\" fill=\"#000000\" fill-rule=\"evenodd\" fill-opacity=\"1\" /><path clip-path=\"url(#clip790)\" d=\"M53.7467 780.191 L61.3856 780.191 L61.3856 753.825 L53.0754 755.492 L53.0754 751.233 L61.3393 749.566 L66.0152 749.566 L66.0152 780.191 L73.654 780.191 L73.654 784.126 L53.7467 784.126 L53.7467 780.191 Z\" fill=\"#000000\" fill-rule=\"evenodd\" fill-opacity=\"1\" /><path clip-path=\"url(#clip790)\" d=\"M83.0984 778.246 L87.9827 778.246 L87.9827 784.126 L83.0984 784.126 L83.0984 778.246 Z\" fill=\"#000000\" fill-rule=\"evenodd\" fill-opacity=\"1\" /><path clip-path=\"url(#clip790)\" d=\"M108.168 752.645 Q104.557 752.645 102.728 756.209 Q100.922 759.751 100.922 766.881 Q100.922 773.987 102.728 777.552 Q104.557 781.094 108.168 781.094 Q111.802 781.094 113.608 777.552 Q115.436 773.987 115.436 766.881 Q115.436 759.751 113.608 756.209 Q111.802 752.645 108.168 752.645 M108.168 748.941 Q113.978 748.941 117.033 753.547 Q120.112 758.131 120.112 766.881 Q120.112 775.608 117.033 780.214 Q113.978 784.797 108.168 784.797 Q102.358 784.797 99.2789 780.214 Q96.2234 775.608 96.2234 766.881 Q96.2234 758.131 99.2789 753.547 Q102.358 748.941 108.168 748.941 Z\" fill=\"#000000\" fill-rule=\"evenodd\" fill-opacity=\"1\" /><path clip-path=\"url(#clip790)\" d=\"M54.7421 440.756 L62.381 440.756 L62.381 414.39 L54.0708 416.057 L54.0708 411.798 L62.3347 410.131 L67.0106 410.131 L67.0106 440.756 L74.6494 440.756 L74.6494 444.691 L54.7421 444.691 L54.7421 440.756 Z\" fill=\"#000000\" fill-rule=\"evenodd\" fill-opacity=\"1\" /><path clip-path=\"url(#clip790)\" d=\"M84.0938 438.812 L88.978 438.812 L88.978 444.691 L84.0938 444.691 L84.0938 438.812 Z\" fill=\"#000000\" fill-rule=\"evenodd\" fill-opacity=\"1\" /><path clip-path=\"url(#clip790)\" d=\"M99.2095 410.131 L117.566 410.131 L117.566 414.066 L103.492 414.066 L103.492 422.538 Q104.51 422.191 105.529 422.029 Q106.547 421.844 107.566 421.844 Q113.353 421.844 116.733 425.015 Q120.112 428.187 120.112 433.603 Q120.112 439.182 116.64 442.284 Q113.168 445.362 106.848 445.362 Q104.672 445.362 102.404 444.992 Q100.159 444.622 97.7511 443.881 L97.7511 439.182 Q99.8345 440.316 102.057 440.872 Q104.279 441.427 106.756 441.427 Q110.76 441.427 113.098 439.321 Q115.436 437.214 115.436 433.603 Q115.436 429.992 113.098 427.886 Q110.76 425.779 106.756 425.779 Q104.881 425.779 103.006 426.196 Q101.154 426.613 99.2095 427.492 L99.2095 410.131 Z\" fill=\"#000000\" fill-rule=\"evenodd\" fill-opacity=\"1\" /><path clip-path=\"url(#clip790)\" d=\"M56.9643 101.321 L73.2837 101.321 L73.2837 105.256 L51.3393 105.256 L51.3393 101.321 Q54.0014 98.5665 58.5847 93.9369 Q63.1911 89.2841 64.3717 87.9416 Q66.617 85.4184 67.4967 83.6823 Q68.3994 81.9231 68.3994 80.2333 Q68.3994 77.4786 66.455 75.7425 Q64.5337 74.0064 61.4319 74.0064 Q59.2328 74.0064 56.7791 74.7703 Q54.3486 75.5342 51.5708 77.0851 L51.5708 72.3629 Q54.3949 71.2287 56.8486 70.65 Q59.3023 70.0713 61.3393 70.0713 Q66.7096 70.0713 69.9041 72.7565 Q73.0985 75.4416 73.0985 79.9323 Q73.0985 82.062 72.2883 83.9832 Q71.5013 85.8814 69.3948 88.474 Q68.8161 89.1453 65.7143 92.3628 Q62.6124 95.5573 56.9643 101.321 Z\" fill=\"#000000\" fill-rule=\"evenodd\" fill-opacity=\"1\" /><path clip-path=\"url(#clip790)\" d=\"M83.0984 99.3767 L87.9827 99.3767 L87.9827 105.256 L83.0984 105.256 L83.0984 99.3767 Z\" fill=\"#000000\" fill-rule=\"evenodd\" fill-opacity=\"1\" /><path clip-path=\"url(#clip790)\" d=\"M108.168 73.775 Q104.557 73.775 102.728 77.3398 Q100.922 80.8814 100.922 88.011 Q100.922 95.1174 102.728 98.6822 Q104.557 102.224 108.168 102.224 Q111.802 102.224 113.608 98.6822 Q115.436 95.1174 115.436 88.011 Q115.436 80.8814 113.608 77.3398 Q111.802 73.775 108.168 73.775 M108.168 70.0713 Q113.978 70.0713 117.033 74.6777 Q120.112 79.261 120.112 88.011 Q120.112 96.7378 117.033 101.344 Q113.978 105.928 108.168 105.928 Q102.358 105.928 99.2789 101.344 Q96.2234 96.7378 96.2234 88.011 Q96.2234 79.261 99.2789 74.6777 Q102.358 70.0713 108.168 70.0713 Z\" fill=\"#000000\" fill-rule=\"evenodd\" fill-opacity=\"1\" /><circle clip-path=\"url(#clip792)\" cx=\"218.281\" cy=\"1445.72\" r=\"14\" fill=\"#009af9\" fill-rule=\"evenodd\" fill-opacity=\"1\" stroke=\"#000000\" stroke-opacity=\"1\" stroke-width=\"3.2\"/>\n",
       "<circle clip-path=\"url(#clip792)\" cx=\"218.281\" cy=\"87.9763\" r=\"14\" fill=\"#009af9\" fill-rule=\"evenodd\" fill-opacity=\"1\" stroke=\"#000000\" stroke-opacity=\"1\" stroke-width=\"3.2\"/>\n",
       "<circle clip-path=\"url(#clip792)\" cx=\"2290.59\" cy=\"1445.72\" r=\"14\" fill=\"#009af9\" fill-rule=\"evenodd\" fill-opacity=\"1\" stroke=\"#000000\" stroke-opacity=\"1\" stroke-width=\"3.2\"/>\n",
       "<path clip-path=\"url(#clip790)\" d=\"\n",
       "M1983.03 198.898 L2279.53 198.898 L2279.53 95.2176 L1983.03 95.2176  Z\n",
       "  \" fill=\"#ffffff\" fill-rule=\"evenodd\" fill-opacity=\"1\"/>\n",
       "<polyline clip-path=\"url(#clip790)\" style=\"stroke:#000000; stroke-linecap:butt; stroke-linejoin:round; stroke-width:4; stroke-opacity:1; fill:none\" points=\"\n",
       "  1983.03,198.898 2279.53,198.898 2279.53,95.2176 1983.03,95.2176 1983.03,198.898 \n",
       "  \"/>\n",
       "<circle clip-path=\"url(#clip790)\" cx=\"2080.66\" cy=\"147.058\" r=\"23\" fill=\"#009af9\" fill-rule=\"evenodd\" fill-opacity=\"1\" stroke=\"#000000\" stroke-opacity=\"1\" stroke-width=\"5.12\"/>\n",
       "<path clip-path=\"url(#clip790)\" d=\"M2192.13 166.745 Q2190.33 171.375 2188.61 172.787 Q2186.9 174.199 2184.03 174.199 L2180.63 174.199 L2180.63 170.634 L2183.13 170.634 Q2184.89 170.634 2185.86 169.8 Q2186.83 168.967 2188.01 165.865 L2188.78 163.921 L2178.29 138.412 L2182.8 138.412 L2190.91 158.689 L2199.01 138.412 L2203.52 138.412 L2192.13 166.745 Z\" fill=\"#000000\" fill-rule=\"evenodd\" fill-opacity=\"1\" /><path clip-path=\"url(#clip790)\" d=\"M2210.81 160.402 L2218.45 160.402 L2218.45 134.037 L2210.14 135.703 L2210.14 131.444 L2218.41 129.778 L2223.08 129.778 L2223.08 160.402 L2230.72 160.402 L2230.72 164.338 L2210.81 164.338 L2210.81 160.402 Z\" fill=\"#000000\" fill-rule=\"evenodd\" fill-opacity=\"1\" /></svg>\n"
      ]
     },
     "execution_count": 5,
     "metadata": {},
     "output_type": "execute_result"
    },
    {
     "name": "stdout",
     "output_type": "stream",
     "text": [
      "Your GR installation is incomplete. Rerunning build step for GR package.\n"
     ]
    },
    {
     "name": "stderr",
     "output_type": "stream",
     "text": [
      "┌ Info: Precompiling GR_jll [d2c73de3-f751-5644-a686-071e5b155ba9]\n",
      "└ @ Base loading.jl:1423\n",
      "\u001b[91m\u001b[1mERROR: \u001b[22m\u001b[39mLoadError: InitError: could not load library \"/Users/j1/.julia/artifacts/a0db4e704fd0da4298744f012883535d351fa170/lib/QtConcurrent.framework/Versions/5/QtConcurrent\"\n",
      "dlopen(/Users/j1/.julia/artifacts/a0db4e704fd0da4298744f012883535d351fa170/lib/QtConcurrent.framework/Versions/5/QtConcurrent.dylib, 1): image not found\n",
      "Stacktrace:\n",
      "  [1] \u001b[0m\u001b[1mdlopen\u001b[22m\u001b[0m\u001b[1m(\u001b[22m\u001b[90ms\u001b[39m::\u001b[0mString, \u001b[90mflags\u001b[39m::\u001b[0mUInt32; \u001b[90mthrow_error\u001b[39m::\u001b[0mBool\u001b[0m\u001b[1m)\u001b[22m\n",
      "\u001b[90m    @ \u001b[39m\u001b[90mBase.Libc.Libdl\u001b[39m \u001b[90m./\u001b[39m\u001b[90m\u001b[4mlibdl.jl:117\u001b[24m\u001b[39m\n",
      "  [2] \u001b[0m\u001b[1mdlopen\u001b[22m\u001b[0m\u001b[1m(\u001b[22m\u001b[90ms\u001b[39m::\u001b[0mString, \u001b[90mflags\u001b[39m::\u001b[0mUInt32\u001b[0m\u001b[1m)\u001b[22m\n",
      "\u001b[90m    @ \u001b[39m\u001b[90mBase.Libc.Libdl\u001b[39m \u001b[90m./\u001b[39m\u001b[90m\u001b[4mlibdl.jl:117\u001b[24m\u001b[39m\n",
      "  [3] \u001b[0m\u001b[1mmacro expansion\u001b[22m\n",
      "\u001b[90m    @ \u001b[39m\u001b[90m~/.julia/packages/JLLWrappers/QpMQW/src/products/\u001b[39m\u001b[90m\u001b[4mlibrary_generators.jl:54\u001b[24m\u001b[39m\u001b[90m [inlined]\u001b[39m\n",
      "  [4] \u001b[0m\u001b[1m__init__\u001b[22m\u001b[0m\u001b[1m(\u001b[22m\u001b[0m\u001b[1m)\u001b[22m\n",
      "\u001b[90m    @ \u001b[39m\u001b[35mQt5Base_jll\u001b[39m \u001b[90m~/.julia/packages/Qt5Base_jll/lpIK6/src/wrappers/\u001b[39m\u001b[90m\u001b[4mx86_64-apple-darwin.jl:31\u001b[24m\u001b[39m\n",
      "  [5] \u001b[0m\u001b[1m_include_from_serialized\u001b[22m\u001b[0m\u001b[1m(\u001b[22m\u001b[90mpath\u001b[39m::\u001b[0mString, \u001b[90mdepmods\u001b[39m::\u001b[0mVector\u001b[90m{Any}\u001b[39m\u001b[0m\u001b[1m)\u001b[22m\n",
      "\u001b[90m    @ \u001b[39m\u001b[90mBase\u001b[39m \u001b[90m./\u001b[39m\u001b[90m\u001b[4mloading.jl:768\u001b[24m\u001b[39m\n",
      "  [6] \u001b[0m\u001b[1m_require_search_from_serialized\u001b[22m\u001b[0m\u001b[1m(\u001b[22m\u001b[90mpkg\u001b[39m::\u001b[0mBase.PkgId, \u001b[90msourcepath\u001b[39m::\u001b[0mString\u001b[0m\u001b[1m)\u001b[22m\n",
      "\u001b[90m    @ \u001b[39m\u001b[90mBase\u001b[39m \u001b[90m./\u001b[39m\u001b[90m\u001b[4mloading.jl:854\u001b[24m\u001b[39m\n",
      "  [7] \u001b[0m\u001b[1m_require\u001b[22m\u001b[0m\u001b[1m(\u001b[22m\u001b[90mpkg\u001b[39m::\u001b[0mBase.PkgId\u001b[0m\u001b[1m)\u001b[22m\n",
      "\u001b[90m    @ \u001b[39m\u001b[90mBase\u001b[39m \u001b[90m./\u001b[39m\u001b[90m\u001b[4mloading.jl:1097\u001b[24m\u001b[39m\n",
      "  [8] \u001b[0m\u001b[1mrequire\u001b[22m\u001b[0m\u001b[1m(\u001b[22m\u001b[90muuidkey\u001b[39m::\u001b[0mBase.PkgId\u001b[0m\u001b[1m)\u001b[22m\n",
      "\u001b[90m    @ \u001b[39m\u001b[90mBase\u001b[39m \u001b[90m./\u001b[39m\u001b[90m\u001b[4mloading.jl:1013\u001b[24m\u001b[39m\n",
      "  [9] \u001b[0m\u001b[1mrequire\u001b[22m\u001b[0m\u001b[1m(\u001b[22m\u001b[90minto\u001b[39m::\u001b[0mModule, \u001b[90mmod\u001b[39m::\u001b[0mSymbol\u001b[0m\u001b[1m)\u001b[22m\n",
      "\u001b[90m    @ \u001b[39m\u001b[90mBase\u001b[39m \u001b[90m./\u001b[39m\u001b[90m\u001b[4mloading.jl:997\u001b[24m\u001b[39m\n",
      " [10] \u001b[0m\u001b[1minclude\u001b[22m\u001b[0m\u001b[1m(\u001b[22m\u001b[90mmod\u001b[39m::\u001b[0mModule, \u001b[90m_path\u001b[39m::\u001b[0mString\u001b[0m\u001b[1m)\u001b[22m\n",
      "\u001b[90m    @ \u001b[39m\u001b[90mBase\u001b[39m \u001b[90m./\u001b[39m\u001b[90m\u001b[4mBase.jl:418\u001b[24m\u001b[39m\n",
      " [11] top-level scope\n",
      "\u001b[90m    @ \u001b[39m\u001b[90m~/.julia/packages/JLLWrappers/QpMQW/src/\u001b[39m\u001b[90m\u001b[4mtoplevel_generators.jl:188\u001b[24m\u001b[39m\n",
      " [12] \u001b[0m\u001b[1minclude\u001b[22m\n",
      "\u001b[90m    @ \u001b[39m\u001b[90m./\u001b[39m\u001b[90m\u001b[4mBase.jl:418\u001b[24m\u001b[39m\u001b[90m [inlined]\u001b[39m\n",
      " [13] \u001b[0m\u001b[1minclude_package_for_output\u001b[22m\u001b[0m\u001b[1m(\u001b[22m\u001b[90mpkg\u001b[39m::\u001b[0mBase.PkgId, \u001b[90minput\u001b[39m::\u001b[0mString, \u001b[90mdepot_path\u001b[39m::\u001b[0mVector\u001b[90m{String}\u001b[39m, \u001b[90mdl_load_path\u001b[39m::\u001b[0mVector\u001b[90m{String}\u001b[39m, \u001b[90mload_path\u001b[39m::\u001b[0mVector\u001b[90m{String}\u001b[39m, \u001b[90mconcrete_deps\u001b[39m::\u001b[0mVector\u001b[90m{Pair{Base.PkgId, UInt64}}\u001b[39m, \u001b[90msource\u001b[39m::\u001b[0mNothing\u001b[0m\u001b[1m)\u001b[22m\n",
      "\u001b[90m    @ \u001b[39m\u001b[90mBase\u001b[39m \u001b[90m./\u001b[39m\u001b[90m\u001b[4mloading.jl:1318\u001b[24m\u001b[39m\n",
      " [14] top-level scope\n",
      "\u001b[90m    @ \u001b[39m\u001b[90m\u001b[4mnone:1\u001b[24m\u001b[39m\n",
      " [15] \u001b[0m\u001b[1meval\u001b[22m\n",
      "\u001b[90m    @ \u001b[39m\u001b[90m./\u001b[39m\u001b[90m\u001b[4mboot.jl:373\u001b[24m\u001b[39m\u001b[90m [inlined]\u001b[39m\n",
      " [16] \u001b[0m\u001b[1meval\u001b[22m\u001b[0m\u001b[1m(\u001b[22m\u001b[90mx\u001b[39m::\u001b[0mExpr\u001b[0m\u001b[1m)\u001b[22m\n",
      "\u001b[90m    @ \u001b[39m\u001b[90mBase.MainInclude\u001b[39m \u001b[90m./\u001b[39m\u001b[90m\u001b[4mclient.jl:453\u001b[24m\u001b[39m\n",
      " [17] top-level scope\n",
      "\u001b[90m    @ \u001b[39m\u001b[90m\u001b[4mnone:1\u001b[24m\u001b[39m\n",
      "during initialization of module Qt5Base_jll\n",
      "in expression starting at /Users/j1/.julia/packages/GR_jll/vZgyb/src/wrappers/x86_64-apple-darwin.jl:13\n",
      "in expression starting at /Users/j1/.julia/packages/GR_jll/vZgyb/src/GR_jll.jl:2\n",
      "┌ Error: Error importing GR_jll:\n",
      "│   err = ErrorException(\"Failed to precompile GR_jll [d2c73de3-f751-5644-a686-071e5b155ba9] to /Users/j1/.julia/compiled/v1.7/GR_jll/jl_U5Yjba.\")\n",
      "└ @ GR /Users/j1/.julia/packages/GR/mpd8d/src/funcptrs.jl:42\n",
      "┌ Info: Switching provider to GR due to error in depsfile\n",
      "│   depsfile = /Users/j1/.julia/packages/GR/mpd8d/deps/deps.jl\n",
      "└ @ GR /Users/j1/.julia/packages/GR/mpd8d/src/GR.jl:364\n",
      "┌ Info: Emptying depsfile. GR provider is GR\n",
      "│   provider = GR\n",
      "│   depsfile = /Users/j1/.julia/packages/GR/mpd8d/deps/deps.jl\n",
      "└ @ GR.Builder /Users/j1/.julia/packages/GR/mpd8d/deps/build.jl:128\n",
      "┌ Info: Downloading pre-compiled GR 0.64.1 Darwin binary\n",
      "└ @ GR.Builder /Users/j1/.julia/packages/GR/mpd8d/deps/build.jl:193\n",
      "┌ Info: GR was successfully rebuilt\n",
      "└ @ GR /Users/j1/.julia/packages/GR/mpd8d/src/GR.jl:374\n"
     ]
    }
   ],
   "source": [
    "scatter(X[1,:],X[2,:]) #graficando los puntos moviles"
   ]
  },
  {
   "cell_type": "code",
   "execution_count": 6,
   "id": "96e8ad81",
   "metadata": {},
   "outputs": [
    {
     "data": {
      "image/svg+xml": [
       "<?xml version=\"1.0\" encoding=\"utf-8\"?>\n",
       "<svg xmlns=\"http://www.w3.org/2000/svg\" xmlns:xlink=\"http://www.w3.org/1999/xlink\" width=\"600\" height=\"400\" viewBox=\"0 0 2400 1600\">\n",
       "<defs>\n",
       "  <clipPath id=\"clip830\">\n",
       "    <rect x=\"0\" y=\"0\" width=\"2400\" height=\"1600\"/>\n",
       "  </clipPath>\n",
       "</defs>\n",
       "<path clip-path=\"url(#clip830)\" d=\"\n",
       "M0 1600 L2400 1600 L2400 0 L0 0  Z\n",
       "  \" fill=\"#ffffff\" fill-rule=\"evenodd\" fill-opacity=\"1\"/>\n",
       "<defs>\n",
       "  <clipPath id=\"clip831\">\n",
       "    <rect x=\"480\" y=\"0\" width=\"1681\" height=\"1600\"/>\n",
       "  </clipPath>\n",
       "</defs>\n",
       "<path clip-path=\"url(#clip830)\" d=\"\n",
       "M156.112 1486.45 L2352.76 1486.45 L2352.76 47.2441 L156.112 47.2441  Z\n",
       "  \" fill=\"#ffffff\" fill-rule=\"evenodd\" fill-opacity=\"1\"/>\n",
       "<defs>\n",
       "  <clipPath id=\"clip832\">\n",
       "    <rect x=\"156\" y=\"47\" width=\"2198\" height=\"1440\"/>\n",
       "  </clipPath>\n",
       "</defs>\n",
       "<polyline clip-path=\"url(#clip832)\" style=\"stroke:#000000; stroke-linecap:butt; stroke-linejoin:round; stroke-width:2; stroke-opacity:0.1; fill:none\" points=\"\n",
       "  218.281,1486.45 218.281,47.2441 \n",
       "  \"/>\n",
       "<polyline clip-path=\"url(#clip832)\" style=\"stroke:#000000; stroke-linecap:butt; stroke-linejoin:round; stroke-width:2; stroke-opacity:0.1; fill:none\" points=\"\n",
       "  736.358,1486.45 736.358,47.2441 \n",
       "  \"/>\n",
       "<polyline clip-path=\"url(#clip832)\" style=\"stroke:#000000; stroke-linecap:butt; stroke-linejoin:round; stroke-width:2; stroke-opacity:0.1; fill:none\" points=\"\n",
       "  1254.43,1486.45 1254.43,47.2441 \n",
       "  \"/>\n",
       "<polyline clip-path=\"url(#clip832)\" style=\"stroke:#000000; stroke-linecap:butt; stroke-linejoin:round; stroke-width:2; stroke-opacity:0.1; fill:none\" points=\"\n",
       "  1772.51,1486.45 1772.51,47.2441 \n",
       "  \"/>\n",
       "<polyline clip-path=\"url(#clip832)\" style=\"stroke:#000000; stroke-linecap:butt; stroke-linejoin:round; stroke-width:2; stroke-opacity:0.1; fill:none\" points=\"\n",
       "  2290.59,1486.45 2290.59,47.2441 \n",
       "  \"/>\n",
       "<polyline clip-path=\"url(#clip830)\" style=\"stroke:#000000; stroke-linecap:butt; stroke-linejoin:round; stroke-width:4; stroke-opacity:1; fill:none\" points=\"\n",
       "  156.112,1486.45 2352.76,1486.45 \n",
       "  \"/>\n",
       "<polyline clip-path=\"url(#clip830)\" style=\"stroke:#000000; stroke-linecap:butt; stroke-linejoin:round; stroke-width:4; stroke-opacity:1; fill:none\" points=\"\n",
       "  218.281,1486.45 218.281,1467.55 \n",
       "  \"/>\n",
       "<polyline clip-path=\"url(#clip830)\" style=\"stroke:#000000; stroke-linecap:butt; stroke-linejoin:round; stroke-width:4; stroke-opacity:1; fill:none\" points=\"\n",
       "  736.358,1486.45 736.358,1467.55 \n",
       "  \"/>\n",
       "<polyline clip-path=\"url(#clip830)\" style=\"stroke:#000000; stroke-linecap:butt; stroke-linejoin:round; stroke-width:4; stroke-opacity:1; fill:none\" points=\"\n",
       "  1254.43,1486.45 1254.43,1467.55 \n",
       "  \"/>\n",
       "<polyline clip-path=\"url(#clip830)\" style=\"stroke:#000000; stroke-linecap:butt; stroke-linejoin:round; stroke-width:4; stroke-opacity:1; fill:none\" points=\"\n",
       "  1772.51,1486.45 1772.51,1467.55 \n",
       "  \"/>\n",
       "<polyline clip-path=\"url(#clip830)\" style=\"stroke:#000000; stroke-linecap:butt; stroke-linejoin:round; stroke-width:4; stroke-opacity:1; fill:none\" points=\"\n",
       "  2290.59,1486.45 2290.59,1467.55 \n",
       "  \"/>\n",
       "<path clip-path=\"url(#clip830)\" d=\"M149.728 1532.02 L179.404 1532.02 L179.404 1535.95 L149.728 1535.95 L149.728 1532.02 Z\" fill=\"#000000\" fill-rule=\"evenodd\" fill-opacity=\"1\" /><path clip-path=\"url(#clip830)\" d=\"M190.307 1544.91 L197.946 1544.91 L197.946 1518.55 L189.636 1520.21 L189.636 1515.95 L197.899 1514.29 L202.575 1514.29 L202.575 1544.91 L210.214 1544.91 L210.214 1548.85 L190.307 1548.85 L190.307 1544.91 Z\" fill=\"#000000\" fill-rule=\"evenodd\" fill-opacity=\"1\" /><path clip-path=\"url(#clip830)\" d=\"M219.659 1542.97 L224.543 1542.97 L224.543 1548.85 L219.659 1548.85 L219.659 1542.97 Z\" fill=\"#000000\" fill-rule=\"evenodd\" fill-opacity=\"1\" /><path clip-path=\"url(#clip830)\" d=\"M244.728 1517.37 Q241.117 1517.37 239.288 1520.93 Q237.483 1524.47 237.483 1531.6 Q237.483 1538.71 239.288 1542.27 Q241.117 1545.82 244.728 1545.82 Q248.362 1545.82 250.168 1542.27 Q251.996 1538.71 251.996 1531.6 Q251.996 1524.47 250.168 1520.93 Q248.362 1517.37 244.728 1517.37 M244.728 1513.66 Q250.538 1513.66 253.594 1518.27 Q256.672 1522.85 256.672 1531.6 Q256.672 1540.33 253.594 1544.94 Q250.538 1549.52 244.728 1549.52 Q238.918 1549.52 235.839 1544.94 Q232.784 1540.33 232.784 1531.6 Q232.784 1522.85 235.839 1518.27 Q238.918 1513.66 244.728 1513.66 Z\" fill=\"#000000\" fill-rule=\"evenodd\" fill-opacity=\"1\" /><path clip-path=\"url(#clip830)\" d=\"M274.89 1517.37 Q271.279 1517.37 269.45 1520.93 Q267.644 1524.47 267.644 1531.6 Q267.644 1538.71 269.45 1542.27 Q271.279 1545.82 274.89 1545.82 Q278.524 1545.82 280.33 1542.27 Q282.158 1538.71 282.158 1531.6 Q282.158 1524.47 280.33 1520.93 Q278.524 1517.37 274.89 1517.37 M274.89 1513.66 Q280.7 1513.66 283.755 1518.27 Q286.834 1522.85 286.834 1531.6 Q286.834 1540.33 283.755 1544.94 Q280.7 1549.52 274.89 1549.52 Q269.08 1549.52 266.001 1544.94 Q262.945 1540.33 262.945 1531.6 Q262.945 1522.85 266.001 1518.27 Q269.08 1513.66 274.89 1513.66 Z\" fill=\"#000000\" fill-rule=\"evenodd\" fill-opacity=\"1\" /><path clip-path=\"url(#clip830)\" d=\"M668.302 1532.02 L697.978 1532.02 L697.978 1535.95 L668.302 1535.95 L668.302 1532.02 Z\" fill=\"#000000\" fill-rule=\"evenodd\" fill-opacity=\"1\" /><path clip-path=\"url(#clip830)\" d=\"M718.071 1517.37 Q714.46 1517.37 712.631 1520.93 Q710.825 1524.47 710.825 1531.6 Q710.825 1538.71 712.631 1542.27 Q714.46 1545.82 718.071 1545.82 Q721.705 1545.82 723.51 1542.27 Q725.339 1538.71 725.339 1531.6 Q725.339 1524.47 723.51 1520.93 Q721.705 1517.37 718.071 1517.37 M718.071 1513.66 Q723.881 1513.66 726.936 1518.27 Q730.015 1522.85 730.015 1531.6 Q730.015 1540.33 726.936 1544.94 Q723.881 1549.52 718.071 1549.52 Q712.261 1549.52 709.182 1544.94 Q706.126 1540.33 706.126 1531.6 Q706.126 1522.85 709.182 1518.27 Q712.261 1513.66 718.071 1513.66 Z\" fill=\"#000000\" fill-rule=\"evenodd\" fill-opacity=\"1\" /><path clip-path=\"url(#clip830)\" d=\"M738.233 1542.97 L743.117 1542.97 L743.117 1548.85 L738.233 1548.85 L738.233 1542.97 Z\" fill=\"#000000\" fill-rule=\"evenodd\" fill-opacity=\"1\" /><path clip-path=\"url(#clip830)\" d=\"M752.121 1514.29 L774.344 1514.29 L774.344 1516.28 L761.797 1548.85 L756.913 1548.85 L768.719 1518.22 L752.121 1518.22 L752.121 1514.29 Z\" fill=\"#000000\" fill-rule=\"evenodd\" fill-opacity=\"1\" /><path clip-path=\"url(#clip830)\" d=\"M783.51 1514.29 L801.867 1514.29 L801.867 1518.22 L787.793 1518.22 L787.793 1526.7 Q788.811 1526.35 789.83 1526.19 Q790.848 1526 791.867 1526 Q797.654 1526 801.033 1529.17 Q804.413 1532.34 804.413 1537.76 Q804.413 1543.34 800.941 1546.44 Q797.468 1549.52 791.149 1549.52 Q788.973 1549.52 786.705 1549.15 Q784.459 1548.78 782.052 1548.04 L782.052 1543.34 Q784.135 1544.47 786.357 1545.03 Q788.58 1545.58 791.056 1545.58 Q795.061 1545.58 797.399 1543.48 Q799.737 1541.37 799.737 1537.76 Q799.737 1534.15 797.399 1532.04 Q795.061 1529.94 791.056 1529.94 Q789.181 1529.94 787.306 1530.35 Q785.455 1530.77 783.51 1531.65 L783.51 1514.29 Z\" fill=\"#000000\" fill-rule=\"evenodd\" fill-opacity=\"1\" /><path clip-path=\"url(#clip830)\" d=\"M1185.88 1532.02 L1215.56 1532.02 L1215.56 1535.95 L1185.88 1535.95 L1185.88 1532.02 Z\" fill=\"#000000\" fill-rule=\"evenodd\" fill-opacity=\"1\" /><path clip-path=\"url(#clip830)\" d=\"M1235.65 1517.37 Q1232.04 1517.37 1230.21 1520.93 Q1228.4 1524.47 1228.4 1531.6 Q1228.4 1538.71 1230.21 1542.27 Q1232.04 1545.82 1235.65 1545.82 Q1239.28 1545.82 1241.09 1542.27 Q1242.92 1538.71 1242.92 1531.6 Q1242.92 1524.47 1241.09 1520.93 Q1239.28 1517.37 1235.65 1517.37 M1235.65 1513.66 Q1241.46 1513.66 1244.52 1518.27 Q1247.59 1522.85 1247.59 1531.6 Q1247.59 1540.33 1244.52 1544.94 Q1241.46 1549.52 1235.65 1549.52 Q1229.84 1549.52 1226.76 1544.94 Q1223.71 1540.33 1223.71 1531.6 Q1223.71 1522.85 1226.76 1518.27 Q1229.84 1513.66 1235.65 1513.66 Z\" fill=\"#000000\" fill-rule=\"evenodd\" fill-opacity=\"1\" /><path clip-path=\"url(#clip830)\" d=\"M1255.81 1542.97 L1260.7 1542.97 L1260.7 1548.85 L1255.81 1548.85 L1255.81 1542.97 Z\" fill=\"#000000\" fill-rule=\"evenodd\" fill-opacity=\"1\" /><path clip-path=\"url(#clip830)\" d=\"M1270.93 1514.29 L1289.28 1514.29 L1289.28 1518.22 L1275.21 1518.22 L1275.21 1526.7 Q1276.23 1526.35 1277.25 1526.19 Q1278.26 1526 1279.28 1526 Q1285.07 1526 1288.45 1529.17 Q1291.83 1532.34 1291.83 1537.76 Q1291.83 1543.34 1288.36 1546.44 Q1284.89 1549.52 1278.57 1549.52 Q1276.39 1549.52 1274.12 1549.15 Q1271.88 1548.78 1269.47 1548.04 L1269.47 1543.34 Q1271.55 1544.47 1273.77 1545.03 Q1276 1545.58 1278.47 1545.58 Q1282.48 1545.58 1284.82 1543.48 Q1287.15 1541.37 1287.15 1537.76 Q1287.15 1534.15 1284.82 1532.04 Q1282.48 1529.94 1278.47 1529.94 Q1276.6 1529.94 1274.72 1530.35 Q1272.87 1530.77 1270.93 1531.65 L1270.93 1514.29 Z\" fill=\"#000000\" fill-rule=\"evenodd\" fill-opacity=\"1\" /><path clip-path=\"url(#clip830)\" d=\"M1311.04 1517.37 Q1307.43 1517.37 1305.6 1520.93 Q1303.8 1524.47 1303.8 1531.6 Q1303.8 1538.71 1305.6 1542.27 Q1307.43 1545.82 1311.04 1545.82 Q1314.68 1545.82 1316.48 1542.27 Q1318.31 1538.71 1318.31 1531.6 Q1318.31 1524.47 1316.48 1520.93 Q1314.68 1517.37 1311.04 1517.37 M1311.04 1513.66 Q1316.85 1513.66 1319.91 1518.27 Q1322.99 1522.85 1322.99 1531.6 Q1322.99 1540.33 1319.91 1544.94 Q1316.85 1549.52 1311.04 1549.52 Q1305.23 1549.52 1302.15 1544.94 Q1299.1 1540.33 1299.1 1531.6 Q1299.1 1522.85 1302.15 1518.27 Q1305.23 1513.66 1311.04 1513.66 Z\" fill=\"#000000\" fill-rule=\"evenodd\" fill-opacity=\"1\" /><path clip-path=\"url(#clip830)\" d=\"M1704.46 1532.02 L1734.13 1532.02 L1734.13 1535.95 L1704.46 1535.95 L1704.46 1532.02 Z\" fill=\"#000000\" fill-rule=\"evenodd\" fill-opacity=\"1\" /><path clip-path=\"url(#clip830)\" d=\"M1754.22 1517.37 Q1750.61 1517.37 1748.78 1520.93 Q1746.98 1524.47 1746.98 1531.6 Q1746.98 1538.71 1748.78 1542.27 Q1750.61 1545.82 1754.22 1545.82 Q1757.86 1545.82 1759.66 1542.27 Q1761.49 1538.71 1761.49 1531.6 Q1761.49 1524.47 1759.66 1520.93 Q1757.86 1517.37 1754.22 1517.37 M1754.22 1513.66 Q1760.03 1513.66 1763.09 1518.27 Q1766.17 1522.85 1766.17 1531.6 Q1766.17 1540.33 1763.09 1544.94 Q1760.03 1549.52 1754.22 1549.52 Q1748.41 1549.52 1745.33 1544.94 Q1742.28 1540.33 1742.28 1531.6 Q1742.28 1522.85 1745.33 1518.27 Q1748.41 1513.66 1754.22 1513.66 Z\" fill=\"#000000\" fill-rule=\"evenodd\" fill-opacity=\"1\" /><path clip-path=\"url(#clip830)\" d=\"M1774.39 1542.97 L1779.27 1542.97 L1779.27 1548.85 L1774.39 1548.85 L1774.39 1542.97 Z\" fill=\"#000000\" fill-rule=\"evenodd\" fill-opacity=\"1\" /><path clip-path=\"url(#clip830)\" d=\"M1793.48 1544.91 L1809.8 1544.91 L1809.8 1548.85 L1787.86 1548.85 L1787.86 1544.91 Q1790.52 1542.16 1795.1 1537.53 Q1799.71 1532.88 1800.89 1531.53 Q1803.14 1529.01 1804.01 1527.27 Q1804.92 1525.51 1804.92 1523.82 Q1804.92 1521.07 1802.97 1519.33 Q1801.05 1517.6 1797.95 1517.6 Q1795.75 1517.6 1793.3 1518.36 Q1790.87 1519.13 1788.09 1520.68 L1788.09 1515.95 Q1790.91 1514.82 1793.37 1514.24 Q1795.82 1513.66 1797.86 1513.66 Q1803.23 1513.66 1806.42 1516.35 Q1809.62 1519.03 1809.62 1523.52 Q1809.62 1525.65 1808.81 1527.57 Q1808.02 1529.47 1805.91 1532.07 Q1805.33 1532.74 1802.23 1535.95 Q1799.13 1539.15 1793.48 1544.91 Z\" fill=\"#000000\" fill-rule=\"evenodd\" fill-opacity=\"1\" /><path clip-path=\"url(#clip830)\" d=\"M1819.66 1514.29 L1838.02 1514.29 L1838.02 1518.22 L1823.95 1518.22 L1823.95 1526.7 Q1824.96 1526.35 1825.98 1526.19 Q1827 1526 1828.02 1526 Q1833.81 1526 1837.19 1529.17 Q1840.57 1532.34 1840.57 1537.76 Q1840.57 1543.34 1837.09 1546.44 Q1833.62 1549.52 1827.3 1549.52 Q1825.13 1549.52 1822.86 1549.15 Q1820.61 1548.78 1818.2 1548.04 L1818.2 1543.34 Q1820.29 1544.47 1822.51 1545.03 Q1824.73 1545.58 1827.21 1545.58 Q1831.21 1545.58 1833.55 1543.48 Q1835.89 1541.37 1835.89 1537.76 Q1835.89 1534.15 1833.55 1532.04 Q1831.21 1529.94 1827.21 1529.94 Q1825.33 1529.94 1823.46 1530.35 Q1821.61 1530.77 1819.66 1531.65 L1819.66 1514.29 Z\" fill=\"#000000\" fill-rule=\"evenodd\" fill-opacity=\"1\" /><path clip-path=\"url(#clip830)\" d=\"M2252.89 1517.37 Q2249.28 1517.37 2247.45 1520.93 Q2245.64 1524.47 2245.64 1531.6 Q2245.64 1538.71 2247.45 1542.27 Q2249.28 1545.82 2252.89 1545.82 Q2256.52 1545.82 2258.33 1542.27 Q2260.16 1538.71 2260.16 1531.6 Q2260.16 1524.47 2258.33 1520.93 Q2256.52 1517.37 2252.89 1517.37 M2252.89 1513.66 Q2258.7 1513.66 2261.76 1518.27 Q2264.83 1522.85 2264.83 1531.6 Q2264.83 1540.33 2261.76 1544.94 Q2258.7 1549.52 2252.89 1549.52 Q2247.08 1549.52 2244 1544.94 Q2240.95 1540.33 2240.95 1531.6 Q2240.95 1522.85 2244 1518.27 Q2247.08 1513.66 2252.89 1513.66 Z\" fill=\"#000000\" fill-rule=\"evenodd\" fill-opacity=\"1\" /><path clip-path=\"url(#clip830)\" d=\"M2273.05 1542.97 L2277.94 1542.97 L2277.94 1548.85 L2273.05 1548.85 L2273.05 1542.97 Z\" fill=\"#000000\" fill-rule=\"evenodd\" fill-opacity=\"1\" /><path clip-path=\"url(#clip830)\" d=\"M2298.12 1517.37 Q2294.51 1517.37 2292.68 1520.93 Q2290.88 1524.47 2290.88 1531.6 Q2290.88 1538.71 2292.68 1542.27 Q2294.51 1545.82 2298.12 1545.82 Q2301.76 1545.82 2303.56 1542.27 Q2305.39 1538.71 2305.39 1531.6 Q2305.39 1524.47 2303.56 1520.93 Q2301.76 1517.37 2298.12 1517.37 M2298.12 1513.66 Q2303.93 1513.66 2306.99 1518.27 Q2310.07 1522.85 2310.07 1531.6 Q2310.07 1540.33 2306.99 1544.94 Q2303.93 1549.52 2298.12 1549.52 Q2292.31 1549.52 2289.23 1544.94 Q2286.18 1540.33 2286.18 1531.6 Q2286.18 1522.85 2289.23 1518.27 Q2292.31 1513.66 2298.12 1513.66 Z\" fill=\"#000000\" fill-rule=\"evenodd\" fill-opacity=\"1\" /><path clip-path=\"url(#clip830)\" d=\"M2328.28 1517.37 Q2324.67 1517.37 2322.84 1520.93 Q2321.04 1524.47 2321.04 1531.6 Q2321.04 1538.71 2322.84 1542.27 Q2324.67 1545.82 2328.28 1545.82 Q2331.92 1545.82 2333.72 1542.27 Q2335.55 1538.71 2335.55 1531.6 Q2335.55 1524.47 2333.72 1520.93 Q2331.92 1517.37 2328.28 1517.37 M2328.28 1513.66 Q2334.09 1513.66 2337.15 1518.27 Q2340.23 1522.85 2340.23 1531.6 Q2340.23 1540.33 2337.15 1544.94 Q2334.09 1549.52 2328.28 1549.52 Q2322.47 1549.52 2319.39 1544.94 Q2316.34 1540.33 2316.34 1531.6 Q2316.34 1522.85 2319.39 1518.27 Q2322.47 1513.66 2328.28 1513.66 Z\" fill=\"#000000\" fill-rule=\"evenodd\" fill-opacity=\"1\" /><polyline clip-path=\"url(#clip832)\" style=\"stroke:#000000; stroke-linecap:butt; stroke-linejoin:round; stroke-width:2; stroke-opacity:0.1; fill:none\" points=\"\n",
       "  156.112,1445.72 2352.76,1445.72 \n",
       "  \"/>\n",
       "<polyline clip-path=\"url(#clip832)\" style=\"stroke:#000000; stroke-linecap:butt; stroke-linejoin:round; stroke-width:2; stroke-opacity:0.1; fill:none\" points=\"\n",
       "  156.112,1106.28 2352.76,1106.28 \n",
       "  \"/>\n",
       "<polyline clip-path=\"url(#clip832)\" style=\"stroke:#000000; stroke-linecap:butt; stroke-linejoin:round; stroke-width:2; stroke-opacity:0.1; fill:none\" points=\"\n",
       "  156.112,766.846 2352.76,766.846 \n",
       "  \"/>\n",
       "<polyline clip-path=\"url(#clip832)\" style=\"stroke:#000000; stroke-linecap:butt; stroke-linejoin:round; stroke-width:2; stroke-opacity:0.1; fill:none\" points=\"\n",
       "  156.112,427.411 2352.76,427.411 \n",
       "  \"/>\n",
       "<polyline clip-path=\"url(#clip832)\" style=\"stroke:#000000; stroke-linecap:butt; stroke-linejoin:round; stroke-width:2; stroke-opacity:0.1; fill:none\" points=\"\n",
       "  156.112,87.9763 2352.76,87.9763 \n",
       "  \"/>\n",
       "<polyline clip-path=\"url(#clip830)\" style=\"stroke:#000000; stroke-linecap:butt; stroke-linejoin:round; stroke-width:4; stroke-opacity:1; fill:none\" points=\"\n",
       "  156.112,1486.45 156.112,47.2441 \n",
       "  \"/>\n",
       "<polyline clip-path=\"url(#clip830)\" style=\"stroke:#000000; stroke-linecap:butt; stroke-linejoin:round; stroke-width:4; stroke-opacity:1; fill:none\" points=\"\n",
       "  156.112,1445.72 175.01,1445.72 \n",
       "  \"/>\n",
       "<polyline clip-path=\"url(#clip830)\" style=\"stroke:#000000; stroke-linecap:butt; stroke-linejoin:round; stroke-width:4; stroke-opacity:1; fill:none\" points=\"\n",
       "  156.112,1106.28 175.01,1106.28 \n",
       "  \"/>\n",
       "<polyline clip-path=\"url(#clip830)\" style=\"stroke:#000000; stroke-linecap:butt; stroke-linejoin:round; stroke-width:4; stroke-opacity:1; fill:none\" points=\"\n",
       "  156.112,766.846 175.01,766.846 \n",
       "  \"/>\n",
       "<polyline clip-path=\"url(#clip830)\" style=\"stroke:#000000; stroke-linecap:butt; stroke-linejoin:round; stroke-width:4; stroke-opacity:1; fill:none\" points=\"\n",
       "  156.112,427.411 175.01,427.411 \n",
       "  \"/>\n",
       "<polyline clip-path=\"url(#clip830)\" style=\"stroke:#000000; stroke-linecap:butt; stroke-linejoin:round; stroke-width:4; stroke-opacity:1; fill:none\" points=\"\n",
       "  156.112,87.9763 175.01,87.9763 \n",
       "  \"/>\n",
       "<path clip-path=\"url(#clip830)\" d=\"M62.9365 1431.51 Q59.3254 1431.51 57.4967 1435.08 Q55.6912 1438.62 55.6912 1445.75 Q55.6912 1452.86 57.4967 1456.42 Q59.3254 1459.96 62.9365 1459.96 Q66.5707 1459.96 68.3763 1456.42 Q70.205 1452.86 70.205 1445.75 Q70.205 1438.62 68.3763 1435.08 Q66.5707 1431.51 62.9365 1431.51 M62.9365 1427.81 Q68.7467 1427.81 71.8022 1432.42 Q74.8809 1437 74.8809 1445.75 Q74.8809 1454.48 71.8022 1459.08 Q68.7467 1463.67 62.9365 1463.67 Q57.1264 1463.67 54.0477 1459.08 Q50.9921 1454.48 50.9921 1445.75 Q50.9921 1437 54.0477 1432.42 Q57.1264 1427.81 62.9365 1427.81 Z\" fill=\"#000000\" fill-rule=\"evenodd\" fill-opacity=\"1\" /><path clip-path=\"url(#clip830)\" d=\"M83.0984 1457.12 L87.9827 1457.12 L87.9827 1463 L83.0984 1463 L83.0984 1457.12 Z\" fill=\"#000000\" fill-rule=\"evenodd\" fill-opacity=\"1\" /><path clip-path=\"url(#clip830)\" d=\"M108.168 1431.51 Q104.557 1431.51 102.728 1435.08 Q100.922 1438.62 100.922 1445.75 Q100.922 1452.86 102.728 1456.42 Q104.557 1459.96 108.168 1459.96 Q111.802 1459.96 113.608 1456.42 Q115.436 1452.86 115.436 1445.75 Q115.436 1438.62 113.608 1435.08 Q111.802 1431.51 108.168 1431.51 M108.168 1427.81 Q113.978 1427.81 117.033 1432.42 Q120.112 1437 120.112 1445.75 Q120.112 1454.48 117.033 1459.08 Q113.978 1463.67 108.168 1463.67 Q102.358 1463.67 99.2789 1459.08 Q96.2234 1454.48 96.2234 1445.75 Q96.2234 1437 99.2789 1432.42 Q102.358 1427.81 108.168 1427.81 Z\" fill=\"#000000\" fill-rule=\"evenodd\" fill-opacity=\"1\" /><path clip-path=\"url(#clip830)\" d=\"M63.9319 1092.08 Q60.3208 1092.08 58.4921 1095.64 Q56.6865 1099.19 56.6865 1106.32 Q56.6865 1113.42 58.4921 1116.99 Q60.3208 1120.53 63.9319 1120.53 Q67.5661 1120.53 69.3717 1116.99 Q71.2004 1113.42 71.2004 1106.32 Q71.2004 1099.19 69.3717 1095.64 Q67.5661 1092.08 63.9319 1092.08 M63.9319 1088.38 Q69.742 1088.38 72.7976 1092.98 Q75.8763 1097.57 75.8763 1106.32 Q75.8763 1115.04 72.7976 1119.65 Q69.742 1124.23 63.9319 1124.23 Q58.1217 1124.23 55.043 1119.65 Q51.9875 1115.04 51.9875 1106.32 Q51.9875 1097.57 55.043 1092.98 Q58.1217 1088.38 63.9319 1088.38 Z\" fill=\"#000000\" fill-rule=\"evenodd\" fill-opacity=\"1\" /><path clip-path=\"url(#clip830)\" d=\"M84.0938 1117.68 L88.978 1117.68 L88.978 1123.56 L84.0938 1123.56 L84.0938 1117.68 Z\" fill=\"#000000\" fill-rule=\"evenodd\" fill-opacity=\"1\" /><path clip-path=\"url(#clip830)\" d=\"M99.2095 1089 L117.566 1089 L117.566 1092.94 L103.492 1092.94 L103.492 1101.41 Q104.51 1101.06 105.529 1100.9 Q106.547 1100.71 107.566 1100.71 Q113.353 1100.71 116.733 1103.89 Q120.112 1107.06 120.112 1112.47 Q120.112 1118.05 116.64 1121.15 Q113.168 1124.23 106.848 1124.23 Q104.672 1124.23 102.404 1123.86 Q100.159 1123.49 97.7511 1122.75 L97.7511 1118.05 Q99.8345 1119.19 102.057 1119.74 Q104.279 1120.3 106.756 1120.3 Q110.76 1120.3 113.098 1118.19 Q115.436 1116.08 115.436 1112.47 Q115.436 1108.86 113.098 1106.76 Q110.76 1104.65 106.756 1104.65 Q104.881 1104.65 103.006 1105.07 Q101.154 1105.48 99.2095 1106.36 L99.2095 1089 Z\" fill=\"#000000\" fill-rule=\"evenodd\" fill-opacity=\"1\" /><path clip-path=\"url(#clip830)\" d=\"M53.7467 780.191 L61.3856 780.191 L61.3856 753.825 L53.0754 755.492 L53.0754 751.233 L61.3393 749.566 L66.0152 749.566 L66.0152 780.191 L73.654 780.191 L73.654 784.126 L53.7467 784.126 L53.7467 780.191 Z\" fill=\"#000000\" fill-rule=\"evenodd\" fill-opacity=\"1\" /><path clip-path=\"url(#clip830)\" d=\"M83.0984 778.246 L87.9827 778.246 L87.9827 784.126 L83.0984 784.126 L83.0984 778.246 Z\" fill=\"#000000\" fill-rule=\"evenodd\" fill-opacity=\"1\" /><path clip-path=\"url(#clip830)\" d=\"M108.168 752.645 Q104.557 752.645 102.728 756.209 Q100.922 759.751 100.922 766.881 Q100.922 773.987 102.728 777.552 Q104.557 781.094 108.168 781.094 Q111.802 781.094 113.608 777.552 Q115.436 773.987 115.436 766.881 Q115.436 759.751 113.608 756.209 Q111.802 752.645 108.168 752.645 M108.168 748.941 Q113.978 748.941 117.033 753.547 Q120.112 758.131 120.112 766.881 Q120.112 775.608 117.033 780.214 Q113.978 784.797 108.168 784.797 Q102.358 784.797 99.2789 780.214 Q96.2234 775.608 96.2234 766.881 Q96.2234 758.131 99.2789 753.547 Q102.358 748.941 108.168 748.941 Z\" fill=\"#000000\" fill-rule=\"evenodd\" fill-opacity=\"1\" /><path clip-path=\"url(#clip830)\" d=\"M54.7421 440.756 L62.381 440.756 L62.381 414.39 L54.0708 416.057 L54.0708 411.798 L62.3347 410.131 L67.0106 410.131 L67.0106 440.756 L74.6494 440.756 L74.6494 444.691 L54.7421 444.691 L54.7421 440.756 Z\" fill=\"#000000\" fill-rule=\"evenodd\" fill-opacity=\"1\" /><path clip-path=\"url(#clip830)\" d=\"M84.0938 438.812 L88.978 438.812 L88.978 444.691 L84.0938 444.691 L84.0938 438.812 Z\" fill=\"#000000\" fill-rule=\"evenodd\" fill-opacity=\"1\" /><path clip-path=\"url(#clip830)\" d=\"M99.2095 410.131 L117.566 410.131 L117.566 414.066 L103.492 414.066 L103.492 422.538 Q104.51 422.191 105.529 422.029 Q106.547 421.844 107.566 421.844 Q113.353 421.844 116.733 425.015 Q120.112 428.187 120.112 433.603 Q120.112 439.182 116.64 442.284 Q113.168 445.362 106.848 445.362 Q104.672 445.362 102.404 444.992 Q100.159 444.622 97.7511 443.881 L97.7511 439.182 Q99.8345 440.316 102.057 440.872 Q104.279 441.427 106.756 441.427 Q110.76 441.427 113.098 439.321 Q115.436 437.214 115.436 433.603 Q115.436 429.992 113.098 427.886 Q110.76 425.779 106.756 425.779 Q104.881 425.779 103.006 426.196 Q101.154 426.613 99.2095 427.492 L99.2095 410.131 Z\" fill=\"#000000\" fill-rule=\"evenodd\" fill-opacity=\"1\" /><path clip-path=\"url(#clip830)\" d=\"M56.9643 101.321 L73.2837 101.321 L73.2837 105.256 L51.3393 105.256 L51.3393 101.321 Q54.0014 98.5665 58.5847 93.9369 Q63.1911 89.2841 64.3717 87.9416 Q66.617 85.4184 67.4967 83.6823 Q68.3994 81.9231 68.3994 80.2333 Q68.3994 77.4786 66.455 75.7425 Q64.5337 74.0064 61.4319 74.0064 Q59.2328 74.0064 56.7791 74.7703 Q54.3486 75.5342 51.5708 77.0851 L51.5708 72.3629 Q54.3949 71.2287 56.8486 70.65 Q59.3023 70.0713 61.3393 70.0713 Q66.7096 70.0713 69.9041 72.7565 Q73.0985 75.4416 73.0985 79.9323 Q73.0985 82.062 72.2883 83.9832 Q71.5013 85.8814 69.3948 88.474 Q68.8161 89.1453 65.7143 92.3628 Q62.6124 95.5573 56.9643 101.321 Z\" fill=\"#000000\" fill-rule=\"evenodd\" fill-opacity=\"1\" /><path clip-path=\"url(#clip830)\" d=\"M83.0984 99.3767 L87.9827 99.3767 L87.9827 105.256 L83.0984 105.256 L83.0984 99.3767 Z\" fill=\"#000000\" fill-rule=\"evenodd\" fill-opacity=\"1\" /><path clip-path=\"url(#clip830)\" d=\"M108.168 73.775 Q104.557 73.775 102.728 77.3398 Q100.922 80.8814 100.922 88.011 Q100.922 95.1174 102.728 98.6822 Q104.557 102.224 108.168 102.224 Q111.802 102.224 113.608 98.6822 Q115.436 95.1174 115.436 88.011 Q115.436 80.8814 113.608 77.3398 Q111.802 73.775 108.168 73.775 M108.168 70.0713 Q113.978 70.0713 117.033 74.6777 Q120.112 79.261 120.112 88.011 Q120.112 96.7378 117.033 101.344 Q113.978 105.928 108.168 105.928 Q102.358 105.928 99.2789 101.344 Q96.2234 96.7378 96.2234 88.011 Q96.2234 79.261 99.2789 74.6777 Q102.358 70.0713 108.168 70.0713 Z\" fill=\"#000000\" fill-rule=\"evenodd\" fill-opacity=\"1\" /><circle clip-path=\"url(#clip832)\" cx=\"2290.59\" cy=\"1445.72\" r=\"14\" fill=\"#ff0000\" fill-rule=\"evenodd\" fill-opacity=\"1\" stroke=\"#000000\" stroke-opacity=\"1\" stroke-width=\"3.2\"/>\n",
       "<circle clip-path=\"url(#clip832)\" cx=\"2290.59\" cy=\"87.9763\" r=\"14\" fill=\"#ff0000\" fill-rule=\"evenodd\" fill-opacity=\"1\" stroke=\"#000000\" stroke-opacity=\"1\" stroke-width=\"3.2\"/>\n",
       "<circle clip-path=\"url(#clip832)\" cx=\"218.281\" cy=\"1445.72\" r=\"14\" fill=\"#ff0000\" fill-rule=\"evenodd\" fill-opacity=\"1\" stroke=\"#000000\" stroke-opacity=\"1\" stroke-width=\"3.2\"/>\n",
       "</svg>\n"
      ]
     },
     "execution_count": 6,
     "metadata": {},
     "output_type": "execute_result"
    }
   ],
   "source": [
    "scatter(Y[1,:],Y[2,:], color=\"red\", leg=false) #graficando los puntos fijos"
   ]
  },
  {
   "cell_type": "code",
   "execution_count": 7,
   "id": "b11eda3e",
   "metadata": {},
   "outputs": [
    {
     "name": "stdout",
     "output_type": "stream",
     "text": [
      "eldeterminante de UV' es -1 y la matriz de Rotacion es \n",
      " R=[0.8320502943378436 0.554700196225229; -0.5547001962252289 0.8320502943378434]\n",
      " La transdormación T = [-0.5666666666666667; 0.5333333333333333;;]\n",
      " c=0.36055512754639896"
     ]
    }
   ],
   "source": [
    "####descomposicion SVD###\n",
    "F=svd(CovXY) #usando funciones del paquete de LinearAL\n",
    "u, s, v =F;\n",
    "D=diagm(0 => s); # pasar el vector de valroes singulares a la diagonal principal\n",
    "\n",
    "##construir la matriz de rotacion de acuerdo a las condiciones del lema y teorema\n",
    "## del articulo de Umeyama.\n",
    "if det(u)*det(v')==1\n",
    " \n",
    "    RR=u*v';\n",
    "    print(\"eldeterminante de UV' es 1 y la matriz de Rotacion es R=$RR\")\n",
    "else \n",
    "        \n",
    "\n",
    "    pseudoI= Vector{Int64}(ones(d-1)) \n",
    "    push!(pseudoI,-1)\n",
    "    S=diagm(0 => pseudoI)\n",
    "    RR=u*S*v';\n",
    "    print(\"eldeterminante de UV' es -1 y la matriz de Rotacion es \\n R=$RR\")\n",
    "end\n",
    "\n",
    "###calculemos c, y t\n",
    "\n",
    "\n",
    "c=1/VarX * tr(D*S);\n",
    "\n",
    "t= MY'-c.*RR* MX' #calulando la transformación\n",
    "print( \"\\n La transdormación T = $t\\n c=$c\")\n",
    "    \n"
   ]
  },
  {
   "cell_type": "markdown",
   "id": "2db996b1",
   "metadata": {},
   "source": [
    "$\\epsilon^2 = \\sigma_y^2-\\frac{tr(DS)^2}{\\sigma_x^2}$"
   ]
  },
  {
   "cell_type": "code",
   "execution_count": 8,
   "id": "c343d50d",
   "metadata": {},
   "outputs": [
    {
     "data": {
      "text/plain": [
       "0.9666666666666667"
      ]
     },
     "execution_count": 8,
     "metadata": {},
     "output_type": "execute_result"
    }
   ],
   "source": [
    "#Claculo del error\n",
    "error_cuadratico= VarY-  (tr(D*S)^2)/VarX"
   ]
  },
  {
   "cell_type": "code",
   "execution_count": 9,
   "id": "4eb5198d",
   "metadata": {},
   "outputs": [],
   "source": [
    "####cgrafiquemos los puntos ###\n",
    "YT=zeros(d,N)\n",
    "for i in 1:N\n",
    "     YT[:,i]= RR*X[:,i] + t # Aplicando los movimientos al conjunto de puntos\n",
    "end\n",
    "\n",
    "\n",
    "\n"
   ]
  },
  {
   "cell_type": "code",
   "execution_count": 10,
   "id": "fc93b8ab",
   "metadata": {},
   "outputs": [
    {
     "name": "stderr",
     "output_type": "stream",
     "text": [
      "\u001b[32m\u001b[1m   Resolving\u001b[22m\u001b[39m package versions...\n",
      "\u001b[32m\u001b[1m  No Changes\u001b[22m\u001b[39m to `~/Documents/GitHub/Tareaa/Project.toml`\n",
      "\u001b[32m\u001b[1m  No Changes\u001b[22m\u001b[39m to `~/Documents/GitHub/Tareaa/Manifest.toml`\n",
      "\u001b[32m\u001b[1mPrecompiling\u001b[22m\u001b[39m project...\n",
      "\u001b[33m  ✓ \u001b[39mGR\n",
      "\u001b[33m  ✓ \u001b[39mPlots\n",
      "\u001b[32m  ✓ \u001b[39mStatsPlots\n",
      "  3 dependencies successfully precompiled in 76 seconds (205 already precompiled, 1 skipped during auto due to previous errors)\n",
      "  \u001b[33m2\u001b[39m dependencies precompiled but different versions are currently loaded. Restart julia to access the new versions\n",
      "\u001b[32m\u001b[1m   Resolving\u001b[22m\u001b[39m package versions...\n",
      "\u001b[32m\u001b[1m  No Changes\u001b[22m\u001b[39m to `~/Documents/GitHub/Tareaa/Project.toml`\n",
      "\u001b[32m\u001b[1m  No Changes\u001b[22m\u001b[39m to `~/Documents/GitHub/Tareaa/Manifest.toml`\n",
      "┌ Info: Precompiling StatsPlots [f3b207a7-027a-5e70-b257-86293d7955fd]\n",
      "└ @ Base loading.jl:1423\n",
      "\u001b[33m\u001b[1m┌ \u001b[22m\u001b[39m\u001b[33m\u001b[1mWarning: \u001b[22m\u001b[39mModule Plots with build ID 170928444324417 is missing from the cache.\n",
      "\u001b[33m\u001b[1m│ \u001b[22m\u001b[39mThis may mean Plots [91a5bcdd-55d7-5caf-9e0b-520d859cae80] does not support precompilation but is imported by a module that does.\n",
      "\u001b[33m\u001b[1m└ \u001b[22m\u001b[39m\u001b[90m@ Base loading.jl:1107\u001b[39m\n",
      "┌ Info: Skipping precompilation since __precompile__(false). Importing StatsPlots [f3b207a7-027a-5e70-b257-86293d7955fd].\n",
      "└ @ Base loading.jl:1124\n",
      "┌ Info: Precompiling RDatasets [ce6b1742-4840-55fa-b093-852dadbb1d8b]\n",
      "└ @ Base loading.jl:1423\n"
     ]
    }
   ],
   "source": [
    "using Pkg\n",
    "Pkg.add(\"StatsPlots\")\n",
    "Pkg.add(\"RDatasets\")\n",
    "using StatsPlots, RDatasets\n"
   ]
  },
  {
   "cell_type": "code",
   "execution_count": 11,
   "id": "5b50daf7",
   "metadata": {},
   "outputs": [
    {
     "data": {
      "image/svg+xml": [
       "<?xml version=\"1.0\" encoding=\"utf-8\"?>\n",
       "<svg xmlns=\"http://www.w3.org/2000/svg\" xmlns:xlink=\"http://www.w3.org/1999/xlink\" width=\"600\" height=\"400\" viewBox=\"0 0 2400 1600\">\n",
       "<defs>\n",
       "  <clipPath id=\"clip870\">\n",
       "    <rect x=\"0\" y=\"0\" width=\"2400\" height=\"1600\"/>\n",
       "  </clipPath>\n",
       "</defs>\n",
       "<path clip-path=\"url(#clip870)\" d=\"\n",
       "M0 1600 L2400 1600 L2400 0 L0 0  Z\n",
       "  \" fill=\"#ffffff\" fill-rule=\"evenodd\" fill-opacity=\"1\"/>\n",
       "<defs>\n",
       "  <clipPath id=\"clip871\">\n",
       "    <rect x=\"480\" y=\"0\" width=\"1681\" height=\"1600\"/>\n",
       "  </clipPath>\n",
       "</defs>\n",
       "<path clip-path=\"url(#clip870)\" d=\"\n",
       "M156.112 1486.45 L2352.76 1486.45 L2352.76 47.2441 L156.112 47.2441  Z\n",
       "  \" fill=\"#ffffff\" fill-rule=\"evenodd\" fill-opacity=\"1\"/>\n",
       "<defs>\n",
       "  <clipPath id=\"clip872\">\n",
       "    <rect x=\"156\" y=\"47\" width=\"2198\" height=\"1440\"/>\n",
       "  </clipPath>\n",
       "</defs>\n",
       "<polyline clip-path=\"url(#clip872)\" style=\"stroke:#000000; stroke-linecap:butt; stroke-linejoin:round; stroke-width:2; stroke-opacity:0.1; fill:none\" points=\"\n",
       "  218.281,1486.45 218.281,47.2441 \n",
       "  \"/>\n",
       "<polyline clip-path=\"url(#clip872)\" style=\"stroke:#000000; stroke-linecap:butt; stroke-linejoin:round; stroke-width:2; stroke-opacity:0.1; fill:none\" points=\"\n",
       "  736.358,1486.45 736.358,47.2441 \n",
       "  \"/>\n",
       "<polyline clip-path=\"url(#clip872)\" style=\"stroke:#000000; stroke-linecap:butt; stroke-linejoin:round; stroke-width:2; stroke-opacity:0.1; fill:none\" points=\"\n",
       "  1254.43,1486.45 1254.43,47.2441 \n",
       "  \"/>\n",
       "<polyline clip-path=\"url(#clip872)\" style=\"stroke:#000000; stroke-linecap:butt; stroke-linejoin:round; stroke-width:2; stroke-opacity:0.1; fill:none\" points=\"\n",
       "  1772.51,1486.45 1772.51,47.2441 \n",
       "  \"/>\n",
       "<polyline clip-path=\"url(#clip872)\" style=\"stroke:#000000; stroke-linecap:butt; stroke-linejoin:round; stroke-width:2; stroke-opacity:0.1; fill:none\" points=\"\n",
       "  2290.59,1486.45 2290.59,47.2441 \n",
       "  \"/>\n",
       "<polyline clip-path=\"url(#clip870)\" style=\"stroke:#000000; stroke-linecap:butt; stroke-linejoin:round; stroke-width:4; stroke-opacity:1; fill:none\" points=\"\n",
       "  156.112,1486.45 2352.76,1486.45 \n",
       "  \"/>\n",
       "<polyline clip-path=\"url(#clip870)\" style=\"stroke:#000000; stroke-linecap:butt; stroke-linejoin:round; stroke-width:4; stroke-opacity:1; fill:none\" points=\"\n",
       "  218.281,1486.45 218.281,1467.55 \n",
       "  \"/>\n",
       "<polyline clip-path=\"url(#clip870)\" style=\"stroke:#000000; stroke-linecap:butt; stroke-linejoin:round; stroke-width:4; stroke-opacity:1; fill:none\" points=\"\n",
       "  736.358,1486.45 736.358,1467.55 \n",
       "  \"/>\n",
       "<polyline clip-path=\"url(#clip870)\" style=\"stroke:#000000; stroke-linecap:butt; stroke-linejoin:round; stroke-width:4; stroke-opacity:1; fill:none\" points=\"\n",
       "  1254.43,1486.45 1254.43,1467.55 \n",
       "  \"/>\n",
       "<polyline clip-path=\"url(#clip870)\" style=\"stroke:#000000; stroke-linecap:butt; stroke-linejoin:round; stroke-width:4; stroke-opacity:1; fill:none\" points=\"\n",
       "  1772.51,1486.45 1772.51,1467.55 \n",
       "  \"/>\n",
       "<polyline clip-path=\"url(#clip870)\" style=\"stroke:#000000; stroke-linecap:butt; stroke-linejoin:round; stroke-width:4; stroke-opacity:1; fill:none\" points=\"\n",
       "  2290.59,1486.45 2290.59,1467.55 \n",
       "  \"/>\n",
       "<path clip-path=\"url(#clip870)\" d=\"M164.809 1532.02 L194.485 1532.02 L194.485 1535.95 L164.809 1535.95 L164.809 1532.02 Z\" fill=\"#000000\" fill-rule=\"evenodd\" fill-opacity=\"1\" /><path clip-path=\"url(#clip870)\" d=\"M205.388 1544.91 L213.027 1544.91 L213.027 1518.55 L204.717 1520.21 L204.717 1515.95 L212.98 1514.29 L217.656 1514.29 L217.656 1544.91 L225.295 1544.91 L225.295 1548.85 L205.388 1548.85 L205.388 1544.91 Z\" fill=\"#000000\" fill-rule=\"evenodd\" fill-opacity=\"1\" /><path clip-path=\"url(#clip870)\" d=\"M234.74 1542.97 L239.624 1542.97 L239.624 1548.85 L234.74 1548.85 L234.74 1542.97 Z\" fill=\"#000000\" fill-rule=\"evenodd\" fill-opacity=\"1\" /><path clip-path=\"url(#clip870)\" d=\"M259.809 1517.37 Q256.198 1517.37 254.369 1520.93 Q252.564 1524.47 252.564 1531.6 Q252.564 1538.71 254.369 1542.27 Q256.198 1545.82 259.809 1545.82 Q263.443 1545.82 265.249 1542.27 Q267.077 1538.71 267.077 1531.6 Q267.077 1524.47 265.249 1520.93 Q263.443 1517.37 259.809 1517.37 M259.809 1513.66 Q265.619 1513.66 268.675 1518.27 Q271.753 1522.85 271.753 1531.6 Q271.753 1540.33 268.675 1544.94 Q265.619 1549.52 259.809 1549.52 Q253.999 1549.52 250.92 1544.94 Q247.864 1540.33 247.864 1531.6 Q247.864 1522.85 250.92 1518.27 Q253.999 1513.66 259.809 1513.66 Z\" fill=\"#000000\" fill-rule=\"evenodd\" fill-opacity=\"1\" /><path clip-path=\"url(#clip870)\" d=\"M683.383 1532.02 L713.059 1532.02 L713.059 1535.95 L683.383 1535.95 L683.383 1532.02 Z\" fill=\"#000000\" fill-rule=\"evenodd\" fill-opacity=\"1\" /><path clip-path=\"url(#clip870)\" d=\"M733.152 1517.37 Q729.541 1517.37 727.712 1520.93 Q725.906 1524.47 725.906 1531.6 Q725.906 1538.71 727.712 1542.27 Q729.541 1545.82 733.152 1545.82 Q736.786 1545.82 738.591 1542.27 Q740.42 1538.71 740.42 1531.6 Q740.42 1524.47 738.591 1520.93 Q736.786 1517.37 733.152 1517.37 M733.152 1513.66 Q738.962 1513.66 742.017 1518.27 Q745.096 1522.85 745.096 1531.6 Q745.096 1540.33 742.017 1544.94 Q738.962 1549.52 733.152 1549.52 Q727.341 1549.52 724.263 1544.94 Q721.207 1540.33 721.207 1531.6 Q721.207 1522.85 724.263 1518.27 Q727.341 1513.66 733.152 1513.66 Z\" fill=\"#000000\" fill-rule=\"evenodd\" fill-opacity=\"1\" /><path clip-path=\"url(#clip870)\" d=\"M753.314 1542.97 L758.198 1542.97 L758.198 1548.85 L753.314 1548.85 L753.314 1542.97 Z\" fill=\"#000000\" fill-rule=\"evenodd\" fill-opacity=\"1\" /><path clip-path=\"url(#clip870)\" d=\"M768.429 1514.29 L786.786 1514.29 L786.786 1518.22 L772.712 1518.22 L772.712 1526.7 Q773.73 1526.35 774.749 1526.19 Q775.767 1526 776.786 1526 Q782.573 1526 785.952 1529.17 Q789.332 1532.34 789.332 1537.76 Q789.332 1543.34 785.86 1546.44 Q782.387 1549.52 776.068 1549.52 Q773.892 1549.52 771.624 1549.15 Q769.378 1548.78 766.971 1548.04 L766.971 1543.34 Q769.054 1544.47 771.276 1545.03 Q773.499 1545.58 775.975 1545.58 Q779.98 1545.58 782.318 1543.48 Q784.656 1541.37 784.656 1537.76 Q784.656 1534.15 782.318 1532.04 Q779.98 1529.94 775.975 1529.94 Q774.101 1529.94 772.226 1530.35 Q770.374 1530.77 768.429 1531.65 L768.429 1514.29 Z\" fill=\"#000000\" fill-rule=\"evenodd\" fill-opacity=\"1\" /><path clip-path=\"url(#clip870)\" d=\"M1231.82 1517.37 Q1228.21 1517.37 1226.38 1520.93 Q1224.57 1524.47 1224.57 1531.6 Q1224.57 1538.71 1226.38 1542.27 Q1228.21 1545.82 1231.82 1545.82 Q1235.45 1545.82 1237.26 1542.27 Q1239.09 1538.71 1239.09 1531.6 Q1239.09 1524.47 1237.26 1520.93 Q1235.45 1517.37 1231.82 1517.37 M1231.82 1513.66 Q1237.63 1513.66 1240.68 1518.27 Q1243.76 1522.85 1243.76 1531.6 Q1243.76 1540.33 1240.68 1544.94 Q1237.63 1549.52 1231.82 1549.52 Q1226.01 1549.52 1222.93 1544.94 Q1219.87 1540.33 1219.87 1531.6 Q1219.87 1522.85 1222.93 1518.27 Q1226.01 1513.66 1231.82 1513.66 Z\" fill=\"#000000\" fill-rule=\"evenodd\" fill-opacity=\"1\" /><path clip-path=\"url(#clip870)\" d=\"M1251.98 1542.97 L1256.86 1542.97 L1256.86 1548.85 L1251.98 1548.85 L1251.98 1542.97 Z\" fill=\"#000000\" fill-rule=\"evenodd\" fill-opacity=\"1\" /><path clip-path=\"url(#clip870)\" d=\"M1277.05 1517.37 Q1273.44 1517.37 1271.61 1520.93 Q1269.8 1524.47 1269.8 1531.6 Q1269.8 1538.71 1271.61 1542.27 Q1273.44 1545.82 1277.05 1545.82 Q1280.68 1545.82 1282.49 1542.27 Q1284.32 1538.71 1284.32 1531.6 Q1284.32 1524.47 1282.49 1520.93 Q1280.68 1517.37 1277.05 1517.37 M1277.05 1513.66 Q1282.86 1513.66 1285.92 1518.27 Q1288.99 1522.85 1288.99 1531.6 Q1288.99 1540.33 1285.92 1544.94 Q1282.86 1549.52 1277.05 1549.52 Q1271.24 1549.52 1268.16 1544.94 Q1265.11 1540.33 1265.11 1531.6 Q1265.11 1522.85 1268.16 1518.27 Q1271.24 1513.66 1277.05 1513.66 Z\" fill=\"#000000\" fill-rule=\"evenodd\" fill-opacity=\"1\" /><path clip-path=\"url(#clip870)\" d=\"M1750.39 1517.37 Q1746.78 1517.37 1744.95 1520.93 Q1743.15 1524.47 1743.15 1531.6 Q1743.15 1538.71 1744.95 1542.27 Q1746.78 1545.82 1750.39 1545.82 Q1754.03 1545.82 1755.83 1542.27 Q1757.66 1538.71 1757.66 1531.6 Q1757.66 1524.47 1755.83 1520.93 Q1754.03 1517.37 1750.39 1517.37 M1750.39 1513.66 Q1756.2 1513.66 1759.26 1518.27 Q1762.34 1522.85 1762.34 1531.6 Q1762.34 1540.33 1759.26 1544.94 Q1756.2 1549.52 1750.39 1549.52 Q1744.58 1549.52 1741.5 1544.94 Q1738.45 1540.33 1738.45 1531.6 Q1738.45 1522.85 1741.5 1518.27 Q1744.58 1513.66 1750.39 1513.66 Z\" fill=\"#000000\" fill-rule=\"evenodd\" fill-opacity=\"1\" /><path clip-path=\"url(#clip870)\" d=\"M1770.55 1542.97 L1775.44 1542.97 L1775.44 1548.85 L1770.55 1548.85 L1770.55 1542.97 Z\" fill=\"#000000\" fill-rule=\"evenodd\" fill-opacity=\"1\" /><path clip-path=\"url(#clip870)\" d=\"M1785.67 1514.29 L1804.03 1514.29 L1804.03 1518.22 L1789.95 1518.22 L1789.95 1526.7 Q1790.97 1526.35 1791.99 1526.19 Q1793.01 1526 1794.03 1526 Q1799.81 1526 1803.19 1529.17 Q1806.57 1532.34 1806.57 1537.76 Q1806.57 1543.34 1803.1 1546.44 Q1799.63 1549.52 1793.31 1549.52 Q1791.13 1549.52 1788.86 1549.15 Q1786.62 1548.78 1784.21 1548.04 L1784.21 1543.34 Q1786.3 1544.47 1788.52 1545.03 Q1790.74 1545.58 1793.22 1545.58 Q1797.22 1545.58 1799.56 1543.48 Q1801.9 1541.37 1801.9 1537.76 Q1801.9 1534.15 1799.56 1532.04 Q1797.22 1529.94 1793.22 1529.94 Q1791.34 1529.94 1789.47 1530.35 Q1787.61 1530.77 1785.67 1531.65 L1785.67 1514.29 Z\" fill=\"#000000\" fill-rule=\"evenodd\" fill-opacity=\"1\" /><path clip-path=\"url(#clip870)\" d=\"M2257.74 1544.91 L2265.38 1544.91 L2265.38 1518.55 L2257.07 1520.21 L2257.07 1515.95 L2265.33 1514.29 L2270.01 1514.29 L2270.01 1544.91 L2277.65 1544.91 L2277.65 1548.85 L2257.74 1548.85 L2257.74 1544.91 Z\" fill=\"#000000\" fill-rule=\"evenodd\" fill-opacity=\"1\" /><path clip-path=\"url(#clip870)\" d=\"M2287.09 1542.97 L2291.98 1542.97 L2291.98 1548.85 L2287.09 1548.85 L2287.09 1542.97 Z\" fill=\"#000000\" fill-rule=\"evenodd\" fill-opacity=\"1\" /><path clip-path=\"url(#clip870)\" d=\"M2312.16 1517.37 Q2308.55 1517.37 2306.72 1520.93 Q2304.92 1524.47 2304.92 1531.6 Q2304.92 1538.71 2306.72 1542.27 Q2308.55 1545.82 2312.16 1545.82 Q2315.79 1545.82 2317.6 1542.27 Q2319.43 1538.71 2319.43 1531.6 Q2319.43 1524.47 2317.6 1520.93 Q2315.79 1517.37 2312.16 1517.37 M2312.16 1513.66 Q2317.97 1513.66 2321.03 1518.27 Q2324.11 1522.85 2324.11 1531.6 Q2324.11 1540.33 2321.03 1544.94 Q2317.97 1549.52 2312.16 1549.52 Q2306.35 1549.52 2303.27 1544.94 Q2300.22 1540.33 2300.22 1531.6 Q2300.22 1522.85 2303.27 1518.27 Q2306.35 1513.66 2312.16 1513.66 Z\" fill=\"#000000\" fill-rule=\"evenodd\" fill-opacity=\"1\" /><polyline clip-path=\"url(#clip872)\" style=\"stroke:#000000; stroke-linecap:butt; stroke-linejoin:round; stroke-width:2; stroke-opacity:0.1; fill:none\" points=\"\n",
       "  156.112,1445.72 2352.76,1445.72 \n",
       "  \"/>\n",
       "<polyline clip-path=\"url(#clip872)\" style=\"stroke:#000000; stroke-linecap:butt; stroke-linejoin:round; stroke-width:2; stroke-opacity:0.1; fill:none\" points=\"\n",
       "  156.112,1106.28 2352.76,1106.28 \n",
       "  \"/>\n",
       "<polyline clip-path=\"url(#clip872)\" style=\"stroke:#000000; stroke-linecap:butt; stroke-linejoin:round; stroke-width:2; stroke-opacity:0.1; fill:none\" points=\"\n",
       "  156.112,766.846 2352.76,766.846 \n",
       "  \"/>\n",
       "<polyline clip-path=\"url(#clip872)\" style=\"stroke:#000000; stroke-linecap:butt; stroke-linejoin:round; stroke-width:2; stroke-opacity:0.1; fill:none\" points=\"\n",
       "  156.112,427.411 2352.76,427.411 \n",
       "  \"/>\n",
       "<polyline clip-path=\"url(#clip872)\" style=\"stroke:#000000; stroke-linecap:butt; stroke-linejoin:round; stroke-width:2; stroke-opacity:0.1; fill:none\" points=\"\n",
       "  156.112,87.9763 2352.76,87.9763 \n",
       "  \"/>\n",
       "<polyline clip-path=\"url(#clip870)\" style=\"stroke:#000000; stroke-linecap:butt; stroke-linejoin:round; stroke-width:4; stroke-opacity:1; fill:none\" points=\"\n",
       "  156.112,1486.45 156.112,47.2441 \n",
       "  \"/>\n",
       "<polyline clip-path=\"url(#clip870)\" style=\"stroke:#000000; stroke-linecap:butt; stroke-linejoin:round; stroke-width:4; stroke-opacity:1; fill:none\" points=\"\n",
       "  156.112,1445.72 175.01,1445.72 \n",
       "  \"/>\n",
       "<polyline clip-path=\"url(#clip870)\" style=\"stroke:#000000; stroke-linecap:butt; stroke-linejoin:round; stroke-width:4; stroke-opacity:1; fill:none\" points=\"\n",
       "  156.112,1106.28 175.01,1106.28 \n",
       "  \"/>\n",
       "<polyline clip-path=\"url(#clip870)\" style=\"stroke:#000000; stroke-linecap:butt; stroke-linejoin:round; stroke-width:4; stroke-opacity:1; fill:none\" points=\"\n",
       "  156.112,766.846 175.01,766.846 \n",
       "  \"/>\n",
       "<polyline clip-path=\"url(#clip870)\" style=\"stroke:#000000; stroke-linecap:butt; stroke-linejoin:round; stroke-width:4; stroke-opacity:1; fill:none\" points=\"\n",
       "  156.112,427.411 175.01,427.411 \n",
       "  \"/>\n",
       "<polyline clip-path=\"url(#clip870)\" style=\"stroke:#000000; stroke-linecap:butt; stroke-linejoin:round; stroke-width:4; stroke-opacity:1; fill:none\" points=\"\n",
       "  156.112,87.9763 175.01,87.9763 \n",
       "  \"/>\n",
       "<path clip-path=\"url(#clip870)\" d=\"M62.9365 1431.51 Q59.3254 1431.51 57.4967 1435.08 Q55.6912 1438.62 55.6912 1445.75 Q55.6912 1452.86 57.4967 1456.42 Q59.3254 1459.96 62.9365 1459.96 Q66.5707 1459.96 68.3763 1456.42 Q70.205 1452.86 70.205 1445.75 Q70.205 1438.62 68.3763 1435.08 Q66.5707 1431.51 62.9365 1431.51 M62.9365 1427.81 Q68.7467 1427.81 71.8022 1432.42 Q74.8809 1437 74.8809 1445.75 Q74.8809 1454.48 71.8022 1459.08 Q68.7467 1463.67 62.9365 1463.67 Q57.1264 1463.67 54.0477 1459.08 Q50.9921 1454.48 50.9921 1445.75 Q50.9921 1437 54.0477 1432.42 Q57.1264 1427.81 62.9365 1427.81 Z\" fill=\"#000000\" fill-rule=\"evenodd\" fill-opacity=\"1\" /><path clip-path=\"url(#clip870)\" d=\"M83.0984 1457.12 L87.9827 1457.12 L87.9827 1463 L83.0984 1463 L83.0984 1457.12 Z\" fill=\"#000000\" fill-rule=\"evenodd\" fill-opacity=\"1\" /><path clip-path=\"url(#clip870)\" d=\"M108.168 1431.51 Q104.557 1431.51 102.728 1435.08 Q100.922 1438.62 100.922 1445.75 Q100.922 1452.86 102.728 1456.42 Q104.557 1459.96 108.168 1459.96 Q111.802 1459.96 113.608 1456.42 Q115.436 1452.86 115.436 1445.75 Q115.436 1438.62 113.608 1435.08 Q111.802 1431.51 108.168 1431.51 M108.168 1427.81 Q113.978 1427.81 117.033 1432.42 Q120.112 1437 120.112 1445.75 Q120.112 1454.48 117.033 1459.08 Q113.978 1463.67 108.168 1463.67 Q102.358 1463.67 99.2789 1459.08 Q96.2234 1454.48 96.2234 1445.75 Q96.2234 1437 99.2789 1432.42 Q102.358 1427.81 108.168 1427.81 Z\" fill=\"#000000\" fill-rule=\"evenodd\" fill-opacity=\"1\" /><path clip-path=\"url(#clip870)\" d=\"M63.9319 1092.08 Q60.3208 1092.08 58.4921 1095.64 Q56.6865 1099.19 56.6865 1106.32 Q56.6865 1113.42 58.4921 1116.99 Q60.3208 1120.53 63.9319 1120.53 Q67.5661 1120.53 69.3717 1116.99 Q71.2004 1113.42 71.2004 1106.32 Q71.2004 1099.19 69.3717 1095.64 Q67.5661 1092.08 63.9319 1092.08 M63.9319 1088.38 Q69.742 1088.38 72.7976 1092.98 Q75.8763 1097.57 75.8763 1106.32 Q75.8763 1115.04 72.7976 1119.65 Q69.742 1124.23 63.9319 1124.23 Q58.1217 1124.23 55.043 1119.65 Q51.9875 1115.04 51.9875 1106.32 Q51.9875 1097.57 55.043 1092.98 Q58.1217 1088.38 63.9319 1088.38 Z\" fill=\"#000000\" fill-rule=\"evenodd\" fill-opacity=\"1\" /><path clip-path=\"url(#clip870)\" d=\"M84.0938 1117.68 L88.978 1117.68 L88.978 1123.56 L84.0938 1123.56 L84.0938 1117.68 Z\" fill=\"#000000\" fill-rule=\"evenodd\" fill-opacity=\"1\" /><path clip-path=\"url(#clip870)\" d=\"M99.2095 1089 L117.566 1089 L117.566 1092.94 L103.492 1092.94 L103.492 1101.41 Q104.51 1101.06 105.529 1100.9 Q106.547 1100.71 107.566 1100.71 Q113.353 1100.71 116.733 1103.89 Q120.112 1107.06 120.112 1112.47 Q120.112 1118.05 116.64 1121.15 Q113.168 1124.23 106.848 1124.23 Q104.672 1124.23 102.404 1123.86 Q100.159 1123.49 97.7511 1122.75 L97.7511 1118.05 Q99.8345 1119.19 102.057 1119.74 Q104.279 1120.3 106.756 1120.3 Q110.76 1120.3 113.098 1118.19 Q115.436 1116.08 115.436 1112.47 Q115.436 1108.86 113.098 1106.76 Q110.76 1104.65 106.756 1104.65 Q104.881 1104.65 103.006 1105.07 Q101.154 1105.48 99.2095 1106.36 L99.2095 1089 Z\" fill=\"#000000\" fill-rule=\"evenodd\" fill-opacity=\"1\" /><path clip-path=\"url(#clip870)\" d=\"M53.7467 780.191 L61.3856 780.191 L61.3856 753.825 L53.0754 755.492 L53.0754 751.233 L61.3393 749.566 L66.0152 749.566 L66.0152 780.191 L73.654 780.191 L73.654 784.126 L53.7467 784.126 L53.7467 780.191 Z\" fill=\"#000000\" fill-rule=\"evenodd\" fill-opacity=\"1\" /><path clip-path=\"url(#clip870)\" d=\"M83.0984 778.246 L87.9827 778.246 L87.9827 784.126 L83.0984 784.126 L83.0984 778.246 Z\" fill=\"#000000\" fill-rule=\"evenodd\" fill-opacity=\"1\" /><path clip-path=\"url(#clip870)\" d=\"M108.168 752.645 Q104.557 752.645 102.728 756.209 Q100.922 759.751 100.922 766.881 Q100.922 773.987 102.728 777.552 Q104.557 781.094 108.168 781.094 Q111.802 781.094 113.608 777.552 Q115.436 773.987 115.436 766.881 Q115.436 759.751 113.608 756.209 Q111.802 752.645 108.168 752.645 M108.168 748.941 Q113.978 748.941 117.033 753.547 Q120.112 758.131 120.112 766.881 Q120.112 775.608 117.033 780.214 Q113.978 784.797 108.168 784.797 Q102.358 784.797 99.2789 780.214 Q96.2234 775.608 96.2234 766.881 Q96.2234 758.131 99.2789 753.547 Q102.358 748.941 108.168 748.941 Z\" fill=\"#000000\" fill-rule=\"evenodd\" fill-opacity=\"1\" /><path clip-path=\"url(#clip870)\" d=\"M54.7421 440.756 L62.381 440.756 L62.381 414.39 L54.0708 416.057 L54.0708 411.798 L62.3347 410.131 L67.0106 410.131 L67.0106 440.756 L74.6494 440.756 L74.6494 444.691 L54.7421 444.691 L54.7421 440.756 Z\" fill=\"#000000\" fill-rule=\"evenodd\" fill-opacity=\"1\" /><path clip-path=\"url(#clip870)\" d=\"M84.0938 438.812 L88.978 438.812 L88.978 444.691 L84.0938 444.691 L84.0938 438.812 Z\" fill=\"#000000\" fill-rule=\"evenodd\" fill-opacity=\"1\" /><path clip-path=\"url(#clip870)\" d=\"M99.2095 410.131 L117.566 410.131 L117.566 414.066 L103.492 414.066 L103.492 422.538 Q104.51 422.191 105.529 422.029 Q106.547 421.844 107.566 421.844 Q113.353 421.844 116.733 425.015 Q120.112 428.187 120.112 433.603 Q120.112 439.182 116.64 442.284 Q113.168 445.362 106.848 445.362 Q104.672 445.362 102.404 444.992 Q100.159 444.622 97.7511 443.881 L97.7511 439.182 Q99.8345 440.316 102.057 440.872 Q104.279 441.427 106.756 441.427 Q110.76 441.427 113.098 439.321 Q115.436 437.214 115.436 433.603 Q115.436 429.992 113.098 427.886 Q110.76 425.779 106.756 425.779 Q104.881 425.779 103.006 426.196 Q101.154 426.613 99.2095 427.492 L99.2095 410.131 Z\" fill=\"#000000\" fill-rule=\"evenodd\" fill-opacity=\"1\" /><path clip-path=\"url(#clip870)\" d=\"M56.9643 101.321 L73.2837 101.321 L73.2837 105.256 L51.3393 105.256 L51.3393 101.321 Q54.0014 98.5665 58.5847 93.9369 Q63.1911 89.2841 64.3717 87.9416 Q66.617 85.4184 67.4967 83.6823 Q68.3994 81.9231 68.3994 80.2333 Q68.3994 77.4786 66.455 75.7425 Q64.5337 74.0064 61.4319 74.0064 Q59.2328 74.0064 56.7791 74.7703 Q54.3486 75.5342 51.5708 77.0851 L51.5708 72.3629 Q54.3949 71.2287 56.8486 70.65 Q59.3023 70.0713 61.3393 70.0713 Q66.7096 70.0713 69.9041 72.7565 Q73.0985 75.4416 73.0985 79.9323 Q73.0985 82.062 72.2883 83.9832 Q71.5013 85.8814 69.3948 88.474 Q68.8161 89.1453 65.7143 92.3628 Q62.6124 95.5573 56.9643 101.321 Z\" fill=\"#000000\" fill-rule=\"evenodd\" fill-opacity=\"1\" /><path clip-path=\"url(#clip870)\" d=\"M83.0984 99.3767 L87.9827 99.3767 L87.9827 105.256 L83.0984 105.256 L83.0984 99.3767 Z\" fill=\"#000000\" fill-rule=\"evenodd\" fill-opacity=\"1\" /><path clip-path=\"url(#clip870)\" d=\"M108.168 73.775 Q104.557 73.775 102.728 77.3398 Q100.922 80.8814 100.922 88.011 Q100.922 95.1174 102.728 98.6822 Q104.557 102.224 108.168 102.224 Q111.802 102.224 113.608 98.6822 Q115.436 95.1174 115.436 88.011 Q115.436 80.8814 113.608 77.3398 Q111.802 73.775 108.168 73.775 M108.168 70.0713 Q113.978 70.0713 117.033 74.6777 Q120.112 79.261 120.112 88.011 Q120.112 96.7378 117.033 101.344 Q113.978 105.928 108.168 105.928 Q102.358 105.928 99.2789 101.344 Q96.2234 96.7378 96.2234 88.011 Q96.2234 79.261 99.2789 74.6777 Q102.358 70.0713 108.168 70.0713 Z\" fill=\"#000000\" fill-rule=\"evenodd\" fill-opacity=\"1\" /><circle clip-path=\"url(#clip872)\" cx=\"1254.43\" cy=\"1445.72\" r=\"14\" fill=\"#ffc0cb\" fill-rule=\"evenodd\" fill-opacity=\"1\" stroke=\"#000000\" stroke-opacity=\"1\" stroke-width=\"3.2\"/>\n",
       "<circle clip-path=\"url(#clip872)\" cx=\"1254.43\" cy=\"87.9763\" r=\"14\" fill=\"#ffc0cb\" fill-rule=\"evenodd\" fill-opacity=\"1\" stroke=\"#000000\" stroke-opacity=\"1\" stroke-width=\"3.2\"/>\n",
       "<circle clip-path=\"url(#clip872)\" cx=\"2290.59\" cy=\"1445.72\" r=\"14\" fill=\"#ffc0cb\" fill-rule=\"evenodd\" fill-opacity=\"1\" stroke=\"#000000\" stroke-opacity=\"1\" stroke-width=\"3.2\"/>\n",
       "<circle clip-path=\"url(#clip872)\" cx=\"1254.43\" cy=\"1445.72\" r=\"14\" fill=\"#0000ff\" fill-rule=\"evenodd\" fill-opacity=\"1\" stroke=\"#000000\" stroke-opacity=\"1\" stroke-width=\"3.2\"/>\n",
       "<circle clip-path=\"url(#clip872)\" cx=\"1254.43\" cy=\"87.9763\" r=\"14\" fill=\"#0000ff\" fill-rule=\"evenodd\" fill-opacity=\"1\" stroke=\"#000000\" stroke-opacity=\"1\" stroke-width=\"3.2\"/>\n",
       "<circle clip-path=\"url(#clip872)\" cx=\"218.281\" cy=\"1445.72\" r=\"14\" fill=\"#0000ff\" fill-rule=\"evenodd\" fill-opacity=\"1\" stroke=\"#000000\" stroke-opacity=\"1\" stroke-width=\"3.2\"/>\n",
       "</svg>\n"
      ]
     },
     "execution_count": 11,
     "metadata": {},
     "output_type": "execute_result"
    }
   ],
   "source": [
    "###graficando ando\n",
    "\n",
    "\n",
    "#En azul tenemos los puntos fijos a los que nos queremos acercar\n",
    "# EN rosadito tenemos los puntos a trasnformar \n",
    "#obs que solo se diferencial en un punto\n",
    "\n",
    "\n",
    "scatter(X[1,:], X[2,:], color=\"pink\") #puntos a mover\n",
    "scatter!(Y[1,:], Y[2,:], color=\"blue\", leg=false)#scatter(Y[1,:], color=\"red\") #Puntos objetivo\"\n",
    "\n"
   ]
  },
  {
   "cell_type": "code",
   "execution_count": 12,
   "id": "a9bfc0fb",
   "metadata": {},
   "outputs": [
    {
     "data": {
      "image/svg+xml": [
       "<?xml version=\"1.0\" encoding=\"utf-8\"?>\n",
       "<svg xmlns=\"http://www.w3.org/2000/svg\" xmlns:xlink=\"http://www.w3.org/1999/xlink\" width=\"600\" height=\"400\" viewBox=\"0 0 2400 1600\">\n",
       "<defs>\n",
       "  <clipPath id=\"clip910\">\n",
       "    <rect x=\"0\" y=\"0\" width=\"2400\" height=\"1600\"/>\n",
       "  </clipPath>\n",
       "</defs>\n",
       "<path clip-path=\"url(#clip910)\" d=\"\n",
       "M0 1600 L2400 1600 L2400 0 L0 0  Z\n",
       "  \" fill=\"#ffffff\" fill-rule=\"evenodd\" fill-opacity=\"1\"/>\n",
       "<defs>\n",
       "  <clipPath id=\"clip911\">\n",
       "    <rect x=\"480\" y=\"0\" width=\"1681\" height=\"1600\"/>\n",
       "  </clipPath>\n",
       "</defs>\n",
       "<path clip-path=\"url(#clip910)\" d=\"\n",
       "M156.112 1486.45 L2352.76 1486.45 L2352.76 47.2441 L156.112 47.2441  Z\n",
       "  \" fill=\"#ffffff\" fill-rule=\"evenodd\" fill-opacity=\"1\"/>\n",
       "<defs>\n",
       "  <clipPath id=\"clip912\">\n",
       "    <rect x=\"156\" y=\"47\" width=\"2198\" height=\"1440\"/>\n",
       "  </clipPath>\n",
       "</defs>\n",
       "<polyline clip-path=\"url(#clip912)\" style=\"stroke:#000000; stroke-linecap:butt; stroke-linejoin:round; stroke-width:2; stroke-opacity:0.1; fill:none\" points=\"\n",
       "  352.608,1486.45 352.608,47.2441 \n",
       "  \"/>\n",
       "<polyline clip-path=\"url(#clip912)\" style=\"stroke:#000000; stroke-linecap:butt; stroke-linejoin:round; stroke-width:2; stroke-opacity:0.1; fill:none\" points=\"\n",
       "  755.589,1486.45 755.589,47.2441 \n",
       "  \"/>\n",
       "<polyline clip-path=\"url(#clip912)\" style=\"stroke:#000000; stroke-linecap:butt; stroke-linejoin:round; stroke-width:2; stroke-opacity:0.1; fill:none\" points=\"\n",
       "  1158.57,1486.45 1158.57,47.2441 \n",
       "  \"/>\n",
       "<polyline clip-path=\"url(#clip912)\" style=\"stroke:#000000; stroke-linecap:butt; stroke-linejoin:round; stroke-width:2; stroke-opacity:0.1; fill:none\" points=\"\n",
       "  1561.55,1486.45 1561.55,47.2441 \n",
       "  \"/>\n",
       "<polyline clip-path=\"url(#clip912)\" style=\"stroke:#000000; stroke-linecap:butt; stroke-linejoin:round; stroke-width:2; stroke-opacity:0.1; fill:none\" points=\"\n",
       "  1964.53,1486.45 1964.53,47.2441 \n",
       "  \"/>\n",
       "<polyline clip-path=\"url(#clip910)\" style=\"stroke:#000000; stroke-linecap:butt; stroke-linejoin:round; stroke-width:4; stroke-opacity:1; fill:none\" points=\"\n",
       "  156.112,1486.45 2352.76,1486.45 \n",
       "  \"/>\n",
       "<polyline clip-path=\"url(#clip910)\" style=\"stroke:#000000; stroke-linecap:butt; stroke-linejoin:round; stroke-width:4; stroke-opacity:1; fill:none\" points=\"\n",
       "  352.608,1486.45 352.608,1467.55 \n",
       "  \"/>\n",
       "<polyline clip-path=\"url(#clip910)\" style=\"stroke:#000000; stroke-linecap:butt; stroke-linejoin:round; stroke-width:4; stroke-opacity:1; fill:none\" points=\"\n",
       "  755.589,1486.45 755.589,1467.55 \n",
       "  \"/>\n",
       "<polyline clip-path=\"url(#clip910)\" style=\"stroke:#000000; stroke-linecap:butt; stroke-linejoin:round; stroke-width:4; stroke-opacity:1; fill:none\" points=\"\n",
       "  1158.57,1486.45 1158.57,1467.55 \n",
       "  \"/>\n",
       "<polyline clip-path=\"url(#clip910)\" style=\"stroke:#000000; stroke-linecap:butt; stroke-linejoin:round; stroke-width:4; stroke-opacity:1; fill:none\" points=\"\n",
       "  1561.55,1486.45 1561.55,1467.55 \n",
       "  \"/>\n",
       "<polyline clip-path=\"url(#clip910)\" style=\"stroke:#000000; stroke-linecap:butt; stroke-linejoin:round; stroke-width:4; stroke-opacity:1; fill:none\" points=\"\n",
       "  1964.53,1486.45 1964.53,1467.55 \n",
       "  \"/>\n",
       "<path clip-path=\"url(#clip910)\" d=\"M299.229 1532.02 L328.905 1532.02 L328.905 1535.95 L299.229 1535.95 L299.229 1532.02 Z\" fill=\"#000000\" fill-rule=\"evenodd\" fill-opacity=\"1\" /><path clip-path=\"url(#clip910)\" d=\"M348.997 1517.37 Q345.386 1517.37 343.557 1520.93 Q341.752 1524.47 341.752 1531.6 Q341.752 1538.71 343.557 1542.27 Q345.386 1545.82 348.997 1545.82 Q352.631 1545.82 354.437 1542.27 Q356.266 1538.71 356.266 1531.6 Q356.266 1524.47 354.437 1520.93 Q352.631 1517.37 348.997 1517.37 M348.997 1513.66 Q354.807 1513.66 357.863 1518.27 Q360.941 1522.85 360.941 1531.6 Q360.941 1540.33 357.863 1544.94 Q354.807 1549.52 348.997 1549.52 Q343.187 1549.52 340.108 1544.94 Q337.053 1540.33 337.053 1531.6 Q337.053 1522.85 340.108 1518.27 Q343.187 1513.66 348.997 1513.66 Z\" fill=\"#000000\" fill-rule=\"evenodd\" fill-opacity=\"1\" /><path clip-path=\"url(#clip910)\" d=\"M369.159 1542.97 L374.043 1542.97 L374.043 1548.85 L369.159 1548.85 L369.159 1542.97 Z\" fill=\"#000000\" fill-rule=\"evenodd\" fill-opacity=\"1\" /><path clip-path=\"url(#clip910)\" d=\"M384.367 1548.13 L384.367 1543.87 Q386.126 1544.7 387.932 1545.14 Q389.738 1545.58 391.474 1545.58 Q396.103 1545.58 398.534 1542.48 Q400.987 1539.36 401.335 1533.01 Q399.992 1535.01 397.932 1536.07 Q395.872 1537.13 393.372 1537.13 Q388.187 1537.13 385.154 1534.01 Q382.145 1530.86 382.145 1525.42 Q382.145 1520.1 385.293 1516.88 Q388.441 1513.66 393.673 1513.66 Q399.668 1513.66 402.816 1518.27 Q405.987 1522.85 405.987 1531.6 Q405.987 1539.77 402.099 1544.66 Q398.233 1549.52 391.682 1549.52 Q389.923 1549.52 388.117 1549.17 Q386.312 1548.82 384.367 1548.13 M393.673 1533.48 Q396.821 1533.48 398.65 1531.32 Q400.501 1529.17 400.501 1525.42 Q400.501 1521.7 398.65 1519.54 Q396.821 1517.37 393.673 1517.37 Q390.525 1517.37 388.673 1519.54 Q386.844 1521.7 386.844 1525.42 Q386.844 1529.17 388.673 1531.32 Q390.525 1533.48 393.673 1533.48 Z\" fill=\"#000000\" fill-rule=\"evenodd\" fill-opacity=\"1\" /><path clip-path=\"url(#clip910)\" d=\"M702.036 1532.02 L731.711 1532.02 L731.711 1535.95 L702.036 1535.95 L702.036 1532.02 Z\" fill=\"#000000\" fill-rule=\"evenodd\" fill-opacity=\"1\" /><path clip-path=\"url(#clip910)\" d=\"M751.804 1517.37 Q748.193 1517.37 746.364 1520.93 Q744.559 1524.47 744.559 1531.6 Q744.559 1538.71 746.364 1542.27 Q748.193 1545.82 751.804 1545.82 Q755.438 1545.82 757.244 1542.27 Q759.072 1538.71 759.072 1531.6 Q759.072 1524.47 757.244 1520.93 Q755.438 1517.37 751.804 1517.37 M751.804 1513.66 Q757.614 1513.66 760.67 1518.27 Q763.748 1522.85 763.748 1531.6 Q763.748 1540.33 760.67 1544.94 Q757.614 1549.52 751.804 1549.52 Q745.994 1549.52 742.915 1544.94 Q739.86 1540.33 739.86 1531.6 Q739.86 1522.85 742.915 1518.27 Q745.994 1513.66 751.804 1513.66 Z\" fill=\"#000000\" fill-rule=\"evenodd\" fill-opacity=\"1\" /><path clip-path=\"url(#clip910)\" d=\"M771.966 1542.97 L776.85 1542.97 L776.85 1548.85 L771.966 1548.85 L771.966 1542.97 Z\" fill=\"#000000\" fill-rule=\"evenodd\" fill-opacity=\"1\" /><path clip-path=\"url(#clip910)\" d=\"M797.614 1529.7 Q794.466 1529.7 792.614 1531.86 Q790.785 1534.01 790.785 1537.76 Q790.785 1541.49 792.614 1543.66 Q794.466 1545.82 797.614 1545.82 Q800.762 1545.82 802.591 1543.66 Q804.443 1541.49 804.443 1537.76 Q804.443 1534.01 802.591 1531.86 Q800.762 1529.7 797.614 1529.7 M806.896 1515.05 L806.896 1519.31 Q805.137 1518.48 803.331 1518.04 Q801.549 1517.6 799.79 1517.6 Q795.16 1517.6 792.707 1520.72 Q790.276 1523.85 789.929 1530.17 Q791.294 1528.15 793.355 1527.09 Q795.415 1526 797.892 1526 Q803.1 1526 806.109 1529.17 Q809.142 1532.32 809.142 1537.76 Q809.142 1543.08 805.993 1546.3 Q802.845 1549.52 797.614 1549.52 Q791.619 1549.52 788.447 1544.94 Q785.276 1540.33 785.276 1531.6 Q785.276 1523.41 789.165 1518.55 Q793.054 1513.66 799.605 1513.66 Q801.364 1513.66 803.146 1514.01 Q804.952 1514.36 806.896 1515.05 Z\" fill=\"#000000\" fill-rule=\"evenodd\" fill-opacity=\"1\" /><path clip-path=\"url(#clip910)\" d=\"M1105.42 1532.02 L1135.1 1532.02 L1135.1 1535.95 L1105.42 1535.95 L1105.42 1532.02 Z\" fill=\"#000000\" fill-rule=\"evenodd\" fill-opacity=\"1\" /><path clip-path=\"url(#clip910)\" d=\"M1155.19 1517.37 Q1151.58 1517.37 1149.75 1520.93 Q1147.94 1524.47 1147.94 1531.6 Q1147.94 1538.71 1149.75 1542.27 Q1151.58 1545.82 1155.19 1545.82 Q1158.82 1545.82 1160.63 1542.27 Q1162.46 1538.71 1162.46 1531.6 Q1162.46 1524.47 1160.63 1520.93 Q1158.82 1517.37 1155.19 1517.37 M1155.19 1513.66 Q1161 1513.66 1164.06 1518.27 Q1167.13 1522.85 1167.13 1531.6 Q1167.13 1540.33 1164.06 1544.94 Q1161 1549.52 1155.19 1549.52 Q1149.38 1549.52 1146.3 1544.94 Q1143.25 1540.33 1143.25 1531.6 Q1143.25 1522.85 1146.3 1518.27 Q1149.38 1513.66 1155.19 1513.66 Z\" fill=\"#000000\" fill-rule=\"evenodd\" fill-opacity=\"1\" /><path clip-path=\"url(#clip910)\" d=\"M1175.35 1542.97 L1180.24 1542.97 L1180.24 1548.85 L1175.35 1548.85 L1175.35 1542.97 Z\" fill=\"#000000\" fill-rule=\"evenodd\" fill-opacity=\"1\" /><path clip-path=\"url(#clip910)\" d=\"M1204.59 1530.21 Q1207.94 1530.93 1209.82 1533.2 Q1211.72 1535.47 1211.72 1538.8 Q1211.72 1543.92 1208.2 1546.72 Q1204.68 1549.52 1198.2 1549.52 Q1196.02 1549.52 1193.71 1549.08 Q1191.42 1548.66 1188.96 1547.81 L1188.96 1543.29 Q1190.91 1544.43 1193.22 1545.01 Q1195.54 1545.58 1198.06 1545.58 Q1202.46 1545.58 1204.75 1543.85 Q1207.06 1542.11 1207.06 1538.8 Q1207.06 1535.75 1204.91 1534.03 Q1202.78 1532.3 1198.96 1532.3 L1194.93 1532.3 L1194.93 1528.45 L1199.15 1528.45 Q1202.6 1528.45 1204.43 1527.09 Q1206.25 1525.7 1206.25 1523.11 Q1206.25 1520.45 1204.36 1519.03 Q1202.48 1517.6 1198.96 1517.6 Q1197.04 1517.6 1194.84 1518.01 Q1192.64 1518.43 1190 1519.31 L1190 1515.14 Q1192.67 1514.4 1194.98 1514.03 Q1197.32 1513.66 1199.38 1513.66 Q1204.7 1513.66 1207.81 1516.09 Q1210.91 1518.5 1210.91 1522.62 Q1210.91 1525.49 1209.26 1527.48 Q1207.62 1529.45 1204.59 1530.21 Z\" fill=\"#000000\" fill-rule=\"evenodd\" fill-opacity=\"1\" /><path clip-path=\"url(#clip910)\" d=\"M1538.93 1517.37 Q1535.32 1517.37 1533.49 1520.93 Q1531.69 1524.47 1531.69 1531.6 Q1531.69 1538.71 1533.49 1542.27 Q1535.32 1545.82 1538.93 1545.82 Q1542.57 1545.82 1544.37 1542.27 Q1546.2 1538.71 1546.2 1531.6 Q1546.2 1524.47 1544.37 1520.93 Q1542.57 1517.37 1538.93 1517.37 M1538.93 1513.66 Q1544.74 1513.66 1547.8 1518.27 Q1550.88 1522.85 1550.88 1531.6 Q1550.88 1540.33 1547.8 1544.94 Q1544.74 1549.52 1538.93 1549.52 Q1533.12 1549.52 1530.05 1544.94 Q1526.99 1540.33 1526.99 1531.6 Q1526.99 1522.85 1530.05 1518.27 Q1533.12 1513.66 1538.93 1513.66 Z\" fill=\"#000000\" fill-rule=\"evenodd\" fill-opacity=\"1\" /><path clip-path=\"url(#clip910)\" d=\"M1559.1 1542.97 L1563.98 1542.97 L1563.98 1548.85 L1559.1 1548.85 L1559.1 1542.97 Z\" fill=\"#000000\" fill-rule=\"evenodd\" fill-opacity=\"1\" /><path clip-path=\"url(#clip910)\" d=\"M1584.17 1517.37 Q1580.55 1517.37 1578.73 1520.93 Q1576.92 1524.47 1576.92 1531.6 Q1576.92 1538.71 1578.73 1542.27 Q1580.55 1545.82 1584.17 1545.82 Q1587.8 1545.82 1589.61 1542.27 Q1591.43 1538.71 1591.43 1531.6 Q1591.43 1524.47 1589.61 1520.93 Q1587.8 1517.37 1584.17 1517.37 M1584.17 1513.66 Q1589.98 1513.66 1593.03 1518.27 Q1596.11 1522.85 1596.11 1531.6 Q1596.11 1540.33 1593.03 1544.94 Q1589.98 1549.52 1584.17 1549.52 Q1578.36 1549.52 1575.28 1544.94 Q1572.22 1540.33 1572.22 1531.6 Q1572.22 1522.85 1575.28 1518.27 Q1578.36 1513.66 1584.17 1513.66 Z\" fill=\"#000000\" fill-rule=\"evenodd\" fill-opacity=\"1\" /><path clip-path=\"url(#clip910)\" d=\"M1942.24 1517.37 Q1938.63 1517.37 1936.8 1520.93 Q1934.99 1524.47 1934.99 1531.6 Q1934.99 1538.71 1936.8 1542.27 Q1938.63 1545.82 1942.24 1545.82 Q1945.87 1545.82 1947.68 1542.27 Q1949.51 1538.71 1949.51 1531.6 Q1949.51 1524.47 1947.68 1520.93 Q1945.87 1517.37 1942.24 1517.37 M1942.24 1513.66 Q1948.05 1513.66 1951.1 1518.27 Q1954.18 1522.85 1954.18 1531.6 Q1954.18 1540.33 1951.1 1544.94 Q1948.05 1549.52 1942.24 1549.52 Q1936.43 1549.52 1933.35 1544.94 Q1930.29 1540.33 1930.29 1531.6 Q1930.29 1522.85 1933.35 1518.27 Q1936.43 1513.66 1942.24 1513.66 Z\" fill=\"#000000\" fill-rule=\"evenodd\" fill-opacity=\"1\" /><path clip-path=\"url(#clip910)\" d=\"M1962.4 1542.97 L1967.28 1542.97 L1967.28 1548.85 L1962.4 1548.85 L1962.4 1542.97 Z\" fill=\"#000000\" fill-rule=\"evenodd\" fill-opacity=\"1\" /><path clip-path=\"url(#clip910)\" d=\"M1991.64 1530.21 Q1994.99 1530.93 1996.87 1533.2 Q1998.77 1535.47 1998.77 1538.8 Q1998.77 1543.92 1995.25 1546.72 Q1991.73 1549.52 1985.25 1549.52 Q1983.07 1549.52 1980.76 1549.08 Q1978.47 1548.66 1976.01 1547.81 L1976.01 1543.29 Q1977.96 1544.43 1980.27 1545.01 Q1982.59 1545.58 1985.11 1545.58 Q1989.51 1545.58 1991.8 1543.85 Q1994.11 1542.11 1994.11 1538.8 Q1994.11 1535.75 1991.96 1534.03 Q1989.83 1532.3 1986.01 1532.3 L1981.98 1532.3 L1981.98 1528.45 L1986.2 1528.45 Q1989.65 1528.45 1991.47 1527.09 Q1993.3 1525.7 1993.3 1523.11 Q1993.3 1520.45 1991.41 1519.03 Q1989.53 1517.6 1986.01 1517.6 Q1984.09 1517.6 1981.89 1518.01 Q1979.69 1518.43 1977.05 1519.31 L1977.05 1515.14 Q1979.72 1514.4 1982.03 1514.03 Q1984.37 1513.66 1986.43 1513.66 Q1991.75 1513.66 1994.85 1516.09 Q1997.96 1518.5 1997.96 1522.62 Q1997.96 1525.49 1996.31 1527.48 Q1994.67 1529.45 1991.64 1530.21 Z\" fill=\"#000000\" fill-rule=\"evenodd\" fill-opacity=\"1\" /><polyline clip-path=\"url(#clip912)\" style=\"stroke:#000000; stroke-linecap:butt; stroke-linejoin:round; stroke-width:2; stroke-opacity:0.1; fill:none\" points=\"\n",
       "  156.112,1432.64 2352.76,1432.64 \n",
       "  \"/>\n",
       "<polyline clip-path=\"url(#clip912)\" style=\"stroke:#000000; stroke-linecap:butt; stroke-linejoin:round; stroke-width:2; stroke-opacity:0.1; fill:none\" points=\"\n",
       "  156.112,1126.68 2352.76,1126.68 \n",
       "  \"/>\n",
       "<polyline clip-path=\"url(#clip912)\" style=\"stroke:#000000; stroke-linecap:butt; stroke-linejoin:round; stroke-width:2; stroke-opacity:0.1; fill:none\" points=\"\n",
       "  156.112,820.716 2352.76,820.716 \n",
       "  \"/>\n",
       "<polyline clip-path=\"url(#clip912)\" style=\"stroke:#000000; stroke-linecap:butt; stroke-linejoin:round; stroke-width:2; stroke-opacity:0.1; fill:none\" points=\"\n",
       "  156.112,514.753 2352.76,514.753 \n",
       "  \"/>\n",
       "<polyline clip-path=\"url(#clip912)\" style=\"stroke:#000000; stroke-linecap:butt; stroke-linejoin:round; stroke-width:2; stroke-opacity:0.1; fill:none\" points=\"\n",
       "  156.112,208.791 2352.76,208.791 \n",
       "  \"/>\n",
       "<polyline clip-path=\"url(#clip910)\" style=\"stroke:#000000; stroke-linecap:butt; stroke-linejoin:round; stroke-width:4; stroke-opacity:1; fill:none\" points=\"\n",
       "  156.112,1486.45 156.112,47.2441 \n",
       "  \"/>\n",
       "<polyline clip-path=\"url(#clip910)\" style=\"stroke:#000000; stroke-linecap:butt; stroke-linejoin:round; stroke-width:4; stroke-opacity:1; fill:none\" points=\"\n",
       "  156.112,1432.64 175.01,1432.64 \n",
       "  \"/>\n",
       "<polyline clip-path=\"url(#clip910)\" style=\"stroke:#000000; stroke-linecap:butt; stroke-linejoin:round; stroke-width:4; stroke-opacity:1; fill:none\" points=\"\n",
       "  156.112,1126.68 175.01,1126.68 \n",
       "  \"/>\n",
       "<polyline clip-path=\"url(#clip910)\" style=\"stroke:#000000; stroke-linecap:butt; stroke-linejoin:round; stroke-width:4; stroke-opacity:1; fill:none\" points=\"\n",
       "  156.112,820.716 175.01,820.716 \n",
       "  \"/>\n",
       "<polyline clip-path=\"url(#clip910)\" style=\"stroke:#000000; stroke-linecap:butt; stroke-linejoin:round; stroke-width:4; stroke-opacity:1; fill:none\" points=\"\n",
       "  156.112,514.753 175.01,514.753 \n",
       "  \"/>\n",
       "<polyline clip-path=\"url(#clip910)\" style=\"stroke:#000000; stroke-linecap:butt; stroke-linejoin:round; stroke-width:4; stroke-opacity:1; fill:none\" points=\"\n",
       "  156.112,208.791 175.01,208.791 \n",
       "  \"/>\n",
       "<path clip-path=\"url(#clip910)\" d=\"M62.9365 1418.44 Q59.3254 1418.44 57.4967 1422 Q55.6912 1425.55 55.6912 1432.68 Q55.6912 1439.78 57.4967 1443.35 Q59.3254 1446.89 62.9365 1446.89 Q66.5707 1446.89 68.3763 1443.35 Q70.205 1439.78 70.205 1432.68 Q70.205 1425.55 68.3763 1422 Q66.5707 1418.44 62.9365 1418.44 M62.9365 1414.74 Q68.7467 1414.74 71.8022 1419.34 Q74.8809 1423.93 74.8809 1432.68 Q74.8809 1441.4 71.8022 1446.01 Q68.7467 1450.59 62.9365 1450.59 Q57.1264 1450.59 54.0477 1446.01 Q50.9921 1441.4 50.9921 1432.68 Q50.9921 1423.93 54.0477 1419.34 Q57.1264 1414.74 62.9365 1414.74 Z\" fill=\"#000000\" fill-rule=\"evenodd\" fill-opacity=\"1\" /><path clip-path=\"url(#clip910)\" d=\"M83.0984 1444.04 L87.9827 1444.04 L87.9827 1449.92 L83.0984 1449.92 L83.0984 1444.04 Z\" fill=\"#000000\" fill-rule=\"evenodd\" fill-opacity=\"1\" /><path clip-path=\"url(#clip910)\" d=\"M108.168 1418.44 Q104.557 1418.44 102.728 1422 Q100.922 1425.55 100.922 1432.68 Q100.922 1439.78 102.728 1443.35 Q104.557 1446.89 108.168 1446.89 Q111.802 1446.89 113.608 1443.35 Q115.436 1439.78 115.436 1432.68 Q115.436 1425.55 113.608 1422 Q111.802 1418.44 108.168 1418.44 M108.168 1414.74 Q113.978 1414.74 117.033 1419.34 Q120.112 1423.93 120.112 1432.68 Q120.112 1441.4 117.033 1446.01 Q113.978 1450.59 108.168 1450.59 Q102.358 1450.59 99.2789 1446.01 Q96.2234 1441.4 96.2234 1432.68 Q96.2234 1423.93 99.2789 1419.34 Q102.358 1414.74 108.168 1414.74 Z\" fill=\"#000000\" fill-rule=\"evenodd\" fill-opacity=\"1\" /><path clip-path=\"url(#clip910)\" d=\"M63.9319 1112.48 Q60.3208 1112.48 58.4921 1116.04 Q56.6865 1119.58 56.6865 1126.71 Q56.6865 1133.82 58.4921 1137.38 Q60.3208 1140.93 63.9319 1140.93 Q67.5661 1140.93 69.3717 1137.38 Q71.2004 1133.82 71.2004 1126.71 Q71.2004 1119.58 69.3717 1116.04 Q67.5661 1112.48 63.9319 1112.48 M63.9319 1108.77 Q69.742 1108.77 72.7976 1113.38 Q75.8763 1117.96 75.8763 1126.71 Q75.8763 1135.44 72.7976 1140.05 Q69.742 1144.63 63.9319 1144.63 Q58.1217 1144.63 55.043 1140.05 Q51.9875 1135.44 51.9875 1126.71 Q51.9875 1117.96 55.043 1113.38 Q58.1217 1108.77 63.9319 1108.77 Z\" fill=\"#000000\" fill-rule=\"evenodd\" fill-opacity=\"1\" /><path clip-path=\"url(#clip910)\" d=\"M84.0938 1138.08 L88.978 1138.08 L88.978 1143.96 L84.0938 1143.96 L84.0938 1138.08 Z\" fill=\"#000000\" fill-rule=\"evenodd\" fill-opacity=\"1\" /><path clip-path=\"url(#clip910)\" d=\"M99.2095 1109.4 L117.566 1109.4 L117.566 1113.33 L103.492 1113.33 L103.492 1121.81 Q104.51 1121.46 105.529 1121.3 Q106.547 1121.11 107.566 1121.11 Q113.353 1121.11 116.733 1124.28 Q120.112 1127.45 120.112 1132.87 Q120.112 1138.45 116.64 1141.55 Q113.168 1144.63 106.848 1144.63 Q104.672 1144.63 102.404 1144.26 Q100.159 1143.89 97.7511 1143.15 L97.7511 1138.45 Q99.8345 1139.58 102.057 1140.14 Q104.279 1140.69 106.756 1140.69 Q110.76 1140.69 113.098 1138.59 Q115.436 1136.48 115.436 1132.87 Q115.436 1129.26 113.098 1127.15 Q110.76 1125.05 106.756 1125.05 Q104.881 1125.05 103.006 1125.46 Q101.154 1125.88 99.2095 1126.76 L99.2095 1109.4 Z\" fill=\"#000000\" fill-rule=\"evenodd\" fill-opacity=\"1\" /><path clip-path=\"url(#clip910)\" d=\"M53.7467 834.061 L61.3856 834.061 L61.3856 807.695 L53.0754 809.362 L53.0754 805.103 L61.3393 803.436 L66.0152 803.436 L66.0152 834.061 L73.654 834.061 L73.654 837.996 L53.7467 837.996 L53.7467 834.061 Z\" fill=\"#000000\" fill-rule=\"evenodd\" fill-opacity=\"1\" /><path clip-path=\"url(#clip910)\" d=\"M83.0984 832.116 L87.9827 832.116 L87.9827 837.996 L83.0984 837.996 L83.0984 832.116 Z\" fill=\"#000000\" fill-rule=\"evenodd\" fill-opacity=\"1\" /><path clip-path=\"url(#clip910)\" d=\"M108.168 806.515 Q104.557 806.515 102.728 810.079 Q100.922 813.621 100.922 820.751 Q100.922 827.857 102.728 831.422 Q104.557 834.964 108.168 834.964 Q111.802 834.964 113.608 831.422 Q115.436 827.857 115.436 820.751 Q115.436 813.621 113.608 810.079 Q111.802 806.515 108.168 806.515 M108.168 802.811 Q113.978 802.811 117.033 807.417 Q120.112 812.001 120.112 820.751 Q120.112 829.477 117.033 834.084 Q113.978 838.667 108.168 838.667 Q102.358 838.667 99.2789 834.084 Q96.2234 829.477 96.2234 820.751 Q96.2234 812.001 99.2789 807.417 Q102.358 802.811 108.168 802.811 Z\" fill=\"#000000\" fill-rule=\"evenodd\" fill-opacity=\"1\" /><path clip-path=\"url(#clip910)\" d=\"M54.7421 528.098 L62.381 528.098 L62.381 501.733 L54.0708 503.399 L54.0708 499.14 L62.3347 497.473 L67.0106 497.473 L67.0106 528.098 L74.6494 528.098 L74.6494 532.033 L54.7421 532.033 L54.7421 528.098 Z\" fill=\"#000000\" fill-rule=\"evenodd\" fill-opacity=\"1\" /><path clip-path=\"url(#clip910)\" d=\"M84.0938 526.154 L88.978 526.154 L88.978 532.033 L84.0938 532.033 L84.0938 526.154 Z\" fill=\"#000000\" fill-rule=\"evenodd\" fill-opacity=\"1\" /><path clip-path=\"url(#clip910)\" d=\"M99.2095 497.473 L117.566 497.473 L117.566 501.409 L103.492 501.409 L103.492 509.881 Q104.51 509.534 105.529 509.372 Q106.547 509.186 107.566 509.186 Q113.353 509.186 116.733 512.358 Q120.112 515.529 120.112 520.946 Q120.112 526.524 116.64 529.626 Q113.168 532.705 106.848 532.705 Q104.672 532.705 102.404 532.334 Q100.159 531.964 97.7511 531.223 L97.7511 526.524 Q99.8345 527.658 102.057 528.214 Q104.279 528.77 106.756 528.77 Q110.76 528.77 113.098 526.663 Q115.436 524.557 115.436 520.946 Q115.436 517.334 113.098 515.228 Q110.76 513.122 106.756 513.122 Q104.881 513.122 103.006 513.538 Q101.154 513.955 99.2095 514.834 L99.2095 497.473 Z\" fill=\"#000000\" fill-rule=\"evenodd\" fill-opacity=\"1\" /><path clip-path=\"url(#clip910)\" d=\"M56.9643 222.136 L73.2837 222.136 L73.2837 226.071 L51.3393 226.071 L51.3393 222.136 Q54.0014 219.381 58.5847 214.752 Q63.1911 210.099 64.3717 208.756 Q66.617 206.233 67.4967 204.497 Q68.3994 202.738 68.3994 201.048 Q68.3994 198.293 66.455 196.557 Q64.5337 194.821 61.4319 194.821 Q59.2328 194.821 56.7791 195.585 Q54.3486 196.349 51.5708 197.9 L51.5708 193.178 Q54.3949 192.043 56.8486 191.465 Q59.3023 190.886 61.3393 190.886 Q66.7096 190.886 69.9041 193.571 Q73.0985 196.256 73.0985 200.747 Q73.0985 202.877 72.2883 204.798 Q71.5013 206.696 69.3948 209.289 Q68.8161 209.96 65.7143 213.178 Q62.6124 216.372 56.9643 222.136 Z\" fill=\"#000000\" fill-rule=\"evenodd\" fill-opacity=\"1\" /><path clip-path=\"url(#clip910)\" d=\"M83.0984 220.191 L87.9827 220.191 L87.9827 226.071 L83.0984 226.071 L83.0984 220.191 Z\" fill=\"#000000\" fill-rule=\"evenodd\" fill-opacity=\"1\" /><path clip-path=\"url(#clip910)\" d=\"M108.168 194.59 Q104.557 194.59 102.728 198.154 Q100.922 201.696 100.922 208.826 Q100.922 215.932 102.728 219.497 Q104.557 223.039 108.168 223.039 Q111.802 223.039 113.608 219.497 Q115.436 215.932 115.436 208.826 Q115.436 201.696 113.608 198.154 Q111.802 194.59 108.168 194.59 M108.168 190.886 Q113.978 190.886 117.033 195.492 Q120.112 200.076 120.112 208.826 Q120.112 217.553 117.033 222.159 Q113.978 226.742 108.168 226.742 Q102.358 226.742 99.2789 222.159 Q96.2234 217.553 96.2234 208.826 Q96.2234 200.076 99.2789 195.492 Q102.358 190.886 108.168 190.886 Z\" fill=\"#000000\" fill-rule=\"evenodd\" fill-opacity=\"1\" /><circle clip-path=\"url(#clip912)\" cx=\"1561.55\" cy=\"1432.64\" r=\"14\" fill=\"#0000ff\" fill-rule=\"evenodd\" fill-opacity=\"1\" stroke=\"#000000\" stroke-opacity=\"1\" stroke-width=\"3.2\"/>\n",
       "<circle clip-path=\"url(#clip912)\" cx=\"1561.55\" cy=\"208.791\" r=\"14\" fill=\"#0000ff\" fill-rule=\"evenodd\" fill-opacity=\"1\" stroke=\"#000000\" stroke-opacity=\"1\" stroke-width=\"3.2\"/>\n",
       "<circle clip-path=\"url(#clip912)\" cx=\"218.281\" cy=\"1432.64\" r=\"14\" fill=\"#0000ff\" fill-rule=\"evenodd\" fill-opacity=\"1\" stroke=\"#000000\" stroke-opacity=\"1\" stroke-width=\"3.2\"/>\n",
       "<circle clip-path=\"url(#clip912)\" cx=\"800.364\" cy=\"1106.28\" r=\"14\" fill=\"#008000\" fill-rule=\"evenodd\" fill-opacity=\"1\" stroke=\"#000000\" stroke-opacity=\"1\" stroke-width=\"3.2\"/>\n",
       "<circle clip-path=\"url(#clip912)\" cx=\"2290.59\" cy=\"87.9763\" r=\"14\" fill=\"#008000\" fill-rule=\"evenodd\" fill-opacity=\"1\" stroke=\"#000000\" stroke-opacity=\"1\" stroke-width=\"3.2\"/>\n",
       "<circle clip-path=\"url(#clip912)\" cx=\"1918.03\" cy=\"1445.72\" r=\"14\" fill=\"#008000\" fill-rule=\"evenodd\" fill-opacity=\"1\" stroke=\"#000000\" stroke-opacity=\"1\" stroke-width=\"3.2\"/>\n",
       "</svg>\n"
      ]
     },
     "execution_count": 12,
     "metadata": {},
     "output_type": "execute_result"
    }
   ],
   "source": [
    "#En azul tenemos los puntos fijos a los que nos queremos acercar\n",
    "# EN verde tenemos los puntos  transformados por nuestra matriz de rotación y la traslación.\n",
    "scatter(Y[1,:], Y[2,:], color=\"blue\", leg=false)#scatter(Y[1,:], color=\"red\") #Puntos objetivo\"\n",
    "scatter!(YT[1,:],YT[2,:], color=\"green\") #puntos transformados\n"
   ]
  },
  {
   "cell_type": "markdown",
   "id": "6f4c2151",
   "metadata": {},
   "source": [
    "Conclusiones: aunque mi matriz de rotación coincide con la del articulo; el vector de traslación, el coeficiente $c$ y el error cuadrado no lo hacen."
   ]
  },
  {
   "cell_type": "code",
   "execution_count": null,
   "id": "5b660cf8",
   "metadata": {},
   "outputs": [],
   "source": []
  },
  {
   "cell_type": "code",
   "execution_count": null,
   "id": "61c6eabc",
   "metadata": {},
   "outputs": [],
   "source": []
  },
  {
   "cell_type": "code",
   "execution_count": null,
   "id": "a22a0b6a",
   "metadata": {},
   "outputs": [],
   "source": []
  }
 ],
 "metadata": {
  "kernelspec": {
   "display_name": "Julia 1.7.2",
   "language": "julia",
   "name": "julia-1.7"
  },
  "language_info": {
   "file_extension": ".jl",
   "mimetype": "application/julia",
   "name": "julia",
   "version": "1.7.2"
  }
 },
 "nbformat": 4,
 "nbformat_minor": 5
}
