{
 "cells": [
  {
   "cell_type": "code",
   "execution_count": 5,
   "id": "2388aa97",
   "metadata": {
    "scrolled": true
   },
   "outputs": [
    {
     "ename": "LoadError",
     "evalue": "UndefVarError: Node not defined",
     "output_type": "error",
     "traceback": [
      "UndefVarError: Node not defined",
      "",
      "Stacktrace:",
      " [1] top-level scope",
      "   @ In[5]:9",
      " [2] eval",
      "   @ .\\boot.jl:373 [inlined]",
      " [3] include_string(mapexpr::typeof(REPL.softscope), mod::Module, code::String, filename::String)",
      "   @ Base .\\loading.jl:1196"
     ]
    }
   ],
   "source": [
    "# MUST disable threading in Qt\n",
    "ENV[\"QSG_RENDER_LOOP\"] = \"basic\"\n",
    "\n",
    "using CxxWrap\n",
    "using Observables\n",
    "using QML\n",
    "using Makie\n",
    "\n",
    "const xpos = Node(collect(0.1:0.05:0.3))\n",
    "const ypos = Node(rand(length(xpos[])))\n",
    "\n",
    "plotscene = lines(xpos, ypos, color = :blue)\n",
    "const needupdate = Observable(true)\n",
    "\n",
    "on(plotscene.data_limits) do l\n",
    "  needupdate[] = true\n",
    "end\n",
    "\n",
    "positionmodel = ListModel(tuple.(xpos[], ypos[]), false)\n",
    "\n",
    "# Convert model coordinates to screen (inverse of to_world)\n",
    "function to_screen(scene, point)\n",
    "  cam = scene.camera\n",
    "  cam_res = widths(pixelarea(scene)[])\n",
    "  prj_view = cam.projection[] * cam.view[] * Makie.AbstractPlotting.transformationmatrix(scene)[]\n",
    "  pix_space = prj_view * Vec4f0(point[1], point[2], 0.0, 1.0)\n",
    "  clip_space = (pix_space[1], pix_space[2])\n",
    "  return ((clip_space .+ 1) ./ 2) .* cam_res\n",
    "end\n",
    "\n",
    "function update_scene(lm)\n",
    "  l = length(lm)\n",
    "  newx = zeros(l)\n",
    "  newy = zeros(l)\n",
    "  for i in 1:l\n",
    "    (newx[i], newy[i]) = lm[i]\n",
    "  end\n",
    "  xpos[] = newx\n",
    "  ypos[] = newy\n",
    "  return\n",
    "end\n",
    "\n",
    "getscreenpos(xy::Tuple, i::Integer) = to_screen(plotscene, xy)[i]\n",
    "\n",
    "function setpos(lm, x_or_y, listidx, i)\n",
    "  newpos = [lm[listidx]...]\n",
    "  newpos[i] = x_or_y\n",
    "  lm[listidx] = (newpos...,)\n",
    "  update_scene(lm)\n",
    "end\n",
    "\n",
    "setscreenpos(lm, x_or_y, listidx, i) = setpos(lm, to_world(plotscene, Point2f0(x_or_y, x_or_y))[i], listidx, i)\n",
    "\n",
    "addrole(positionmodel, \"xpos\", xy -> xy[1], (lm, x_or_y, i) -> setpos(lm, x_or_y, i, 1))\n",
    "addrole(positionmodel, \"ypos\", xy -> xy[2], (lm, x_or_y, i) -> setpos(lm, x_or_y, i, 2))\n",
    "addrole(positionmodel, \"xposscreen\", xy -> getscreenpos(xy,1), (lm, x_or_y, i) -> setscreenpos(lm, x_or_y, i, 1))\n",
    "addrole(positionmodel, \"yposscreen\", xy -> getscreenpos(xy,2), (lm, x_or_y, i) -> setscreenpos(lm, x_or_y, i, 2))\n",
    "\n",
    "# Render function that takes a parameter t from a QML slider\n",
    "function render_function(screen)\n",
    "  display(screen, plotscene)\n",
    "  if needupdate[] # The screen positions change if a resize happens and are unknown before the first render\n",
    "    QML.force_model_update(positionmodel)\n",
    "    needupdate[] = false\n",
    "  end\n",
    "  return\n",
    "end\n",
    "\n",
    "load(joinpath(\"makie.qml\"),\n",
    "  positionModel = positionmodel,\n",
    "  updates = JuliaPropertyMap(\"needupdate\" => needupdate),\n",
    "  render_callback = @safe_cfunction(render_function, Cvoid, (Any,))\n",
    ")\n",
    "exec()\n"
   ]
  },
  {
   "cell_type": "code",
   "execution_count": null,
   "id": "8575f5c3",
   "metadata": {},
   "outputs": [],
   "source": []
  },
  {
   "cell_type": "code",
   "execution_count": null,
   "id": "04eac2f6",
   "metadata": {},
   "outputs": [],
   "source": []
  }
 ],
 "metadata": {
  "kernelspec": {
   "display_name": "Julia 1.7.2",
   "language": "julia",
   "name": "julia-1.7"
  },
  "language_info": {
   "file_extension": ".jl",
   "mimetype": "application/julia",
   "name": "julia",
   "version": "1.7.2"
  }
 },
 "nbformat": 4,
 "nbformat_minor": 5
}
